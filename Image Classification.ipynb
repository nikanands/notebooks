{
 "cells": [
  {
   "cell_type": "code",
   "execution_count": 1,
   "id": "47e1634f",
   "metadata": {},
   "outputs": [
    {
     "name": "stderr",
     "output_type": "stream",
     "text": [
      "2022-10-03 15:26:09.638692: I tensorflow/core/platform/cpu_feature_guard.cc:193] This TensorFlow binary is optimized with oneAPI Deep Neural Network Library (oneDNN) to use the following CPU instructions in performance-critical operations:  AVX2 FMA\n",
      "To enable them in other operations, rebuild TensorFlow with the appropriate compiler flags.\n"
     ]
    }
   ],
   "source": [
    "import pandas as pd\n",
    "import numpy as np\n",
    "import matplotlib.pyplot as plt\n",
    "\n",
    "from tqdm import tqdm\n",
    "from tensorflow.keras.preprocessing import image\n",
    "from tensorflow.keras.models import Sequential\n",
    "from tensorflow.keras.layers import Dense, Dropout, Flatten, Conv2D, MaxPool2D\n",
    "from tensorflow.keras.optimizers import Adam\n",
    "from sklearn.preprocessing import label_binarize\n",
    "from sklearn.model_selection import train_test_split"
   ]
  },
  {
   "cell_type": "code",
   "execution_count": 2,
   "id": "f83ad41b",
   "metadata": {},
   "outputs": [],
   "source": [
    "labels_df = pd.read_csv('/Users/nikhil/Downloads/archive/labels.csv')"
   ]
  },
  {
   "cell_type": "code",
   "execution_count": 3,
   "id": "b80429a2",
   "metadata": {},
   "outputs": [
    {
     "data": {
      "text/plain": [
       "scottish_deerhound      126\n",
       "maltese_dog             117\n",
       "afghan_hound            116\n",
       "entlebucher             115\n",
       "bernese_mountain_dog    114\n",
       "Name: breed, dtype: int64"
      ]
     },
     "execution_count": 3,
     "metadata": {},
     "output_type": "execute_result"
    }
   ],
   "source": [
    "breeds = labels_df['breed'].value_counts()\n",
    "breeds.head()"
   ]
  },
  {
   "cell_type": "code",
   "execution_count": 4,
   "id": "f59e55a1",
   "metadata": {},
   "outputs": [
    {
     "data": {
      "text/html": [
       "<div>\n",
       "<style scoped>\n",
       "    .dataframe tbody tr th:only-of-type {\n",
       "        vertical-align: middle;\n",
       "    }\n",
       "\n",
       "    .dataframe tbody tr th {\n",
       "        vertical-align: top;\n",
       "    }\n",
       "\n",
       "    .dataframe thead th {\n",
       "        text-align: right;\n",
       "    }\n",
       "</style>\n",
       "<table border=\"1\" class=\"dataframe\">\n",
       "  <thead>\n",
       "    <tr style=\"text-align: right;\">\n",
       "      <th></th>\n",
       "      <th>index</th>\n",
       "      <th>id</th>\n",
       "      <th>breed</th>\n",
       "    </tr>\n",
       "  </thead>\n",
       "  <tbody>\n",
       "    <tr>\n",
       "      <th>0</th>\n",
       "      <td>9</td>\n",
       "      <td>0042188c895a2f14ef64a918ed9c7b64</td>\n",
       "      <td>scottish_deerhound</td>\n",
       "    </tr>\n",
       "    <tr>\n",
       "      <th>1</th>\n",
       "      <td>12</td>\n",
       "      <td>00693b8bc2470375cc744a6391d397ec</td>\n",
       "      <td>maltese_dog</td>\n",
       "    </tr>\n",
       "    <tr>\n",
       "      <th>2</th>\n",
       "      <td>79</td>\n",
       "      <td>01e787576c003930f96c966f9c3e1d44</td>\n",
       "      <td>scottish_deerhound</td>\n",
       "    </tr>\n",
       "    <tr>\n",
       "      <th>3</th>\n",
       "      <td>80</td>\n",
       "      <td>01ee3c7ff9bcaba9874183135877670e</td>\n",
       "      <td>entlebucher</td>\n",
       "    </tr>\n",
       "    <tr>\n",
       "      <th>4</th>\n",
       "      <td>88</td>\n",
       "      <td>021b5a49189665c0442c19b5b33e8cf1</td>\n",
       "      <td>entlebucher</td>\n",
       "    </tr>\n",
       "  </tbody>\n",
       "</table>\n",
       "</div>"
      ],
      "text/plain": [
       "   index                                id               breed\n",
       "0      9  0042188c895a2f14ef64a918ed9c7b64  scottish_deerhound\n",
       "1     12  00693b8bc2470375cc744a6391d397ec         maltese_dog\n",
       "2     79  01e787576c003930f96c966f9c3e1d44  scottish_deerhound\n",
       "3     80  01ee3c7ff9bcaba9874183135877670e         entlebucher\n",
       "4     88  021b5a49189665c0442c19b5b33e8cf1         entlebucher"
      ]
     },
     "execution_count": 4,
     "metadata": {},
     "output_type": "execute_result"
    }
   ],
   "source": [
    "breed_names = ['scottish_deerhound','maltese_dog','bernese_mountain_dog','entlebucher','afghan_hound']\n",
    "# \n",
    "labels = labels_df[(labels_df['breed'].isin(breed_names))]\n",
    "labels = labels.reset_index()\n",
    "labels.head()"
   ]
  },
  {
   "cell_type": "code",
   "execution_count": 5,
   "id": "b3c18009",
   "metadata": {},
   "outputs": [
    {
     "name": "stderr",
     "output_type": "stream",
     "text": [
      "100%|████████████████████████████████████████| 588/588 [00:03<00:00, 152.31it/s]"
     ]
    },
    {
     "name": "stdout",
     "output_type": "stream",
     "text": [
      "/nTrain image shape (588, 224, 224, 3) size: 88,510,464\n",
      "One hot encoded shape (588, 5) size: 88,510,464\n"
     ]
    },
    {
     "name": "stderr",
     "output_type": "stream",
     "text": [
      "\n"
     ]
    }
   ],
   "source": [
    "X_data = np.zeros((len(labels), 224, 224, 3), dtype='float32')\n",
    "Y_data = label_binarize(labels['breed'], classes=breed_names)\n",
    "\n",
    "for i in tqdm(range(len(labels))):\n",
    "    img = image.load_img('/Users/nikhil/Downloads/archive/train/%s.jpg' % labels['id'][i], target_size=(224, 224) )\n",
    "    img = image.img_to_array(img)\n",
    "    x = np.expand_dims(img.copy(), axis=0)\n",
    "    X_data[i] = x/255.0\n",
    "    \n",
    "print('/nTrain image shape', X_data.shape, 'size: {:,}'.format(X_data.size))\n",
    "print('One hot encoded shape', Y_data.shape, 'size: {:,}'.format(X_data.size))"
   ]
  },
  {
   "cell_type": "code",
   "execution_count": 6,
   "id": "f9074f34",
   "metadata": {},
   "outputs": [
    {
     "name": "stderr",
     "output_type": "stream",
     "text": [
      "2022-10-03 15:26:23.680381: I tensorflow/core/platform/cpu_feature_guard.cc:193] This TensorFlow binary is optimized with oneAPI Deep Neural Network Library (oneDNN) to use the following CPU instructions in performance-critical operations:  AVX2 FMA\n",
      "To enable them in other operations, rebuild TensorFlow with the appropriate compiler flags.\n"
     ]
    },
    {
     "name": "stdout",
     "output_type": "stream",
     "text": [
      "Model: \"sequential\"\n",
      "_________________________________________________________________\n",
      " Layer (type)                Output Shape              Param #   \n",
      "=================================================================\n",
      " conv2d (Conv2D)             (None, 220, 220, 64)      4864      \n",
      "                                                                 \n",
      " max_pooling2d (MaxPooling2D  (None, 110, 110, 64)     0         \n",
      " )                                                               \n",
      "                                                                 \n",
      " conv2d_1 (Conv2D)           (None, 108, 108, 32)      18464     \n",
      "                                                                 \n",
      " max_pooling2d_1 (MaxPooling  (None, 54, 54, 32)       0         \n",
      " 2D)                                                             \n",
      "                                                                 \n",
      " conv2d_2 (Conv2D)           (None, 48, 48, 16)        25104     \n",
      "                                                                 \n",
      " max_pooling2d_2 (MaxPooling  (None, 24, 24, 16)       0         \n",
      " 2D)                                                             \n",
      "                                                                 \n",
      " conv2d_3 (Conv2D)           (None, 20, 20, 8)         3208      \n",
      "                                                                 \n",
      " max_pooling2d_3 (MaxPooling  (None, 10, 10, 8)        0         \n",
      " 2D)                                                             \n",
      "                                                                 \n",
      " flatten (Flatten)           (None, 800)               0         \n",
      "                                                                 \n",
      " dense (Dense)               (None, 128)               102528    \n",
      "                                                                 \n",
      " dense_1 (Dense)             (None, 64)                8256      \n",
      "                                                                 \n",
      " dense_2 (Dense)             (None, 5)                 325       \n",
      "                                                                 \n",
      "=================================================================\n",
      "Total params: 162,749\n",
      "Trainable params: 162,749\n",
      "Non-trainable params: 0\n",
      "_________________________________________________________________\n"
     ]
    }
   ],
   "source": [
    "model = Sequential()\n",
    "\n",
    "# model.add(Conv2D(filters=128, kernel_size=(7,7), activation='relu', input_shape=(224,224,3)))\n",
    "# model.add(MaxPool2D(pool_size=(2,2)))\n",
    "\n",
    "model.add(Conv2D(filters=64, kernel_size=(5,5), activation='relu', input_shape=(224,224,3)))\n",
    "model.add(MaxPool2D(pool_size=(2,2)))\n",
    "\n",
    "model.add(Conv2D(filters=32, kernel_size=(3,3), activation='relu', kernel_regularizer='l2'))\n",
    "model.add(MaxPool2D(pool_size=(2,2)))\n",
    "\n",
    "model.add(Conv2D(filters=16, kernel_size=(7,7), activation='relu', kernel_regularizer='l2'))\n",
    "model.add(MaxPool2D(pool_size=(2,2)))\n",
    "\n",
    "model.add(Conv2D(filters=8, kernel_size=(5,5), activation='relu', kernel_regularizer='l2'))\n",
    "model.add(MaxPool2D(pool_size=(2,2)))\n",
    "\n",
    "model.add(Flatten())\n",
    "model.add(Dense(128, activation='relu', kernel_regularizer='l2'))\n",
    "model.add(Dense(64, activation='relu', kernel_regularizer='l2'))\n",
    "model.add(Dense(len(breed_names), activation='softmax'))\n",
    "\n",
    "model.compile(loss='categorical_crossentropy', optimizer=Adam(0.00001), metrics=['accuracy'])\n",
    "\n",
    "model.summary()"
   ]
  },
  {
   "cell_type": "code",
   "execution_count": 7,
   "id": "55f412b1",
   "metadata": {},
   "outputs": [],
   "source": [
    "X_train_val, X_test, Y_train_val, Y_test = train_test_split(X_data, Y_data, test_size=0.1)\n",
    "\n",
    "X_train, X_val, Y_train, Y_val = train_test_split(X_train_val, Y_train_val, test_size=0.2)"
   ]
  },
  {
   "cell_type": "code",
   "execution_count": null,
   "id": "107492a1",
   "metadata": {},
   "outputs": [
    {
     "name": "stdout",
     "output_type": "stream",
     "text": [
      "Epoch 1/100\n",
      "4/4 [==============================] - 60s 12s/step - loss: 5.4163 - accuracy: 0.2033 - val_loss: 5.4122 - val_accuracy: 0.1604\n",
      "Epoch 2/100\n",
      "4/4 [==============================] - 48s 11s/step - loss: 5.4110 - accuracy: 0.2246 - val_loss: 5.4073 - val_accuracy: 0.1887\n",
      "Epoch 3/100\n",
      "4/4 [==============================] - 68s 18s/step - loss: 5.4059 - accuracy: 0.2270 - val_loss: 5.4024 - val_accuracy: 0.1981\n",
      "Epoch 4/100\n",
      "4/4 [==============================] - 59s 13s/step - loss: 5.4009 - accuracy: 0.2364 - val_loss: 5.3977 - val_accuracy: 0.1981\n",
      "Epoch 5/100\n",
      "4/4 [==============================] - 62s 14s/step - loss: 5.3959 - accuracy: 0.2388 - val_loss: 5.3929 - val_accuracy: 0.2075\n",
      "Epoch 6/100\n",
      "4/4 [==============================] - 60s 14s/step - loss: 5.3909 - accuracy: 0.2577 - val_loss: 5.3882 - val_accuracy: 0.2547\n",
      "Epoch 7/100\n",
      "4/4 [==============================] - 62s 14s/step - loss: 5.3859 - accuracy: 0.2648 - val_loss: 5.3834 - val_accuracy: 0.2547\n",
      "Epoch 8/100\n",
      "4/4 [==============================] - 53s 12s/step - loss: 5.3810 - accuracy: 0.2695 - val_loss: 5.3787 - val_accuracy: 0.2547\n",
      "Epoch 9/100\n",
      "4/4 [==============================] - 55s 13s/step - loss: 5.3761 - accuracy: 0.2908 - val_loss: 5.3740 - val_accuracy: 0.2547\n",
      "Epoch 10/100\n",
      "4/4 [==============================] - 61s 14s/step - loss: 5.3712 - accuracy: 0.2979 - val_loss: 5.3694 - val_accuracy: 0.3019\n",
      "Epoch 11/100\n",
      "4/4 [==============================] - 58s 13s/step - loss: 5.3663 - accuracy: 0.3002 - val_loss: 5.3647 - val_accuracy: 0.3019\n",
      "Epoch 12/100\n",
      "4/4 [==============================] - 64s 15s/step - loss: 5.3614 - accuracy: 0.2931 - val_loss: 5.3601 - val_accuracy: 0.3113\n",
      "Epoch 13/100\n",
      "4/4 [==============================] - 61s 14s/step - loss: 5.3565 - accuracy: 0.2955 - val_loss: 5.3554 - val_accuracy: 0.3113\n",
      "Epoch 14/100\n",
      "4/4 [==============================] - 61s 14s/step - loss: 5.3516 - accuracy: 0.3002 - val_loss: 5.3508 - val_accuracy: 0.2925\n",
      "Epoch 15/100\n",
      "4/4 [==============================] - 65s 15s/step - loss: 5.3468 - accuracy: 0.3050 - val_loss: 5.3461 - val_accuracy: 0.3019\n",
      "Epoch 16/100\n",
      "4/4 [==============================] - 68s 16s/step - loss: 5.3419 - accuracy: 0.3097 - val_loss: 5.3416 - val_accuracy: 0.3019\n",
      "Epoch 17/100\n",
      "4/4 [==============================] - 70s 17s/step - loss: 5.3370 - accuracy: 0.3097 - val_loss: 5.3370 - val_accuracy: 0.3019\n",
      "Epoch 18/100\n",
      "4/4 [==============================] - 66s 16s/step - loss: 5.3322 - accuracy: 0.3144 - val_loss: 5.3325 - val_accuracy: 0.3019\n",
      "Epoch 19/100\n",
      "4/4 [==============================] - 63s 15s/step - loss: 5.3274 - accuracy: 0.3026 - val_loss: 5.3279 - val_accuracy: 0.3113\n",
      "Epoch 20/100\n",
      "4/4 [==============================] - 66s 16s/step - loss: 5.3225 - accuracy: 0.3097 - val_loss: 5.3231 - val_accuracy: 0.3113\n",
      "Epoch 21/100\n",
      "4/4 [==============================] - 67s 16s/step - loss: 5.3177 - accuracy: 0.3026 - val_loss: 5.3182 - val_accuracy: 0.3208\n",
      "Epoch 22/100\n",
      "4/4 [==============================] - 66s 15s/step - loss: 5.3130 - accuracy: 0.3144 - val_loss: 5.3134 - val_accuracy: 0.3208\n",
      "Epoch 23/100\n",
      "4/4 [==============================] - 59s 14s/step - loss: 5.3081 - accuracy: 0.3239 - val_loss: 5.3088 - val_accuracy: 0.3113\n",
      "Epoch 24/100\n",
      "4/4 [==============================] - 71s 16s/step - loss: 5.3034 - accuracy: 0.3239 - val_loss: 5.3040 - val_accuracy: 0.3113\n",
      "Epoch 25/100\n",
      "4/4 [==============================] - 65s 16s/step - loss: 5.2986 - accuracy: 0.3286 - val_loss: 5.2994 - val_accuracy: 0.3113\n",
      "Epoch 26/100\n",
      "4/4 [==============================] - 67s 16s/step - loss: 5.2939 - accuracy: 0.3310 - val_loss: 5.2947 - val_accuracy: 0.3113\n",
      "Epoch 27/100\n",
      "4/4 [==============================] - 68s 16s/step - loss: 5.2891 - accuracy: 0.3310 - val_loss: 5.2901 - val_accuracy: 0.3208\n",
      "Epoch 28/100\n",
      "4/4 [==============================] - 59s 14s/step - loss: 5.2843 - accuracy: 0.3286 - val_loss: 5.2855 - val_accuracy: 0.3208\n",
      "Epoch 29/100\n",
      "4/4 [==============================] - 64s 15s/step - loss: 5.2795 - accuracy: 0.3333 - val_loss: 5.2811 - val_accuracy: 0.3208\n",
      "Epoch 30/100\n",
      "4/4 [==============================] - 65s 16s/step - loss: 5.2748 - accuracy: 0.3215 - val_loss: 5.2768 - val_accuracy: 0.3302\n",
      "Epoch 31/100\n",
      "4/4 [==============================] - 67s 15s/step - loss: 5.2700 - accuracy: 0.3026 - val_loss: 5.2724 - val_accuracy: 0.3208\n",
      "Epoch 32/100\n",
      "4/4 [==============================] - 65s 15s/step - loss: 5.2654 - accuracy: 0.3002 - val_loss: 5.2682 - val_accuracy: 0.3019\n",
      "Epoch 33/100\n",
      "4/4 [==============================] - 67s 16s/step - loss: 5.2607 - accuracy: 0.3002 - val_loss: 5.2636 - val_accuracy: 0.2925\n",
      "Epoch 34/100\n",
      "4/4 [==============================] - 65s 16s/step - loss: 5.2559 - accuracy: 0.2861 - val_loss: 5.2591 - val_accuracy: 0.2830\n",
      "Epoch 35/100\n",
      "4/4 [==============================] - 64s 15s/step - loss: 5.2512 - accuracy: 0.2931 - val_loss: 5.2543 - val_accuracy: 0.2830\n",
      "Epoch 36/100\n",
      "4/4 [==============================] - 65s 16s/step - loss: 5.2464 - accuracy: 0.2955 - val_loss: 5.2495 - val_accuracy: 0.2925\n",
      "Epoch 37/100\n",
      "4/4 [==============================] - 62s 15s/step - loss: 5.2417 - accuracy: 0.2955 - val_loss: 5.2448 - val_accuracy: 0.3019\n",
      "Epoch 38/100\n",
      "4/4 [==============================] - 61s 14s/step - loss: 5.2370 - accuracy: 0.3026 - val_loss: 5.2402 - val_accuracy: 0.3019\n",
      "Epoch 39/100\n",
      "4/4 [==============================] - 67s 15s/step - loss: 5.2323 - accuracy: 0.3002 - val_loss: 5.2355 - val_accuracy: 0.3113\n",
      "Epoch 40/100\n",
      "4/4 [==============================] - 67s 16s/step - loss: 5.2276 - accuracy: 0.3097 - val_loss: 5.2309 - val_accuracy: 0.3113\n",
      "Epoch 41/100\n",
      "4/4 [==============================] - 66s 15s/step - loss: 5.2229 - accuracy: 0.3121 - val_loss: 5.2265 - val_accuracy: 0.3113\n",
      "Epoch 42/100\n",
      "4/4 [==============================] - 60s 14s/step - loss: 5.2182 - accuracy: 0.3026 - val_loss: 5.2219 - val_accuracy: 0.3113\n",
      "Epoch 43/100\n",
      "4/4 [==============================] - 69s 17s/step - loss: 5.2136 - accuracy: 0.3050 - val_loss: 5.2172 - val_accuracy: 0.3208\n",
      "Epoch 44/100\n",
      "4/4 [==============================] - 69s 15s/step - loss: 5.2089 - accuracy: 0.3050 - val_loss: 5.2129 - val_accuracy: 0.3208\n",
      "Epoch 45/100\n",
      "4/4 [==============================] - 85s 19s/step - loss: 5.2042 - accuracy: 0.2979 - val_loss: 5.2085 - val_accuracy: 0.3019\n",
      "Epoch 46/100\n",
      "4/4 [==============================] - 67s 16s/step - loss: 5.1996 - accuracy: 0.3002 - val_loss: 5.2042 - val_accuracy: 0.2830\n",
      "Epoch 47/100\n",
      "4/4 [==============================] - 68s 16s/step - loss: 5.1949 - accuracy: 0.3002 - val_loss: 5.1996 - val_accuracy: 0.3113\n",
      "Epoch 48/100\n",
      "4/4 [==============================] - 52s 12s/step - loss: 5.1903 - accuracy: 0.3026 - val_loss: 5.1953 - val_accuracy: 0.2736\n",
      "Epoch 49/100\n",
      "4/4 [==============================] - 49s 12s/step - loss: 5.1857 - accuracy: 0.2979 - val_loss: 5.1910 - val_accuracy: 0.2736\n",
      "Epoch 50/100\n",
      "4/4 [==============================] - 48s 11s/step - loss: 5.1810 - accuracy: 0.2955 - val_loss: 5.1868 - val_accuracy: 0.2642\n",
      "Epoch 51/100\n",
      "4/4 [==============================] - 54s 13s/step - loss: 5.1764 - accuracy: 0.2931 - val_loss: 5.1825 - val_accuracy: 0.2642\n",
      "Epoch 52/100\n",
      "4/4 [==============================] - 51s 12s/step - loss: 5.1718 - accuracy: 0.2908 - val_loss: 5.1782 - val_accuracy: 0.2547\n",
      "Epoch 53/100\n",
      "4/4 [==============================] - 50s 11s/step - loss: 5.1672 - accuracy: 0.2884 - val_loss: 5.1740 - val_accuracy: 0.2547\n",
      "Epoch 54/100\n",
      "4/4 [==============================] - 50s 11s/step - loss: 5.1625 - accuracy: 0.2861 - val_loss: 5.1693 - val_accuracy: 0.2547\n",
      "Epoch 55/100\n",
      "4/4 [==============================] - 50s 12s/step - loss: 5.1579 - accuracy: 0.2931 - val_loss: 5.1646 - val_accuracy: 0.2736\n",
      "Epoch 56/100\n",
      "4/4 [==============================] - 50s 12s/step - loss: 5.1532 - accuracy: 0.2884 - val_loss: 5.1600 - val_accuracy: 0.2736\n",
      "Epoch 57/100\n",
      "4/4 [==============================] - 50s 12s/step - loss: 5.1486 - accuracy: 0.2861 - val_loss: 5.1555 - val_accuracy: 0.2736\n",
      "Epoch 58/100\n",
      "4/4 [==============================] - 50s 12s/step - loss: 5.1439 - accuracy: 0.2931 - val_loss: 5.1509 - val_accuracy: 0.2736\n",
      "Epoch 59/100\n"
     ]
    },
    {
     "name": "stdout",
     "output_type": "stream",
     "text": [
      "4/4 [==============================] - 49s 12s/step - loss: 5.1393 - accuracy: 0.2908 - val_loss: 5.1462 - val_accuracy: 0.2830\n",
      "Epoch 60/100\n",
      "4/4 [==============================] - 49s 11s/step - loss: 5.1347 - accuracy: 0.2931 - val_loss: 5.1415 - val_accuracy: 0.2925\n",
      "Epoch 61/100\n",
      "4/4 [==============================] - 50s 12s/step - loss: 5.1301 - accuracy: 0.2955 - val_loss: 5.1372 - val_accuracy: 0.2830\n",
      "Epoch 62/100\n",
      "4/4 [==============================] - 49s 12s/step - loss: 5.1254 - accuracy: 0.2931 - val_loss: 5.1329 - val_accuracy: 0.2736\n",
      "Epoch 63/100\n",
      "4/4 [==============================] - 49s 12s/step - loss: 5.1209 - accuracy: 0.2931 - val_loss: 5.1286 - val_accuracy: 0.2736\n",
      "Epoch 64/100\n",
      "4/4 [==============================] - 51s 12s/step - loss: 5.1162 - accuracy: 0.2884 - val_loss: 5.1240 - val_accuracy: 0.2736\n",
      "Epoch 65/100\n",
      "4/4 [==============================] - 50s 12s/step - loss: 5.1115 - accuracy: 0.2931 - val_loss: 5.1190 - val_accuracy: 0.2830\n",
      "Epoch 66/100\n",
      "4/4 [==============================] - 279s 88s/step - loss: 5.1067 - accuracy: 0.2884 - val_loss: 5.1140 - val_accuracy: 0.3019\n",
      "Epoch 67/100\n",
      "4/4 [==============================] - 297s 95s/step - loss: 5.1020 - accuracy: 0.2979 - val_loss: 5.1087 - val_accuracy: 0.3208\n",
      "Epoch 68/100\n",
      "4/4 [==============================] - 84s 18s/step - loss: 5.0974 - accuracy: 0.3050 - val_loss: 5.1040 - val_accuracy: 0.3113\n",
      "Epoch 69/100\n",
      "2/4 [==============>...............] - ETA: 28s - loss: 5.0939 - accuracy: 0.3164"
     ]
    }
   ],
   "source": [
    "#training data\n",
    "epochs = 100\n",
    "batch_size = 128\n",
    "\n",
    "fitted_model = model.fit(X_train, Y_train, batch_size=batch_size, epochs=epochs,\n",
    "                        validation_data= (X_val, Y_val))"
   ]
  },
  {
   "cell_type": "code",
   "execution_count": null,
   "id": "44eaaf69",
   "metadata": {},
   "outputs": [],
   "source": [
    "plt.figure(figsize=(12,5))\n",
    "plt.plot(fitted_model.history['accuracy'], color='r')\n",
    "plt.plot(fitted_model.history['val_accuracy'], color='b')\n",
    "plt.legend(['train', 'val'])\n",
    "plt.show()"
   ]
  },
  {
   "cell_type": "code",
   "execution_count": null,
   "id": "f405cb36",
   "metadata": {},
   "outputs": [],
   "source": [
    "Y_pred = model.predict(X_test)\n",
    "score = model.evaluate(X_test, Y_test)\n",
    "print(round((score[1]*100), 2), '%')"
   ]
  },
  {
   "cell_type": "code",
   "execution_count": null,
   "id": "52f13eae",
   "metadata": {},
   "outputs": [],
   "source": [
    "plt.imshow(X_test[1,:,:,:])\n",
    "plt.show()\n",
    "print('Originally: ' , labels['breed'][np.argmax(Y_test[1])])\n",
    "print('Predicted: ' , labels['breed'][np.argmax(Y_pred[1])])"
   ]
  },
  {
   "cell_type": "code",
   "execution_count": null,
   "id": "20faede5",
   "metadata": {},
   "outputs": [],
   "source": []
  }
 ],
 "metadata": {
  "kernelspec": {
   "display_name": "Python 3 (ipykernel)",
   "language": "python",
   "name": "python3"
  },
  "language_info": {
   "codemirror_mode": {
    "name": "ipython",
    "version": 3
   },
   "file_extension": ".py",
   "mimetype": "text/x-python",
   "name": "python",
   "nbconvert_exporter": "python",
   "pygments_lexer": "ipython3",
   "version": "3.9.13"
  }
 },
 "nbformat": 4,
 "nbformat_minor": 5
}
