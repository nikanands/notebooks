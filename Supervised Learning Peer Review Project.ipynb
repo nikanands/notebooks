{
  "nbformat": 4,
  "nbformat_minor": 0,
  "metadata": {
    "colab": {
      "provenance": []
    },
    "kernelspec": {
      "name": "python3",
      "display_name": "Python 3"
    },
    "language_info": {
      "name": "python"
    }
  },
  "cells": [
    {
      "cell_type": "markdown",
      "source": [
        "#**Summary**\n",
        "\n",
        "The dataset is collected from \"*data.mendeley.com*\". The dataset is about \"*The Impact of Covid-19 Pandemic on the Global Economy: Emphasis on Poverty Alleviation and Economic Growth*\". The data here shows us the impact of Covid-19 on the global economy including 210 countries.\n",
        "\n",
        "\n",
        "The main objective of this analysis is prediction. In this project, we will try different linear regression algorithms to find relationship between common GDP and human development index and total number of death. We will then choose the best candidate algorithm from preliminary results. The goal with this is to create a model that  predicts how the global economy of each country is affected during Covid-19.\n",
        "\n",
        "\n",
        "---\n",
        "\n"
      ],
      "metadata": {
        "id": "jRpjFuXxoZy0"
      }
    },
    {
      "cell_type": "markdown",
      "source": [
        "## **Importing Libraries**"
      ],
      "metadata": {
        "id": "B8JEbs3qrFKe"
      }
    },
    {
      "cell_type": "code",
      "execution_count": 1,
      "metadata": {
        "id": "DMTp4P7MmjrD"
      },
      "outputs": [],
      "source": [
        "import numpy as np\n",
        "import pandas as pd\n",
        "import matplotlib.pyplot as plt\n",
        "import seaborn as sns\n",
        "from sklearn.model_selection import train_test_split, KFold, cross_val_predict\n",
        "from sklearn.preprocessing import StandardScaler, MinMaxScaler, PolynomialFeatures\n",
        "from sklearn.metrics import mean_squared_error, r2_score\n",
        "from sklearn.linear_model import LinearRegression, Lasso, LassoCV, Ridge, RidgeCV, ElasticNetCV\n",
        "from sklearn.pipeline import Pipeline\n",
        "\n",
        "import warnings\n",
        "warnings.filterwarnings('ignore', module='sklearn')"
      ]
    },
    {
      "cell_type": "markdown",
      "source": [
        "## Import Data"
      ],
      "metadata": {
        "id": "_ECY3vS-sGEB"
      }
    },
    {
      "cell_type": "code",
      "source": [
        "data = pd.read_excel(\"data.xlsx\")\n",
        "data"
      ],
      "metadata": {
        "colab": {
          "base_uri": "https://localhost:8080/",
          "height": 679
        },
        "id": "gXVuldNKq_-g",
        "outputId": "5c104a74-791f-477a-87a2-22407ee4e57a"
      },
      "execution_count": 2,
      "outputs": [
        {
          "output_type": "execute_result",
          "data": {
            "text/plain": [
              "      iso_code     location        date  total_cases  total_deaths  \\\n",
              "0          AFG  Afghanistan  2019-12-31          0.0           0.0   \n",
              "1          AFG  Afghanistan  2020-01-01          0.0           0.0   \n",
              "2          AFG  Afghanistan  2020-01-02          0.0           0.0   \n",
              "3          AFG  Afghanistan  2020-01-03          0.0           0.0   \n",
              "4          AFG  Afghanistan  2020-01-04          0.0           0.0   \n",
              "...        ...          ...         ...          ...           ...   \n",
              "50413      ZWE     Zimbabwe  2020-10-15       8055.0         231.0   \n",
              "50414      ZWE     Zimbabwe  2020-10-16       8075.0         231.0   \n",
              "50415      ZWE     Zimbabwe  2020-10-17       8099.0         231.0   \n",
              "50416      ZWE     Zimbabwe  2020-10-18       8110.0         231.0   \n",
              "50417      ZWE     Zimbabwe  2020-10-19       8147.0         231.0   \n",
              "\n",
              "       stringency_index  population  gdp_per_capita  human_development_index  \\\n",
              "0                  0.00    38928341        1803.987                    0.498   \n",
              "1                  0.00    38928341        1803.987                    0.498   \n",
              "2                  0.00    38928341        1803.987                    0.498   \n",
              "3                  0.00    38928341        1803.987                    0.498   \n",
              "4                  0.00    38928341        1803.987                    0.498   \n",
              "...                 ...         ...             ...                      ...   \n",
              "50413             76.85    14862927        1899.775                    0.535   \n",
              "50414             76.85    14862927        1899.775                    0.535   \n",
              "50415             76.85    14862927        1899.775                    0.535   \n",
              "50416             76.85    14862927        1899.775                    0.535   \n",
              "50417             76.85    14862927        1899.775                    0.535   \n",
              "\n",
              "       Unnamed: 9  Unnamed: 10  Unnamed: 11  Unnamed: 12  Unnamed: 13  \n",
              "0             NaN          NaN          NaN    17.477233     7.497754  \n",
              "1             NaN          NaN          NaN    17.477233     7.497754  \n",
              "2             NaN          NaN          NaN    17.477233     7.497754  \n",
              "3             NaN          NaN          NaN    17.477233     7.497754  \n",
              "4             NaN          NaN          NaN    17.477233     7.497754  \n",
              "...           ...          ...          ...          ...          ...  \n",
              "50413    8.994048     5.442418     4.341855    16.514381     7.549491  \n",
              "50414    8.996528     5.442418     4.341855    16.514381     7.549491  \n",
              "50415    8.999496     5.442418     4.341855    16.514381     7.549491  \n",
              "50416    9.000853     5.442418     4.341855    16.514381     7.549491  \n",
              "50417    9.005405     5.442418     4.341855    16.514381     7.549491  \n",
              "\n",
              "[50418 rows x 14 columns]"
            ],
            "text/html": [
              "\n",
              "  <div id=\"df-ad1b866c-d902-480b-a195-1775b918aa18\">\n",
              "    <div class=\"colab-df-container\">\n",
              "      <div>\n",
              "<style scoped>\n",
              "    .dataframe tbody tr th:only-of-type {\n",
              "        vertical-align: middle;\n",
              "    }\n",
              "\n",
              "    .dataframe tbody tr th {\n",
              "        vertical-align: top;\n",
              "    }\n",
              "\n",
              "    .dataframe thead th {\n",
              "        text-align: right;\n",
              "    }\n",
              "</style>\n",
              "<table border=\"1\" class=\"dataframe\">\n",
              "  <thead>\n",
              "    <tr style=\"text-align: right;\">\n",
              "      <th></th>\n",
              "      <th>iso_code</th>\n",
              "      <th>location</th>\n",
              "      <th>date</th>\n",
              "      <th>total_cases</th>\n",
              "      <th>total_deaths</th>\n",
              "      <th>stringency_index</th>\n",
              "      <th>population</th>\n",
              "      <th>gdp_per_capita</th>\n",
              "      <th>human_development_index</th>\n",
              "      <th>Unnamed: 9</th>\n",
              "      <th>Unnamed: 10</th>\n",
              "      <th>Unnamed: 11</th>\n",
              "      <th>Unnamed: 12</th>\n",
              "      <th>Unnamed: 13</th>\n",
              "    </tr>\n",
              "  </thead>\n",
              "  <tbody>\n",
              "    <tr>\n",
              "      <th>0</th>\n",
              "      <td>AFG</td>\n",
              "      <td>Afghanistan</td>\n",
              "      <td>2019-12-31</td>\n",
              "      <td>0.0</td>\n",
              "      <td>0.0</td>\n",
              "      <td>0.00</td>\n",
              "      <td>38928341</td>\n",
              "      <td>1803.987</td>\n",
              "      <td>0.498</td>\n",
              "      <td>NaN</td>\n",
              "      <td>NaN</td>\n",
              "      <td>NaN</td>\n",
              "      <td>17.477233</td>\n",
              "      <td>7.497754</td>\n",
              "    </tr>\n",
              "    <tr>\n",
              "      <th>1</th>\n",
              "      <td>AFG</td>\n",
              "      <td>Afghanistan</td>\n",
              "      <td>2020-01-01</td>\n",
              "      <td>0.0</td>\n",
              "      <td>0.0</td>\n",
              "      <td>0.00</td>\n",
              "      <td>38928341</td>\n",
              "      <td>1803.987</td>\n",
              "      <td>0.498</td>\n",
              "      <td>NaN</td>\n",
              "      <td>NaN</td>\n",
              "      <td>NaN</td>\n",
              "      <td>17.477233</td>\n",
              "      <td>7.497754</td>\n",
              "    </tr>\n",
              "    <tr>\n",
              "      <th>2</th>\n",
              "      <td>AFG</td>\n",
              "      <td>Afghanistan</td>\n",
              "      <td>2020-01-02</td>\n",
              "      <td>0.0</td>\n",
              "      <td>0.0</td>\n",
              "      <td>0.00</td>\n",
              "      <td>38928341</td>\n",
              "      <td>1803.987</td>\n",
              "      <td>0.498</td>\n",
              "      <td>NaN</td>\n",
              "      <td>NaN</td>\n",
              "      <td>NaN</td>\n",
              "      <td>17.477233</td>\n",
              "      <td>7.497754</td>\n",
              "    </tr>\n",
              "    <tr>\n",
              "      <th>3</th>\n",
              "      <td>AFG</td>\n",
              "      <td>Afghanistan</td>\n",
              "      <td>2020-01-03</td>\n",
              "      <td>0.0</td>\n",
              "      <td>0.0</td>\n",
              "      <td>0.00</td>\n",
              "      <td>38928341</td>\n",
              "      <td>1803.987</td>\n",
              "      <td>0.498</td>\n",
              "      <td>NaN</td>\n",
              "      <td>NaN</td>\n",
              "      <td>NaN</td>\n",
              "      <td>17.477233</td>\n",
              "      <td>7.497754</td>\n",
              "    </tr>\n",
              "    <tr>\n",
              "      <th>4</th>\n",
              "      <td>AFG</td>\n",
              "      <td>Afghanistan</td>\n",
              "      <td>2020-01-04</td>\n",
              "      <td>0.0</td>\n",
              "      <td>0.0</td>\n",
              "      <td>0.00</td>\n",
              "      <td>38928341</td>\n",
              "      <td>1803.987</td>\n",
              "      <td>0.498</td>\n",
              "      <td>NaN</td>\n",
              "      <td>NaN</td>\n",
              "      <td>NaN</td>\n",
              "      <td>17.477233</td>\n",
              "      <td>7.497754</td>\n",
              "    </tr>\n",
              "    <tr>\n",
              "      <th>...</th>\n",
              "      <td>...</td>\n",
              "      <td>...</td>\n",
              "      <td>...</td>\n",
              "      <td>...</td>\n",
              "      <td>...</td>\n",
              "      <td>...</td>\n",
              "      <td>...</td>\n",
              "      <td>...</td>\n",
              "      <td>...</td>\n",
              "      <td>...</td>\n",
              "      <td>...</td>\n",
              "      <td>...</td>\n",
              "      <td>...</td>\n",
              "      <td>...</td>\n",
              "    </tr>\n",
              "    <tr>\n",
              "      <th>50413</th>\n",
              "      <td>ZWE</td>\n",
              "      <td>Zimbabwe</td>\n",
              "      <td>2020-10-15</td>\n",
              "      <td>8055.0</td>\n",
              "      <td>231.0</td>\n",
              "      <td>76.85</td>\n",
              "      <td>14862927</td>\n",
              "      <td>1899.775</td>\n",
              "      <td>0.535</td>\n",
              "      <td>8.994048</td>\n",
              "      <td>5.442418</td>\n",
              "      <td>4.341855</td>\n",
              "      <td>16.514381</td>\n",
              "      <td>7.549491</td>\n",
              "    </tr>\n",
              "    <tr>\n",
              "      <th>50414</th>\n",
              "      <td>ZWE</td>\n",
              "      <td>Zimbabwe</td>\n",
              "      <td>2020-10-16</td>\n",
              "      <td>8075.0</td>\n",
              "      <td>231.0</td>\n",
              "      <td>76.85</td>\n",
              "      <td>14862927</td>\n",
              "      <td>1899.775</td>\n",
              "      <td>0.535</td>\n",
              "      <td>8.996528</td>\n",
              "      <td>5.442418</td>\n",
              "      <td>4.341855</td>\n",
              "      <td>16.514381</td>\n",
              "      <td>7.549491</td>\n",
              "    </tr>\n",
              "    <tr>\n",
              "      <th>50415</th>\n",
              "      <td>ZWE</td>\n",
              "      <td>Zimbabwe</td>\n",
              "      <td>2020-10-17</td>\n",
              "      <td>8099.0</td>\n",
              "      <td>231.0</td>\n",
              "      <td>76.85</td>\n",
              "      <td>14862927</td>\n",
              "      <td>1899.775</td>\n",
              "      <td>0.535</td>\n",
              "      <td>8.999496</td>\n",
              "      <td>5.442418</td>\n",
              "      <td>4.341855</td>\n",
              "      <td>16.514381</td>\n",
              "      <td>7.549491</td>\n",
              "    </tr>\n",
              "    <tr>\n",
              "      <th>50416</th>\n",
              "      <td>ZWE</td>\n",
              "      <td>Zimbabwe</td>\n",
              "      <td>2020-10-18</td>\n",
              "      <td>8110.0</td>\n",
              "      <td>231.0</td>\n",
              "      <td>76.85</td>\n",
              "      <td>14862927</td>\n",
              "      <td>1899.775</td>\n",
              "      <td>0.535</td>\n",
              "      <td>9.000853</td>\n",
              "      <td>5.442418</td>\n",
              "      <td>4.341855</td>\n",
              "      <td>16.514381</td>\n",
              "      <td>7.549491</td>\n",
              "    </tr>\n",
              "    <tr>\n",
              "      <th>50417</th>\n",
              "      <td>ZWE</td>\n",
              "      <td>Zimbabwe</td>\n",
              "      <td>2020-10-19</td>\n",
              "      <td>8147.0</td>\n",
              "      <td>231.0</td>\n",
              "      <td>76.85</td>\n",
              "      <td>14862927</td>\n",
              "      <td>1899.775</td>\n",
              "      <td>0.535</td>\n",
              "      <td>9.005405</td>\n",
              "      <td>5.442418</td>\n",
              "      <td>4.341855</td>\n",
              "      <td>16.514381</td>\n",
              "      <td>7.549491</td>\n",
              "    </tr>\n",
              "  </tbody>\n",
              "</table>\n",
              "<p>50418 rows × 14 columns</p>\n",
              "</div>\n",
              "      <button class=\"colab-df-convert\" onclick=\"convertToInteractive('df-ad1b866c-d902-480b-a195-1775b918aa18')\"\n",
              "              title=\"Convert this dataframe to an interactive table.\"\n",
              "              style=\"display:none;\">\n",
              "        \n",
              "  <svg xmlns=\"http://www.w3.org/2000/svg\" height=\"24px\"viewBox=\"0 0 24 24\"\n",
              "       width=\"24px\">\n",
              "    <path d=\"M0 0h24v24H0V0z\" fill=\"none\"/>\n",
              "    <path d=\"M18.56 5.44l.94 2.06.94-2.06 2.06-.94-2.06-.94-.94-2.06-.94 2.06-2.06.94zm-11 1L8.5 8.5l.94-2.06 2.06-.94-2.06-.94L8.5 2.5l-.94 2.06-2.06.94zm10 10l.94 2.06.94-2.06 2.06-.94-2.06-.94-.94-2.06-.94 2.06-2.06.94z\"/><path d=\"M17.41 7.96l-1.37-1.37c-.4-.4-.92-.59-1.43-.59-.52 0-1.04.2-1.43.59L10.3 9.45l-7.72 7.72c-.78.78-.78 2.05 0 2.83L4 21.41c.39.39.9.59 1.41.59.51 0 1.02-.2 1.41-.59l7.78-7.78 2.81-2.81c.8-.78.8-2.07 0-2.86zM5.41 20L4 18.59l7.72-7.72 1.47 1.35L5.41 20z\"/>\n",
              "  </svg>\n",
              "      </button>\n",
              "      \n",
              "  <style>\n",
              "    .colab-df-container {\n",
              "      display:flex;\n",
              "      flex-wrap:wrap;\n",
              "      gap: 12px;\n",
              "    }\n",
              "\n",
              "    .colab-df-convert {\n",
              "      background-color: #E8F0FE;\n",
              "      border: none;\n",
              "      border-radius: 50%;\n",
              "      cursor: pointer;\n",
              "      display: none;\n",
              "      fill: #1967D2;\n",
              "      height: 32px;\n",
              "      padding: 0 0 0 0;\n",
              "      width: 32px;\n",
              "    }\n",
              "\n",
              "    .colab-df-convert:hover {\n",
              "      background-color: #E2EBFA;\n",
              "      box-shadow: 0px 1px 2px rgba(60, 64, 67, 0.3), 0px 1px 3px 1px rgba(60, 64, 67, 0.15);\n",
              "      fill: #174EA6;\n",
              "    }\n",
              "\n",
              "    [theme=dark] .colab-df-convert {\n",
              "      background-color: #3B4455;\n",
              "      fill: #D2E3FC;\n",
              "    }\n",
              "\n",
              "    [theme=dark] .colab-df-convert:hover {\n",
              "      background-color: #434B5C;\n",
              "      box-shadow: 0px 1px 3px 1px rgba(0, 0, 0, 0.15);\n",
              "      filter: drop-shadow(0px 1px 2px rgba(0, 0, 0, 0.3));\n",
              "      fill: #FFFFFF;\n",
              "    }\n",
              "  </style>\n",
              "\n",
              "      <script>\n",
              "        const buttonEl =\n",
              "          document.querySelector('#df-ad1b866c-d902-480b-a195-1775b918aa18 button.colab-df-convert');\n",
              "        buttonEl.style.display =\n",
              "          google.colab.kernel.accessAllowed ? 'block' : 'none';\n",
              "\n",
              "        async function convertToInteractive(key) {\n",
              "          const element = document.querySelector('#df-ad1b866c-d902-480b-a195-1775b918aa18');\n",
              "          const dataTable =\n",
              "            await google.colab.kernel.invokeFunction('convertToInteractive',\n",
              "                                                     [key], {});\n",
              "          if (!dataTable) return;\n",
              "\n",
              "          const docLinkHtml = 'Like what you see? Visit the ' +\n",
              "            '<a target=\"_blank\" href=https://colab.research.google.com/notebooks/data_table.ipynb>data table notebook</a>'\n",
              "            + ' to learn more about interactive tables.';\n",
              "          element.innerHTML = '';\n",
              "          dataTable['output_type'] = 'display_data';\n",
              "          await google.colab.output.renderOutput(dataTable, element);\n",
              "          const docLink = document.createElement('div');\n",
              "          docLink.innerHTML = docLinkHtml;\n",
              "          element.appendChild(docLink);\n",
              "        }\n",
              "      </script>\n",
              "    </div>\n",
              "  </div>\n",
              "  "
            ]
          },
          "metadata": {},
          "execution_count": 2
        }
      ]
    },
    {
      "cell_type": "code",
      "source": [
        "data.shape"
      ],
      "metadata": {
        "colab": {
          "base_uri": "https://localhost:8080/",
          "height": 0
        },
        "id": "01oIf98xsyTN",
        "outputId": "a176007e-eaca-409a-ee81-037bea7080c6"
      },
      "execution_count": 3,
      "outputs": [
        {
          "output_type": "execute_result",
          "data": {
            "text/plain": [
              "(50418, 14)"
            ]
          },
          "metadata": {},
          "execution_count": 3
        }
      ]
    },
    {
      "cell_type": "markdown",
      "source": [
        "### **Data Exploration**"
      ],
      "metadata": {
        "id": "MU79aetgxp72"
      }
    },
    {
      "cell_type": "code",
      "source": [
        "data.info()"
      ],
      "metadata": {
        "colab": {
          "base_uri": "https://localhost:8080/",
          "height": 0
        },
        "id": "DnFakkqlwmzq",
        "outputId": "47d051a3-c9ec-414f-cd64-08a095871ea2"
      },
      "execution_count": 4,
      "outputs": [
        {
          "output_type": "stream",
          "name": "stdout",
          "text": [
            "<class 'pandas.core.frame.DataFrame'>\n",
            "RangeIndex: 50418 entries, 0 to 50417\n",
            "Data columns (total 14 columns):\n",
            " #   Column                   Non-Null Count  Dtype  \n",
            "---  ------                   --------------  -----  \n",
            " 0   iso_code                 50418 non-null  object \n",
            " 1   location                 50418 non-null  object \n",
            " 2   date                     50418 non-null  object \n",
            " 3   total_cases              47324 non-null  float64\n",
            " 4   total_deaths             39228 non-null  float64\n",
            " 5   stringency_index         43292 non-null  float64\n",
            " 6   population               50418 non-null  int64  \n",
            " 7   gdp_per_capita           44706 non-null  float64\n",
            " 8   human_development_index  44216 non-null  float64\n",
            " 9   Unnamed: 9               46824 non-null  float64\n",
            " 10  Unnamed: 10              38120 non-null  float64\n",
            " 11  Unnamed: 11              40376 non-null  float64\n",
            " 12  Unnamed: 12              50418 non-null  float64\n",
            " 13  Unnamed: 13              44706 non-null  float64\n",
            "dtypes: float64(10), int64(1), object(3)\n",
            "memory usage: 5.4+ MB\n"
          ]
        }
      ]
    },
    {
      "cell_type": "code",
      "source": [
        "# Let's Check Columns Name\n",
        "'Columns Name: ' + str(data.columns.tolist())"
      ],
      "metadata": {
        "colab": {
          "base_uri": "https://localhost:8080/",
          "height": 53
        },
        "id": "emSavdoAw29J",
        "outputId": "93add675-7fff-4b35-9dae-5b990d44ac2b"
      },
      "execution_count": 5,
      "outputs": [
        {
          "output_type": "execute_result",
          "data": {
            "text/plain": [
              "\"Columns Name: ['iso_code', 'location', 'date', 'total_cases', 'total_deaths', 'stringency_index', 'population', 'gdp_per_capita', 'human_development_index', 'Unnamed: 9', 'Unnamed: 10', 'Unnamed: 11', 'Unnamed: 12', 'Unnamed: 13']\""
            ],
            "application/vnd.google.colaboratory.intrinsic+json": {
              "type": "string"
            }
          },
          "metadata": {},
          "execution_count": 5
        }
      ]
    },
    {
      "cell_type": "code",
      "source": [
        "# Let's Find Number of Countries\n",
        "'Number of countries: ' + str(data['location'].nunique())"
      ],
      "metadata": {
        "colab": {
          "base_uri": "https://localhost:8080/",
          "height": 35
        },
        "id": "8IaaQ0Jf1Ndh",
        "outputId": "70db681b-79bc-4785-9995-5c4802b7eb26"
      },
      "execution_count": 6,
      "outputs": [
        {
          "output_type": "execute_result",
          "data": {
            "text/plain": [
              "'Number of countries: 210'"
            ],
            "application/vnd.google.colaboratory.intrinsic+json": {
              "type": "string"
            }
          },
          "metadata": {},
          "execution_count": 6
        }
      ]
    },
    {
      "cell_type": "code",
      "source": [
        "# Let's Find Columns and Missing Values in it\n",
        "print('Number of missing values: \\n' + str(data.isnull().sum()))"
      ],
      "metadata": {
        "colab": {
          "base_uri": "https://localhost:8080/",
          "height": 0
        },
        "id": "8_wVmRMl2ANc",
        "outputId": "2a3e8e03-6ac0-4721-ad98-eb63f241846d"
      },
      "execution_count": 7,
      "outputs": [
        {
          "output_type": "stream",
          "name": "stdout",
          "text": [
            "Number of missing values: \n",
            "iso_code                       0\n",
            "location                       0\n",
            "date                           0\n",
            "total_cases                 3094\n",
            "total_deaths               11190\n",
            "stringency_index            7126\n",
            "population                     0\n",
            "gdp_per_capita              5712\n",
            "human_development_index     6202\n",
            "Unnamed: 9                  3594\n",
            "Unnamed: 10                12298\n",
            "Unnamed: 11                10042\n",
            "Unnamed: 12                    0\n",
            "Unnamed: 13                 5712\n",
            "dtype: int64\n"
          ]
        }
      ]
    },
    {
      "cell_type": "markdown",
      "source": [
        "### **Let's get understanding of features**"
      ],
      "metadata": {
        "id": "Ur3T_Qt726pr"
      }
    },
    {
      "cell_type": "markdown",
      "source": [
        "iso_code = Country Code\n",
        "\n",
        "location = Country Name\n",
        "\n",
        "date = Date\n",
        "\n",
        "total_cases = Number of Covid-19 cases\n",
        "\n",
        "total_deaths = Number of deaths by Covid-19\n",
        "\n",
        "stringency_index = The Stringency Index provides a computable parameter to evaluate the effectiveness of the nationwide lockdown. It is used by the Oxford COVID-19 Government Response Tracker with a database of 17 indicators of government response such as school and workplace closings, public events, public transport, stay-at-home policies. The Stringency Index is a number from 0 to 100 that reflects these indicators. A higher index score indicates a higher level of stringency.\n",
        "\n",
        "population = Population of the country\n",
        "\n",
        "gdp_per_capita = A country's GDP or gross domestic product is calculated by taking into account the monetary worth of a nation's goods and services after a certain period of time, usually one year. It's a measure of economic activity.\n",
        "\n",
        "human_development_index = The Human Development Index (HDI) was created to emphasize that people and their capabilities should be the ultimate criteria for assessing the development of a country, not economic growth alone. The Human Development Index (HDI) is a summary measure of average achievement in key dimensions of human development: a long and healthy life, being knowledgeable and have a decent standard of living. The HDI is the geometric mean of normalized indices for each of the three dimensions.\n"
      ],
      "metadata": {
        "id": "Z96oq3qe3QGv"
      }
    },
    {
      "cell_type": "markdown",
      "source": [
        "### **Data Preparation**"
      ],
      "metadata": {
        "id": "j3wLr-Ch4lmX"
      }
    },
    {
      "cell_type": "markdown",
      "source": [
        "The following columns are unnamed and have high missing value so they are not much needed. Besides that there are some more columns which has missing values. Let's drop those columns."
      ],
      "metadata": {
        "id": "ojLYz7-K4wpI"
      }
    },
    {
      "cell_type": "code",
      "source": [
        "data = data.drop(['iso_code', 'Unnamed: 9', 'Unnamed: 10', 'Unnamed: 11', 'Unnamed: 12', 'Unnamed: 13'], axis = 1)"
      ],
      "metadata": {
        "id": "b5pc-jKG2Wxy"
      },
      "execution_count": 8,
      "outputs": []
    },
    {
      "cell_type": "code",
      "source": [
        "data = data.dropna(axis=0)\n",
        "data.isnull().sum()"
      ],
      "metadata": {
        "colab": {
          "base_uri": "https://localhost:8080/",
          "height": 0
        },
        "id": "hcYs7Dpx567z",
        "outputId": "a6d4f423-377e-4169-ee20-8eef607bd423"
      },
      "execution_count": 9,
      "outputs": [
        {
          "output_type": "execute_result",
          "data": {
            "text/plain": [
              "location                   0\n",
              "date                       0\n",
              "total_cases                0\n",
              "total_deaths               0\n",
              "stringency_index           0\n",
              "population                 0\n",
              "gdp_per_capita             0\n",
              "human_development_index    0\n",
              "dtype: int64"
            ]
          },
          "metadata": {},
          "execution_count": 9
        }
      ]
    },
    {
      "cell_type": "markdown",
      "source": [
        "This shows all missing values are removed and now we have clean data."
      ],
      "metadata": {
        "id": "Jkq0B-ku6LZB"
      }
    },
    {
      "cell_type": "code",
      "source": [
        "len(data)"
      ],
      "metadata": {
        "colab": {
          "base_uri": "https://localhost:8080/",
          "height": 0
        },
        "id": "-wbATJRT6Ev0",
        "outputId": "0cd17b34-e0c6-43db-9588-fbe3456e1d82"
      },
      "execution_count": 10,
      "outputs": [
        {
          "output_type": "execute_result",
          "data": {
            "text/plain": [
              "31518"
            ]
          },
          "metadata": {},
          "execution_count": 10
        }
      ]
    },
    {
      "cell_type": "markdown",
      "source": [
        "### Let's look at the correlation coefficient. A coefficient close to 1 means that there’s a very strong positive correlation between the two variables. The diagonal line is the correlation of the variables to themselves, that's why they are 1. \n",
        "Let's find how much and which features of our data correlated.\n"
      ],
      "metadata": {
        "id": "PJ7MMVlB68YO"
      }
    },
    {
      "cell_type": "code",
      "source": [
        "correlation = data.corr(method='pearson')\n",
        "fig = plt.subplots(figsize = (10, 4))\n",
        "sns.heatmap(correlation, \n",
        "            xticklabels=correlation.columns,\n",
        "            yticklabels=correlation.columns,\n",
        "            cmap='rocket',\n",
        "            annot=True,\n",
        "            linewidth=0.5)"
      ],
      "metadata": {
        "colab": {
          "base_uri": "https://localhost:8080/",
          "height": 414
        },
        "id": "TojLNgPS6KGj",
        "outputId": "ccac0a2e-3a6c-4953-f2de-5dc137a42309"
      },
      "execution_count": 11,
      "outputs": [
        {
          "output_type": "execute_result",
          "data": {
            "text/plain": [
              "<matplotlib.axes._subplots.AxesSubplot at 0x7fc589036110>"
            ]
          },
          "metadata": {},
          "execution_count": 11
        },
        {
          "output_type": "display_data",
          "data": {
            "text/plain": [
              "<Figure size 720x288 with 2 Axes>"
            ],
            "image/png": "[encoded data removed]"
          },
          "metadata": {
            "needs_background": "light"
          }
        }
      ]
    },
    {
      "cell_type": "markdown",
      "source": [
        "Here we can see that the Human Development Index (HDI) is strongly correlated to the GDP per Capita and total case to deaths. The population also has a strong correlation to the number of total cases and deaths. This is what we expected. A high population will have a higher number of cases and deaths. What we are looking for is the relationship between GDP per capita(or HDI) and total number of cases or deaths."
      ],
      "metadata": {
        "id": "ayDEYgm888xk"
      }
    },
    {
      "cell_type": "code",
      "source": [
        "plt.hist(data['gdp_per_capita'])"
      ],
      "metadata": {
        "colab": {
          "base_uri": "https://localhost:8080/",
          "height": 369
        },
        "id": "89RknSGH8tdH",
        "outputId": "f67b1354-1c99-409a-9cdc-393c8d629380"
      },
      "execution_count": 12,
      "outputs": [
        {
          "output_type": "execute_result",
          "data": {
            "text/plain": [
              "(array([14775.,  6275.,  4216.,  3536.,   875.,  1012.,   204.,   208.,\n",
              "          219.,   198.]),\n",
              " array([   661.24 ,  12288.676,  23916.112,  35543.548,  47170.984,\n",
              "         58798.42 ,  70425.856,  82053.292,  93680.728, 105308.164,\n",
              "        116935.6  ]),\n",
              " <a list of 10 Patch objects>)"
            ]
          },
          "metadata": {},
          "execution_count": 12
        },
        {
          "output_type": "display_data",
          "data": {
            "text/plain": [
              "<Figure size 432x288 with 1 Axes>"
            ],
            "image/png": "[encoded data removed]"
          },
          "metadata": {
            "needs_background": "light"
          }
        }
      ]
    },
    {
      "cell_type": "code",
      "source": [
        "plt.hist(data['total_cases'])"
      ],
      "metadata": {
        "colab": {
          "base_uri": "https://localhost:8080/",
          "height": 365
        },
        "id": "S6xasOH9-r6E",
        "outputId": "dcfb2aaf-d081-49b9-a6ed-b727f4f36465"
      },
      "execution_count": 13,
      "outputs": [
        {
          "output_type": "execute_result",
          "data": {
            "text/plain": [
              "(array([3.0978e+04, 2.4000e+02, 6.6000e+01, 4.6000e+01, 4.3000e+01,\n",
              "        4.2000e+01, 2.4000e+01, 2.8000e+01, 3.1000e+01, 2.0000e+01]),\n",
              " array([      0. ,  776254.4, 1552508.8, 2328763.2, 3105017.6, 3881272. ,\n",
              "        4657526.4, 5433780.8, 6210035.2, 6986289.6, 7762544. ]),\n",
              " <a list of 10 Patch objects>)"
            ]
          },
          "metadata": {},
          "execution_count": 13
        },
        {
          "output_type": "display_data",
          "data": {
            "text/plain": [
              "<Figure size 432x288 with 1 Axes>"
            ],
            "image/png": "[encoded data removed]"
          },
          "metadata": {
            "needs_background": "light"
          }
        }
      ]
    },
    {
      "cell_type": "code",
      "source": [
        "plt.hist(data['total_deaths'])"
      ],
      "metadata": {
        "colab": {
          "base_uri": "https://localhost:8080/",
          "height": 352
        },
        "id": "0mV_HNfn-22Z",
        "outputId": "834add61-d965-43a0-f460-f50bb9ef2e04"
      },
      "execution_count": 14,
      "outputs": [
        {
          "output_type": "execute_result",
          "data": {
            "text/plain": [
              "(array([3.0146e+04, 9.5700e+02, 9.1000e+01, 9.1000e+01, 6.2000e+01,\n",
              "        5.8000e+01, 3.8000e+01, 2.0000e+01, 2.5000e+01, 3.0000e+01]),\n",
              " array([     0. ,  21477.1,  42954.2,  64431.3,  85908.4, 107385.5,\n",
              "        128862.6, 150339.7, 171816.8, 193293.9, 214771. ]),\n",
              " <a list of 10 Patch objects>)"
            ]
          },
          "metadata": {},
          "execution_count": 14
        },
        {
          "output_type": "display_data",
          "data": {
            "text/plain": [
              "<Figure size 432x288 with 1 Axes>"
            ],
            "image/png": "[encoded data removed]"
          },
          "metadata": {
            "needs_background": "light"
          }
        }
      ]
    },
    {
      "cell_type": "code",
      "source": [
        "# Log Transforming the skewed features\n",
        "\n",
        "gdp_trans = data['gdp_per_capita'].apply(lambda x: np.log1p(x))\n",
        "total_deaths_trans = data['total_deaths'].apply(lambda x: np.log1p(x))\n",
        "total_cases_trans = data['total_cases'].apply(lambda x: np.log1p(x))"
      ],
      "metadata": {
        "id": "GB8QZQrg-9Cz"
      },
      "execution_count": 15,
      "outputs": []
    },
    {
      "cell_type": "code",
      "source": [
        "fig, (ax1, ax2) = plt.subplots(1,2, figsize=(12,6))\n",
        "ax1.hist(data['gdp_per_capita'])\n",
        "ax2.hist(gdp_trans)\n",
        "ax1.set_title('GDP Before Log Transformation')\n",
        "ax2.set_title('GDP After Log Transformation')\n",
        "ax1.set_ylabel('GDP per capita')"
      ],
      "metadata": {
        "colab": {
          "base_uri": "https://localhost:8080/",
          "height": 407
        },
        "id": "RCdOaIGxAUfu",
        "outputId": "98378104-2255-49c3-a83a-ebf1ae0c6d85"
      },
      "execution_count": 16,
      "outputs": [
        {
          "output_type": "execute_result",
          "data": {
            "text/plain": [
              "Text(0, 0.5, 'GDP per capita')"
            ]
          },
          "metadata": {},
          "execution_count": 16
        },
        {
          "output_type": "display_data",
          "data": {
            "text/plain": [
              "<Figure size 864x432 with 2 Axes>"
            ],
            "image/png": "[encoded data removed]"
          },
          "metadata": {
            "needs_background": "light"
          }
        }
      ]
    },
    {
      "cell_type": "code",
      "source": [
        "fig, (ax1, ax2) = plt.subplots(1,2, figsize=(12,6))\n",
        "ax1.hist(data['total_deaths'])\n",
        "ax2.hist(gdp_trans)\n",
        "ax1.set_title('Total Deaths Before Log Transformation')\n",
        "ax2.set_title('Total Deaths After Log Transformation')\n",
        "ax1.set_ylabel('Total Deaths')"
      ],
      "metadata": {
        "colab": {
          "base_uri": "https://localhost:8080/",
          "height": 407
        },
        "id": "vwQQE-8nBQe5",
        "outputId": "37eb93ad-e3af-4216-94a6-41d966addf95"
      },
      "execution_count": 17,
      "outputs": [
        {
          "output_type": "execute_result",
          "data": {
            "text/plain": [
              "Text(0, 0.5, 'Total Deaths')"
            ]
          },
          "metadata": {},
          "execution_count": 17
        },
        {
          "output_type": "display_data",
          "data": {
            "text/plain": [
              "<Figure size 864x432 with 2 Axes>"
            ],
            "image/png": "[encoded data removed]"
          },
          "metadata": {
            "needs_background": "light"
          }
        }
      ]
    },
    {
      "cell_type": "code",
      "source": [
        "fig, (ax1, ax2) = plt.subplots(1,2, figsize=(12,6))\n",
        "ax1.hist(data['total_cases'])\n",
        "ax2.hist(gdp_trans)\n",
        "ax1.set_title('Total Cases Before Log Transformation')\n",
        "ax2.set_title('Total Cases After Log Transformation')\n",
        "ax1.set_ylabel('Total Cases')"
      ],
      "metadata": {
        "colab": {
          "base_uri": "https://localhost:8080/",
          "height": 420
        },
        "id": "Leij5dlTB_la",
        "outputId": "ab70eb8b-78d7-422a-b0c0-c81e60fc8b59"
      },
      "execution_count": 18,
      "outputs": [
        {
          "output_type": "execute_result",
          "data": {
            "text/plain": [
              "Text(0, 0.5, 'Total Cases')"
            ]
          },
          "metadata": {},
          "execution_count": 18
        },
        {
          "output_type": "display_data",
          "data": {
            "text/plain": [
              "<Figure size 864x432 with 2 Axes>"
            ],
            "image/png": "[encoded data removed]"
          },
          "metadata": {
            "needs_background": "light"
          }
        }
      ]
    },
    {
      "cell_type": "markdown",
      "source": [
        "Let's apply Scaling to Normalized features. This ensures that each feature is treated equally when applying supervised learners."
      ],
      "metadata": {
        "id": "tIrYXDlzERyA"
      }
    },
    {
      "cell_type": "code",
      "source": [
        "data['total_cases'] = total_cases_trans\n",
        "data['total_deaths'] = total_deaths_trans\n",
        "data['gdp_per_capita'] = gdp_trans\n",
        "data.head()"
      ],
      "metadata": {
        "colab": {
          "base_uri": "https://localhost:8080/",
          "height": 206
        },
        "id": "uwrVMOOAFIUA",
        "outputId": "da157d08-db63-4e56-a3cf-dc6762de5a6f"
      },
      "execution_count": 19,
      "outputs": [
        {
          "output_type": "execute_result",
          "data": {
            "text/plain": [
              "      location        date  total_cases  total_deaths  stringency_index  \\\n",
              "0  Afghanistan  2019-12-31          0.0           0.0               0.0   \n",
              "1  Afghanistan  2020-01-01          0.0           0.0               0.0   \n",
              "2  Afghanistan  2020-01-02          0.0           0.0               0.0   \n",
              "3  Afghanistan  2020-01-03          0.0           0.0               0.0   \n",
              "4  Afghanistan  2020-01-04          0.0           0.0               0.0   \n",
              "\n",
              "   population  gdp_per_capita  human_development_index  \n",
              "0    38928341        7.498309                    0.498  \n",
              "1    38928341        7.498309                    0.498  \n",
              "2    38928341        7.498309                    0.498  \n",
              "3    38928341        7.498309                    0.498  \n",
              "4    38928341        7.498309                    0.498  "
            ],
            "text/html": [
              "\n",
              "  <div id=\"df-56cd7775-6b3d-4f68-a2b7-66519faf8b65\">\n",
              "    <div class=\"colab-df-container\">\n",
              "      <div>\n",
              "<style scoped>\n",
              "    .dataframe tbody tr th:only-of-type {\n",
              "        vertical-align: middle;\n",
              "    }\n",
              "\n",
              "    .dataframe tbody tr th {\n",
              "        vertical-align: top;\n",
              "    }\n",
              "\n",
              "    .dataframe thead th {\n",
              "        text-align: right;\n",
              "    }\n",
              "</style>\n",
              "<table border=\"1\" class=\"dataframe\">\n",
              "  <thead>\n",
              "    <tr style=\"text-align: right;\">\n",
              "      <th></th>\n",
              "      <th>location</th>\n",
              "      <th>date</th>\n",
              "      <th>total_cases</th>\n",
              "      <th>total_deaths</th>\n",
              "      <th>stringency_index</th>\n",
              "      <th>population</th>\n",
              "      <th>gdp_per_capita</th>\n",
              "      <th>human_development_index</th>\n",
              "    </tr>\n",
              "  </thead>\n",
              "  <tbody>\n",
              "    <tr>\n",
              "      <th>0</th>\n",
              "      <td>Afghanistan</td>\n",
              "      <td>2019-12-31</td>\n",
              "      <td>0.0</td>\n",
              "      <td>0.0</td>\n",
              "      <td>0.0</td>\n",
              "      <td>38928341</td>\n",
              "      <td>7.498309</td>\n",
              "      <td>0.498</td>\n",
              "    </tr>\n",
              "    <tr>\n",
              "      <th>1</th>\n",
              "      <td>Afghanistan</td>\n",
              "      <td>2020-01-01</td>\n",
              "      <td>0.0</td>\n",
              "      <td>0.0</td>\n",
              "      <td>0.0</td>\n",
              "      <td>38928341</td>\n",
              "      <td>7.498309</td>\n",
              "      <td>0.498</td>\n",
              "    </tr>\n",
              "    <tr>\n",
              "      <th>2</th>\n",
              "      <td>Afghanistan</td>\n",
              "      <td>2020-01-02</td>\n",
              "      <td>0.0</td>\n",
              "      <td>0.0</td>\n",
              "      <td>0.0</td>\n",
              "      <td>38928341</td>\n",
              "      <td>7.498309</td>\n",
              "      <td>0.498</td>\n",
              "    </tr>\n",
              "    <tr>\n",
              "      <th>3</th>\n",
              "      <td>Afghanistan</td>\n",
              "      <td>2020-01-03</td>\n",
              "      <td>0.0</td>\n",
              "      <td>0.0</td>\n",
              "      <td>0.0</td>\n",
              "      <td>38928341</td>\n",
              "      <td>7.498309</td>\n",
              "      <td>0.498</td>\n",
              "    </tr>\n",
              "    <tr>\n",
              "      <th>4</th>\n",
              "      <td>Afghanistan</td>\n",
              "      <td>2020-01-04</td>\n",
              "      <td>0.0</td>\n",
              "      <td>0.0</td>\n",
              "      <td>0.0</td>\n",
              "      <td>38928341</td>\n",
              "      <td>7.498309</td>\n",
              "      <td>0.498</td>\n",
              "    </tr>\n",
              "  </tbody>\n",
              "</table>\n",
              "</div>\n",
              "      <button class=\"colab-df-convert\" onclick=\"convertToInteractive('df-56cd7775-6b3d-4f68-a2b7-66519faf8b65')\"\n",
              "              title=\"Convert this dataframe to an interactive table.\"\n",
              "              style=\"display:none;\">\n",
              "        \n",
              "  <svg xmlns=\"http://www.w3.org/2000/svg\" height=\"24px\"viewBox=\"0 0 24 24\"\n",
              "       width=\"24px\">\n",
              "    <path d=\"M0 0h24v24H0V0z\" fill=\"none\"/>\n",
              "    <path d=\"M18.56 5.44l.94 2.06.94-2.06 2.06-.94-2.06-.94-.94-2.06-.94 2.06-2.06.94zm-11 1L8.5 8.5l.94-2.06 2.06-.94-2.06-.94L8.5 2.5l-.94 2.06-2.06.94zm10 10l.94 2.06.94-2.06 2.06-.94-2.06-.94-.94-2.06-.94 2.06-2.06.94z\"/><path d=\"M17.41 7.96l-1.37-1.37c-.4-.4-.92-.59-1.43-.59-.52 0-1.04.2-1.43.59L10.3 9.45l-7.72 7.72c-.78.78-.78 2.05 0 2.83L4 21.41c.39.39.9.59 1.41.59.51 0 1.02-.2 1.41-.59l7.78-7.78 2.81-2.81c.8-.78.8-2.07 0-2.86zM5.41 20L4 18.59l7.72-7.72 1.47 1.35L5.41 20z\"/>\n",
              "  </svg>\n",
              "      </button>\n",
              "      \n",
              "  <style>\n",
              "    .colab-df-container {\n",
              "      display:flex;\n",
              "      flex-wrap:wrap;\n",
              "      gap: 12px;\n",
              "    }\n",
              "\n",
              "    .colab-df-convert {\n",
              "      background-color: #E8F0FE;\n",
              "      border: none;\n",
              "      border-radius: 50%;\n",
              "      cursor: pointer;\n",
              "      display: none;\n",
              "      fill: #1967D2;\n",
              "      height: 32px;\n",
              "      padding: 0 0 0 0;\n",
              "      width: 32px;\n",
              "    }\n",
              "\n",
              "    .colab-df-convert:hover {\n",
              "      background-color: #E2EBFA;\n",
              "      box-shadow: 0px 1px 2px rgba(60, 64, 67, 0.3), 0px 1px 3px 1px rgba(60, 64, 67, 0.15);\n",
              "      fill: #174EA6;\n",
              "    }\n",
              "\n",
              "    [theme=dark] .colab-df-convert {\n",
              "      background-color: #3B4455;\n",
              "      fill: #D2E3FC;\n",
              "    }\n",
              "\n",
              "    [theme=dark] .colab-df-convert:hover {\n",
              "      background-color: #434B5C;\n",
              "      box-shadow: 0px 1px 3px 1px rgba(0, 0, 0, 0.15);\n",
              "      filter: drop-shadow(0px 1px 2px rgba(0, 0, 0, 0.3));\n",
              "      fill: #FFFFFF;\n",
              "    }\n",
              "  </style>\n",
              "\n",
              "      <script>\n",
              "        const buttonEl =\n",
              "          document.querySelector('#df-56cd7775-6b3d-4f68-a2b7-66519faf8b65 button.colab-df-convert');\n",
              "        buttonEl.style.display =\n",
              "          google.colab.kernel.accessAllowed ? 'block' : 'none';\n",
              "\n",
              "        async function convertToInteractive(key) {\n",
              "          const element = document.querySelector('#df-56cd7775-6b3d-4f68-a2b7-66519faf8b65');\n",
              "          const dataTable =\n",
              "            await google.colab.kernel.invokeFunction('convertToInteractive',\n",
              "                                                     [key], {});\n",
              "          if (!dataTable) return;\n",
              "\n",
              "          const docLinkHtml = 'Like what you see? Visit the ' +\n",
              "            '<a target=\"_blank\" href=https://colab.research.google.com/notebooks/data_table.ipynb>data table notebook</a>'\n",
              "            + ' to learn more about interactive tables.';\n",
              "          element.innerHTML = '';\n",
              "          dataTable['output_type'] = 'display_data';\n",
              "          await google.colab.output.renderOutput(dataTable, element);\n",
              "          const docLink = document.createElement('div');\n",
              "          docLink.innerHTML = docLinkHtml;\n",
              "          element.appendChild(docLink);\n",
              "        }\n",
              "      </script>\n",
              "    </div>\n",
              "  </div>\n",
              "  "
            ]
          },
          "metadata": {},
          "execution_count": 19
        }
      ]
    },
    {
      "cell_type": "code",
      "source": [
        "mmScaler = MinMaxScaler()\n",
        "norm_feature = ['total_cases', 'total_deaths', 'gdp_per_capita']\n",
        "features_mm_scaled = pd.DataFrame(data = data)\n",
        "features_mm_scaled[norm_feature] = mmScaler.fit_transform(data[norm_feature])\n",
        "features_mm_scaled"
      ],
      "metadata": {
        "colab": {
          "base_uri": "https://localhost:8080/",
          "height": 424
        },
        "id": "CFCyH_-_CJxC",
        "outputId": "0331d84c-8eb2-41be-e9bc-a8b175486933"
      },
      "execution_count": 20,
      "outputs": [
        {
          "output_type": "execute_result",
          "data": {
            "text/plain": [
              "          location        date  total_cases  total_deaths  stringency_index  \\\n",
              "0      Afghanistan  2019-12-31     0.000000      0.000000              0.00   \n",
              "1      Afghanistan  2020-01-01     0.000000      0.000000              0.00   \n",
              "2      Afghanistan  2020-01-02     0.000000      0.000000              0.00   \n",
              "3      Afghanistan  2020-01-03     0.000000      0.000000              0.00   \n",
              "4      Afghanistan  2020-01-04     0.000000      0.000000              0.00   \n",
              "...            ...         ...          ...           ...               ...   \n",
              "50413     Zimbabwe  2020-10-15     0.566926      0.443642             76.85   \n",
              "50414     Zimbabwe  2020-10-16     0.567082      0.443642             76.85   \n",
              "50415     Zimbabwe  2020-10-17     0.567269      0.443642             76.85   \n",
              "50416     Zimbabwe  2020-10-18     0.567354      0.443642             76.85   \n",
              "50417     Zimbabwe  2020-10-19     0.567641      0.443642             76.85   \n",
              "\n",
              "       population  gdp_per_capita  human_development_index  \n",
              "0        38928341        0.193801                    0.498  \n",
              "1        38928341        0.193801                    0.498  \n",
              "2        38928341        0.193801                    0.498  \n",
              "3        38928341        0.193801                    0.498  \n",
              "4        38928341        0.193801                    0.498  \n",
              "...           ...             ...                      ...  \n",
              "50413    14862927        0.203796                    0.535  \n",
              "50414    14862927        0.203796                    0.535  \n",
              "50415    14862927        0.203796                    0.535  \n",
              "50416    14862927        0.203796                    0.535  \n",
              "50417    14862927        0.203796                    0.535  \n",
              "\n",
              "[31518 rows x 8 columns]"
            ],
            "text/html": [
              "\n",
              "  <div id=\"df-570ce432-5b9d-4727-b3a4-7f57877d6816\">\n",
              "    <div class=\"colab-df-container\">\n",
              "      <div>\n",
              "<style scoped>\n",
              "    .dataframe tbody tr th:only-of-type {\n",
              "        vertical-align: middle;\n",
              "    }\n",
              "\n",
              "    .dataframe tbody tr th {\n",
              "        vertical-align: top;\n",
              "    }\n",
              "\n",
              "    .dataframe thead th {\n",
              "        text-align: right;\n",
              "    }\n",
              "</style>\n",
              "<table border=\"1\" class=\"dataframe\">\n",
              "  <thead>\n",
              "    <tr style=\"text-align: right;\">\n",
              "      <th></th>\n",
              "      <th>location</th>\n",
              "      <th>date</th>\n",
              "      <th>total_cases</th>\n",
              "      <th>total_deaths</th>\n",
              "      <th>stringency_index</th>\n",
              "      <th>population</th>\n",
              "      <th>gdp_per_capita</th>\n",
              "      <th>human_development_index</th>\n",
              "    </tr>\n",
              "  </thead>\n",
              "  <tbody>\n",
              "    <tr>\n",
              "      <th>0</th>\n",
              "      <td>Afghanistan</td>\n",
              "      <td>2019-12-31</td>\n",
              "      <td>0.000000</td>\n",
              "      <td>0.000000</td>\n",
              "      <td>0.00</td>\n",
              "      <td>38928341</td>\n",
              "      <td>0.193801</td>\n",
              "      <td>0.498</td>\n",
              "    </tr>\n",
              "    <tr>\n",
              "      <th>1</th>\n",
              "      <td>Afghanistan</td>\n",
              "      <td>2020-01-01</td>\n",
              "      <td>0.000000</td>\n",
              "      <td>0.000000</td>\n",
              "      <td>0.00</td>\n",
              "      <td>38928341</td>\n",
              "      <td>0.193801</td>\n",
              "      <td>0.498</td>\n",
              "    </tr>\n",
              "    <tr>\n",
              "      <th>2</th>\n",
              "      <td>Afghanistan</td>\n",
              "      <td>2020-01-02</td>\n",
              "      <td>0.000000</td>\n",
              "      <td>0.000000</td>\n",
              "      <td>0.00</td>\n",
              "      <td>38928341</td>\n",
              "      <td>0.193801</td>\n",
              "      <td>0.498</td>\n",
              "    </tr>\n",
              "    <tr>\n",
              "      <th>3</th>\n",
              "      <td>Afghanistan</td>\n",
              "      <td>2020-01-03</td>\n",
              "      <td>0.000000</td>\n",
              "      <td>0.000000</td>\n",
              "      <td>0.00</td>\n",
              "      <td>38928341</td>\n",
              "      <td>0.193801</td>\n",
              "      <td>0.498</td>\n",
              "    </tr>\n",
              "    <tr>\n",
              "      <th>4</th>\n",
              "      <td>Afghanistan</td>\n",
              "      <td>2020-01-04</td>\n",
              "      <td>0.000000</td>\n",
              "      <td>0.000000</td>\n",
              "      <td>0.00</td>\n",
              "      <td>38928341</td>\n",
              "      <td>0.193801</td>\n",
              "      <td>0.498</td>\n",
              "    </tr>\n",
              "    <tr>\n",
              "      <th>...</th>\n",
              "      <td>...</td>\n",
              "      <td>...</td>\n",
              "      <td>...</td>\n",
              "      <td>...</td>\n",
              "      <td>...</td>\n",
              "      <td>...</td>\n",
              "      <td>...</td>\n",
              "      <td>...</td>\n",
              "    </tr>\n",
              "    <tr>\n",
              "      <th>50413</th>\n",
              "      <td>Zimbabwe</td>\n",
              "      <td>2020-10-15</td>\n",
              "      <td>0.566926</td>\n",
              "      <td>0.443642</td>\n",
              "      <td>76.85</td>\n",
              "      <td>14862927</td>\n",
              "      <td>0.203796</td>\n",
              "      <td>0.535</td>\n",
              "    </tr>\n",
              "    <tr>\n",
              "      <th>50414</th>\n",
              "      <td>Zimbabwe</td>\n",
              "      <td>2020-10-16</td>\n",
              "      <td>0.567082</td>\n",
              "      <td>0.443642</td>\n",
              "      <td>76.85</td>\n",
              "      <td>14862927</td>\n",
              "      <td>0.203796</td>\n",
              "      <td>0.535</td>\n",
              "    </tr>\n",
              "    <tr>\n",
              "      <th>50415</th>\n",
              "      <td>Zimbabwe</td>\n",
              "      <td>2020-10-17</td>\n",
              "      <td>0.567269</td>\n",
              "      <td>0.443642</td>\n",
              "      <td>76.85</td>\n",
              "      <td>14862927</td>\n",
              "      <td>0.203796</td>\n",
              "      <td>0.535</td>\n",
              "    </tr>\n",
              "    <tr>\n",
              "      <th>50416</th>\n",
              "      <td>Zimbabwe</td>\n",
              "      <td>2020-10-18</td>\n",
              "      <td>0.567354</td>\n",
              "      <td>0.443642</td>\n",
              "      <td>76.85</td>\n",
              "      <td>14862927</td>\n",
              "      <td>0.203796</td>\n",
              "      <td>0.535</td>\n",
              "    </tr>\n",
              "    <tr>\n",
              "      <th>50417</th>\n",
              "      <td>Zimbabwe</td>\n",
              "      <td>2020-10-19</td>\n",
              "      <td>0.567641</td>\n",
              "      <td>0.443642</td>\n",
              "      <td>76.85</td>\n",
              "      <td>14862927</td>\n",
              "      <td>0.203796</td>\n",
              "      <td>0.535</td>\n",
              "    </tr>\n",
              "  </tbody>\n",
              "</table>\n",
              "<p>31518 rows × 8 columns</p>\n",
              "</div>\n",
              "      <button class=\"colab-df-convert\" onclick=\"convertToInteractive('df-570ce432-5b9d-4727-b3a4-7f57877d6816')\"\n",
              "              title=\"Convert this dataframe to an interactive table.\"\n",
              "              style=\"display:none;\">\n",
              "        \n",
              "  <svg xmlns=\"http://www.w3.org/2000/svg\" height=\"24px\"viewBox=\"0 0 24 24\"\n",
              "       width=\"24px\">\n",
              "    <path d=\"M0 0h24v24H0V0z\" fill=\"none\"/>\n",
              "    <path d=\"M18.56 5.44l.94 2.06.94-2.06 2.06-.94-2.06-.94-.94-2.06-.94 2.06-2.06.94zm-11 1L8.5 8.5l.94-2.06 2.06-.94-2.06-.94L8.5 2.5l-.94 2.06-2.06.94zm10 10l.94 2.06.94-2.06 2.06-.94-2.06-.94-.94-2.06-.94 2.06-2.06.94z\"/><path d=\"M17.41 7.96l-1.37-1.37c-.4-.4-.92-.59-1.43-.59-.52 0-1.04.2-1.43.59L10.3 9.45l-7.72 7.72c-.78.78-.78 2.05 0 2.83L4 21.41c.39.39.9.59 1.41.59.51 0 1.02-.2 1.41-.59l7.78-7.78 2.81-2.81c.8-.78.8-2.07 0-2.86zM5.41 20L4 18.59l7.72-7.72 1.47 1.35L5.41 20z\"/>\n",
              "  </svg>\n",
              "      </button>\n",
              "      \n",
              "  <style>\n",
              "    .colab-df-container {\n",
              "      display:flex;\n",
              "      flex-wrap:wrap;\n",
              "      gap: 12px;\n",
              "    }\n",
              "\n",
              "    .colab-df-convert {\n",
              "      background-color: #E8F0FE;\n",
              "      border: none;\n",
              "      border-radius: 50%;\n",
              "      cursor: pointer;\n",
              "      display: none;\n",
              "      fill: #1967D2;\n",
              "      height: 32px;\n",
              "      padding: 0 0 0 0;\n",
              "      width: 32px;\n",
              "    }\n",
              "\n",
              "    .colab-df-convert:hover {\n",
              "      background-color: #E2EBFA;\n",
              "      box-shadow: 0px 1px 2px rgba(60, 64, 67, 0.3), 0px 1px 3px 1px rgba(60, 64, 67, 0.15);\n",
              "      fill: #174EA6;\n",
              "    }\n",
              "\n",
              "    [theme=dark] .colab-df-convert {\n",
              "      background-color: #3B4455;\n",
              "      fill: #D2E3FC;\n",
              "    }\n",
              "\n",
              "    [theme=dark] .colab-df-convert:hover {\n",
              "      background-color: #434B5C;\n",
              "      box-shadow: 0px 1px 3px 1px rgba(0, 0, 0, 0.15);\n",
              "      filter: drop-shadow(0px 1px 2px rgba(0, 0, 0, 0.3));\n",
              "      fill: #FFFFFF;\n",
              "    }\n",
              "  </style>\n",
              "\n",
              "      <script>\n",
              "        const buttonEl =\n",
              "          document.querySelector('#df-570ce432-5b9d-4727-b3a4-7f57877d6816 button.colab-df-convert');\n",
              "        buttonEl.style.display =\n",
              "          google.colab.kernel.accessAllowed ? 'block' : 'none';\n",
              "\n",
              "        async function convertToInteractive(key) {\n",
              "          const element = document.querySelector('#df-570ce432-5b9d-4727-b3a4-7f57877d6816');\n",
              "          const dataTable =\n",
              "            await google.colab.kernel.invokeFunction('convertToInteractive',\n",
              "                                                     [key], {});\n",
              "          if (!dataTable) return;\n",
              "\n",
              "          const docLinkHtml = 'Like what you see? Visit the ' +\n",
              "            '<a target=\"_blank\" href=https://colab.research.google.com/notebooks/data_table.ipynb>data table notebook</a>'\n",
              "            + ' to learn more about interactive tables.';\n",
              "          element.innerHTML = '';\n",
              "          dataTable['output_type'] = 'display_data';\n",
              "          await google.colab.output.renderOutput(dataTable, element);\n",
              "          const docLink = document.createElement('div');\n",
              "          docLink.innerHTML = docLinkHtml;\n",
              "          element.appendChild(docLink);\n",
              "        }\n",
              "      </script>\n",
              "    </div>\n",
              "  </div>\n",
              "  "
            ]
          },
          "metadata": {},
          "execution_count": 20
        }
      ]
    },
    {
      "cell_type": "markdown",
      "source": [
        "### **Train Test Split**"
      ],
      "metadata": {
        "id": "vZ9WNVasGht3"
      }
    },
    {
      "cell_type": "code",
      "source": [
        "X= features_mm_scaled[['total_cases', 'total_deaths', 'stringency_index', 'population', 'human_development_index']]\n",
        "y = features_mm_scaled['gdp_per_capita']"
      ],
      "metadata": {
        "id": "29ATIzr5FyRI"
      },
      "execution_count": 21,
      "outputs": []
    },
    {
      "cell_type": "code",
      "source": [
        "X_train, X_test, y_train, y_test = train_test_split(X, y, test_size=0.3, random_state=29)\n",
        "\n",
        "print(f'The train set size is {X_train.shape[0]}.')\n",
        "print(f'The test set size is {X_test.shape[0]}.')"
      ],
      "metadata": {
        "colab": {
          "base_uri": "https://localhost:8080/",
          "height": 0
        },
        "id": "G0Mc2MoK58Dr",
        "outputId": "dbd264a1-263f-42b2-8c44-65abbc6f9d13"
      },
      "execution_count": 22,
      "outputs": [
        {
          "output_type": "stream",
          "name": "stdout",
          "text": [
            "The train set size is 22062.\n",
            "The test set size is 9456.\n"
          ]
        }
      ]
    },
    {
      "cell_type": "markdown",
      "source": [
        "### **Training Models**"
      ],
      "metadata": {
        "id": "xBPrQkyh7USf"
      }
    },
    {
      "cell_type": "code",
      "source": [
        "kf = KFold(shuffle=True, random_state=841, n_splits=4)"
      ],
      "metadata": {
        "id": "PMZQVb7t7GlH"
      },
      "execution_count": 23,
      "outputs": []
    },
    {
      "cell_type": "markdown",
      "source": [
        "**Training by Simple Linear Model**"
      ],
      "metadata": {
        "id": "bsOnKUhV8pKw"
      }
    },
    {
      "cell_type": "code",
      "source": [
        "ss = StandardScaler()\n",
        "lin_reg = LinearRegression()\n",
        "\n",
        "X_train_ss = ss.fit_transform(X_train)\n",
        "lin_reg.fit(X_train_ss, y_train)\n",
        "X_test = ss.transform(X_test)\n",
        "y_pred = lin_reg.predict(X_test)\n",
        "linear_score = r2_score(y_test.values, y_pred)\n",
        "\n",
        "\n",
        "estimator = Pipeline([(\"scaler\", ss),(\"regression\", lin_reg)])\n",
        "predictions_lr = cross_val_predict(estimator, X_train, y_train, cv=kf)\n",
        "kf_lin_score = r2_score(y_train, predictions_lr)\n",
        "\n",
        "print(f'The simple linear score is {linear_score} and linear score with K-Fold Cross Validation is {kf_lin_score}')"
      ],
      "metadata": {
        "colab": {
          "base_uri": "https://localhost:8080/",
          "height": 0
        },
        "id": "37nPPHB48gBI",
        "outputId": "2086cc17-dd11-4293-f5cd-8866130ee4c9"
      },
      "execution_count": 24,
      "outputs": [
        {
          "output_type": "stream",
          "name": "stdout",
          "text": [
            "The simple linear score is 0.8068327858597878 and linear score with K-Fold Cross Validation is 0.7978374528951341\n"
          ]
        }
      ]
    },
    {
      "cell_type": "markdown",
      "source": [
        "R2 score for simple Linear Model and Linear Model with K-Fold Cross Validation in almost equal."
      ],
      "metadata": {
        "id": "8Rgq1e5bAwiQ"
      }
    },
    {
      "cell_type": "markdown",
      "source": [
        "**Training by Lasso Regression with K-Fold Cross Validation**"
      ],
      "metadata": {
        "id": "Vw7bbJolBBUZ"
      }
    },
    {
      "cell_type": "code",
      "source": [
        "ss = StandardScaler()\n",
        "poly_feat = PolynomialFeatures(degree=4)\n",
        "scores = []\n",
        "alphas = np.geomspace(0.02, 2.0, 20)\n",
        "pred_lasso = []\n",
        "\n",
        "for alpha in alphas:\n",
        "  las = Lasso(alpha=alpha, max_iter= 100000)\n",
        "\n",
        "  estimator = Pipeline([\n",
        "      ('scaler',ss),\n",
        "      ('poly_feat', poly_feat),\n",
        "      ('lasso_regression', las)])\n",
        "  \n",
        "  pred_lasso = cross_val_predict(estimator, X_train, y_train, cv=kf)\n",
        "\n",
        "  las_score = r2_score(y_train, pred_lasso)\n",
        "\n",
        "  scores.append(las_score)\n",
        "\n",
        "\n",
        "plt.semilogx(alphas, scores, '-x', color='blue')\n",
        "plt.title('Lasso Regression')\n",
        "plt.xlabel('$\\\\alpha$')\n",
        "plt.ylabel('$R^2$');"
      ],
      "metadata": {
        "colab": {
          "base_uri": "https://localhost:8080/",
          "height": 299
        },
        "id": "pDOH_ybF9Rmn",
        "outputId": "634b5527-83e3-48f7-a6de-1eadeb41fe83"
      },
      "execution_count": 35,
      "outputs": [
        {
          "output_type": "display_data",
          "data": {
            "text/plain": [
              "<Figure size 432x288 with 1 Axes>"
            ],
            "image/png": "[encoded data removed]"
          },
          "metadata": {
            "needs_background": "light"
          }
        }
      ]
    },
    {
      "cell_type": "code",
      "source": [
        "best_estimator = Pipeline([\n",
        "                    (\"scaler\", ss),\n",
        "                    (\"make_higher_degree\", PolynomialFeatures(degree=2)),\n",
        "                    (\"lasso_regression\", Lasso(alpha=0.02))])\n",
        "\n",
        "best_estimator.fit(X_train, y_train)\n",
        "lasso_score = best_estimator.score(X_train, y_train)\n",
        "lasso_score"
      ],
      "metadata": {
        "colab": {
          "base_uri": "https://localhost:8080/",
          "height": 0
        },
        "id": "VSJXnF8S_BVh",
        "outputId": "50eaa588-ca8a-4703-b3c9-1287d22286ac"
      },
      "execution_count": 25,
      "outputs": [
        {
          "output_type": "execute_result",
          "data": {
            "text/plain": [
              "0.8587670176876119"
            ]
          },
          "metadata": {},
          "execution_count": 25
        }
      ]
    },
    {
      "cell_type": "markdown",
      "source": [
        "**Training by Ridge Regression with K-Fold Cross Validation**"
      ],
      "metadata": {
        "id": "OS1uQfc2E1gH"
      }
    },
    {
      "cell_type": "code",
      "source": [
        "poly_feat = PolynomialFeatures(degree=2)\n",
        "scores = []\n",
        "alphas = np.geomspace(4, 20, 20)\n",
        "pred_rr = []\n",
        "\n",
        "for alpha in alphas:\n",
        "  ridge = Ridge(alpha=alpha, max_iter= 100000)\n",
        "\n",
        "  estimator = Pipeline([\n",
        "      ('scaler',ss),\n",
        "      ('poly_feat', poly_feat),\n",
        "      ('ridge_regression', ridge)])\n",
        "  \n",
        "  pred_rr = cross_val_predict(estimator, X_train, y_train, cv=kf)\n",
        "\n",
        "  rr_score = r2_score(y_train, pred_rr)\n",
        "\n",
        "  scores.append(rr_score)\n",
        "\n",
        "\n",
        "plt.semilogx(alphas, scores, '-x', color='red')\n",
        "plt.title('Ridge Regression')\n",
        "plt.xlabel('$\\\\alpha$')\n",
        "plt.ylabel('$R^2$')"
      ],
      "metadata": {
        "colab": {
          "base_uri": "https://localhost:8080/",
          "height": 316
        },
        "id": "XgBHbyi-_kE7",
        "outputId": "39c1af41-8553-4f6e-eee7-05b7b2c8e140"
      },
      "execution_count": 26,
      "outputs": [
        {
          "output_type": "execute_result",
          "data": {
            "text/plain": [
              "Text(0, 0.5, '$R^2$')"
            ]
          },
          "metadata": {},
          "execution_count": 26
        },
        {
          "output_type": "display_data",
          "data": {
            "text/plain": [
              "<Figure size 432x288 with 1 Axes>"
            ],
            "image/png": "[encoded data removed]"
          },
          "metadata": {
            "needs_background": "light"
          }
        }
      ]
    },
    {
      "cell_type": "code",
      "source": [
        "best_estimator = Pipeline([\n",
        "                    (\"scaler\", ss),\n",
        "                    (\"make_higher_degree\", PolynomialFeatures(degree=2)),\n",
        "                    (\"ridge_regression\", Ridge(alpha=0.03))])\n",
        "\n",
        "best_estimator.fit(X_train, y_train)\n",
        "ridge_score = best_estimator.score(X_train, y_train)\n",
        "ridge_score"
      ],
      "metadata": {
        "colab": {
          "base_uri": "https://localhost:8080/",
          "height": 0
        },
        "id": "dqyK0HC0_lfV",
        "outputId": "e1314559-a9b8-4e3e-dfea-ac2524124232"
      },
      "execution_count": 27,
      "outputs": [
        {
          "output_type": "execute_result",
          "data": {
            "text/plain": [
              "0.8983600240088313"
            ]
          },
          "metadata": {},
          "execution_count": 27
        }
      ]
    },
    {
      "cell_type": "markdown",
      "source": [
        "### **Compare R2 Score of all models.**"
      ],
      "metadata": {
        "id": "JQ9Lrn9sH-fr"
      }
    },
    {
      "cell_type": "code",
      "source": [
        "pd.DataFrame([[linear_score, lasso_score, ridge_score]],columns=['linear', 'lasso', 'ridge'], index=['score'])"
      ],
      "metadata": {
        "colab": {
          "base_uri": "https://localhost:8080/",
          "height": 81
        },
        "id": "5ngP81SlIKhe",
        "outputId": "3f0fb2ba-ba25-4c46-95a3-2027e041fe4b"
      },
      "execution_count": 28,
      "outputs": [
        {
          "output_type": "execute_result",
          "data": {
            "text/plain": [
              "         linear     lasso    ridge\n",
              "score  0.806833  0.858767  0.89836"
            ],
            "text/html": [
              "\n",
              "  <div id=\"df-ec54e8a1-6c0c-4054-889d-acbb1f6a7ed4\">\n",
              "    <div class=\"colab-df-container\">\n",
              "      <div>\n",
              "<style scoped>\n",
              "    .dataframe tbody tr th:only-of-type {\n",
              "        vertical-align: middle;\n",
              "    }\n",
              "\n",
              "    .dataframe tbody tr th {\n",
              "        vertical-align: top;\n",
              "    }\n",
              "\n",
              "    .dataframe thead th {\n",
              "        text-align: right;\n",
              "    }\n",
              "</style>\n",
              "<table border=\"1\" class=\"dataframe\">\n",
              "  <thead>\n",
              "    <tr style=\"text-align: right;\">\n",
              "      <th></th>\n",
              "      <th>linear</th>\n",
              "      <th>lasso</th>\n",
              "      <th>ridge</th>\n",
              "    </tr>\n",
              "  </thead>\n",
              "  <tbody>\n",
              "    <tr>\n",
              "      <th>score</th>\n",
              "      <td>0.806833</td>\n",
              "      <td>0.858767</td>\n",
              "      <td>0.89836</td>\n",
              "    </tr>\n",
              "  </tbody>\n",
              "</table>\n",
              "</div>\n",
              "      <button class=\"colab-df-convert\" onclick=\"convertToInteractive('df-ec54e8a1-6c0c-4054-889d-acbb1f6a7ed4')\"\n",
              "              title=\"Convert this dataframe to an interactive table.\"\n",
              "              style=\"display:none;\">\n",
              "        \n",
              "  <svg xmlns=\"http://www.w3.org/2000/svg\" height=\"24px\"viewBox=\"0 0 24 24\"\n",
              "       width=\"24px\">\n",
              "    <path d=\"M0 0h24v24H0V0z\" fill=\"none\"/>\n",
              "    <path d=\"M18.56 5.44l.94 2.06.94-2.06 2.06-.94-2.06-.94-.94-2.06-.94 2.06-2.06.94zm-11 1L8.5 8.5l.94-2.06 2.06-.94-2.06-.94L8.5 2.5l-.94 2.06-2.06.94zm10 10l.94 2.06.94-2.06 2.06-.94-2.06-.94-.94-2.06-.94 2.06-2.06.94z\"/><path d=\"M17.41 7.96l-1.37-1.37c-.4-.4-.92-.59-1.43-.59-.52 0-1.04.2-1.43.59L10.3 9.45l-7.72 7.72c-.78.78-.78 2.05 0 2.83L4 21.41c.39.39.9.59 1.41.59.51 0 1.02-.2 1.41-.59l7.78-7.78 2.81-2.81c.8-.78.8-2.07 0-2.86zM5.41 20L4 18.59l7.72-7.72 1.47 1.35L5.41 20z\"/>\n",
              "  </svg>\n",
              "      </button>\n",
              "      \n",
              "  <style>\n",
              "    .colab-df-container {\n",
              "      display:flex;\n",
              "      flex-wrap:wrap;\n",
              "      gap: 12px;\n",
              "    }\n",
              "\n",
              "    .colab-df-convert {\n",
              "      background-color: #E8F0FE;\n",
              "      border: none;\n",
              "      border-radius: 50%;\n",
              "      cursor: pointer;\n",
              "      display: none;\n",
              "      fill: #1967D2;\n",
              "      height: 32px;\n",
              "      padding: 0 0 0 0;\n",
              "      width: 32px;\n",
              "    }\n",
              "\n",
              "    .colab-df-convert:hover {\n",
              "      background-color: #E2EBFA;\n",
              "      box-shadow: 0px 1px 2px rgba(60, 64, 67, 0.3), 0px 1px 3px 1px rgba(60, 64, 67, 0.15);\n",
              "      fill: #174EA6;\n",
              "    }\n",
              "\n",
              "    [theme=dark] .colab-df-convert {\n",
              "      background-color: #3B4455;\n",
              "      fill: #D2E3FC;\n",
              "    }\n",
              "\n",
              "    [theme=dark] .colab-df-convert:hover {\n",
              "      background-color: #434B5C;\n",
              "      box-shadow: 0px 1px 3px 1px rgba(0, 0, 0, 0.15);\n",
              "      filter: drop-shadow(0px 1px 2px rgba(0, 0, 0, 0.3));\n",
              "      fill: #FFFFFF;\n",
              "    }\n",
              "  </style>\n",
              "\n",
              "      <script>\n",
              "        const buttonEl =\n",
              "          document.querySelector('#df-ec54e8a1-6c0c-4054-889d-acbb1f6a7ed4 button.colab-df-convert');\n",
              "        buttonEl.style.display =\n",
              "          google.colab.kernel.accessAllowed ? 'block' : 'none';\n",
              "\n",
              "        async function convertToInteractive(key) {\n",
              "          const element = document.querySelector('#df-ec54e8a1-6c0c-4054-889d-acbb1f6a7ed4');\n",
              "          const dataTable =\n",
              "            await google.colab.kernel.invokeFunction('convertToInteractive',\n",
              "                                                     [key], {});\n",
              "          if (!dataTable) return;\n",
              "\n",
              "          const docLinkHtml = 'Like what you see? Visit the ' +\n",
              "            '<a target=\"_blank\" href=https://colab.research.google.com/notebooks/data_table.ipynb>data table notebook</a>'\n",
              "            + ' to learn more about interactive tables.';\n",
              "          element.innerHTML = '';\n",
              "          dataTable['output_type'] = 'display_data';\n",
              "          await google.colab.output.renderOutput(dataTable, element);\n",
              "          const docLink = document.createElement('div');\n",
              "          docLink.innerHTML = docLinkHtml;\n",
              "          element.appendChild(docLink);\n",
              "        }\n",
              "      </script>\n",
              "    </div>\n",
              "  </div>\n",
              "  "
            ]
          },
          "metadata": {},
          "execution_count": 28
        }
      ]
    },
    {
      "cell_type": "markdown",
      "source": [
        "Both Lasso and Ridge with correct hyperparameter tuning gives better result than Simple Linear Regression."
      ],
      "metadata": {
        "id": "M5wVTCIXISg-"
      }
    },
    {
      "cell_type": "markdown",
      "source": [
        "**Finding Root Mean Scored Error of all models**"
      ],
      "metadata": {
        "id": "-IkZWNcbIXn4"
      }
    },
    {
      "cell_type": "code",
      "source": [
        "# Define Root Mean Squared Error Function\n",
        "def rmse(ytrue, ypredicted):\n",
        "    return np.sqrt(mean_squared_error(ytrue, ypredicted))"
      ],
      "metadata": {
        "id": "C8iCUk1hGix5"
      },
      "execution_count": 29,
      "outputs": []
    },
    {
      "cell_type": "code",
      "source": [
        "# Fit a basic linear regression model\n",
        "linReg = LinearRegression()\n",
        "linReg.fit(X_train, y_train)\n",
        "linRegPred = linReg.predict(X_test)\n",
        "linReg_rmse = rmse(y_test, linRegPred)"
      ],
      "metadata": {
        "id": "qRWiOG7AIufM"
      },
      "execution_count": 30,
      "outputs": []
    },
    {
      "cell_type": "code",
      "source": [
        "# Fit a regular (non-cross validated) Ridge model\n",
        "alphas = [0.005, 0.05, 0.1, 0.3, 1, 3, 5, 10, 15, 30, 80]\n",
        "ridgeCV = RidgeCV(alphas=alphas, cv=4)\n",
        "ridgeCV.fit(X_train, y_train)\n",
        "ridgeCVPred = ridgeCV.predict(X_test)\n",
        "ridgeCV_rmse = rmse(y_test, ridgeCVPred)"
      ],
      "metadata": {
        "id": "MbgULWz9JJRu"
      },
      "execution_count": 31,
      "outputs": []
    },
    {
      "cell_type": "code",
      "source": [
        "# Fit a Lasso model using cross validation and determine the optimum value for 𝛼\n",
        "alphas2 = np.array([1e-5, 5e-5, 0.0001, 0.0005])\n",
        "lassoCV = LassoCV(alphas=alphas2,\n",
        "                  max_iter=5e4,\n",
        "                  cv=3)\n",
        "lassoCV.fit(X_train, y_train)\n",
        "lassoCVPred = lassoCV.predict(X_test)\n",
        "lassoCV_rmse = rmse(y_test, lassoCVPred)"
      ],
      "metadata": {
        "id": "lIxWgcUhJgTZ"
      },
      "execution_count": 32,
      "outputs": []
    },
    {
      "cell_type": "code",
      "source": [
        "# Fit elastic net with the same set of alphas as lasso\n",
        "l1_ratios = np.linspace(0.1, 0.9, 9)\n",
        "elasticNetCV = ElasticNetCV(alphas=alphas2, \n",
        "                            l1_ratio=l1_ratios,\n",
        "                            max_iter=1e4)\n",
        "elasticNetCV.fit(X_train, y_train)\n",
        "elasticNetCVPred = elasticNetCV.predict(X_test)\n",
        "elasticNetCV_rmse = rmse(y_test, elasticNetCVPred)"
      ],
      "metadata": {
        "id": "ASm3sU-qJsWA"
      },
      "execution_count": 33,
      "outputs": []
    },
    {
      "cell_type": "code",
      "source": [
        "rmse_vals = [linReg_rmse, ridgeCV_rmse, lassoCV_rmse, elasticNetCV_rmse]\n",
        "\n",
        "# labels = ['Linear', 'Lasso', 'Ridge' 'ElasticNet']\n",
        "\n",
        "rmse_df = pd.DataFrame([[linReg_rmse, ridgeCV_rmse, lassoCV_rmse, elasticNetCV_rmse]],columns=['Linear', 'Lasso', 'Ridge', 'ElasticNet'], index=['rmse'])\n",
        "rmse_df"
      ],
      "metadata": {
        "colab": {
          "base_uri": "https://localhost:8080/",
          "height": 81
        },
        "id": "9ReSPgJgJ6dc",
        "outputId": "b3fc43eb-cd88-44c6-c183-6ddea001abf5"
      },
      "execution_count": 34,
      "outputs": [
        {
          "output_type": "execute_result",
          "data": {
            "text/plain": [
              "        Linear     Lasso     Ridge  ElasticNet\n",
              "rmse  1.396161  1.395354  1.395129    1.395524"
            ],
            "text/html": [
              "\n",
              "  <div id=\"df-3976467f-f827-4824-892d-0143ede9c022\">\n",
              "    <div class=\"colab-df-container\">\n",
              "      <div>\n",
              "<style scoped>\n",
              "    .dataframe tbody tr th:only-of-type {\n",
              "        vertical-align: middle;\n",
              "    }\n",
              "\n",
              "    .dataframe tbody tr th {\n",
              "        vertical-align: top;\n",
              "    }\n",
              "\n",
              "    .dataframe thead th {\n",
              "        text-align: right;\n",
              "    }\n",
              "</style>\n",
              "<table border=\"1\" class=\"dataframe\">\n",
              "  <thead>\n",
              "    <tr style=\"text-align: right;\">\n",
              "      <th></th>\n",
              "      <th>Linear</th>\n",
              "      <th>Lasso</th>\n",
              "      <th>Ridge</th>\n",
              "      <th>ElasticNet</th>\n",
              "    </tr>\n",
              "  </thead>\n",
              "  <tbody>\n",
              "    <tr>\n",
              "      <th>rmse</th>\n",
              "      <td>1.396161</td>\n",
              "      <td>1.395354</td>\n",
              "      <td>1.395129</td>\n",
              "      <td>1.395524</td>\n",
              "    </tr>\n",
              "  </tbody>\n",
              "</table>\n",
              "</div>\n",
              "      <button class=\"colab-df-convert\" onclick=\"convertToInteractive('df-3976467f-f827-4824-892d-0143ede9c022')\"\n",
              "              title=\"Convert this dataframe to an interactive table.\"\n",
              "              style=\"display:none;\">\n",
              "        \n",
              "  <svg xmlns=\"http://www.w3.org/2000/svg\" height=\"24px\"viewBox=\"0 0 24 24\"\n",
              "       width=\"24px\">\n",
              "    <path d=\"M0 0h24v24H0V0z\" fill=\"none\"/>\n",
              "    <path d=\"M18.56 5.44l.94 2.06.94-2.06 2.06-.94-2.06-.94-.94-2.06-.94 2.06-2.06.94zm-11 1L8.5 8.5l.94-2.06 2.06-.94-2.06-.94L8.5 2.5l-.94 2.06-2.06.94zm10 10l.94 2.06.94-2.06 2.06-.94-2.06-.94-.94-2.06-.94 2.06-2.06.94z\"/><path d=\"M17.41 7.96l-1.37-1.37c-.4-.4-.92-.59-1.43-.59-.52 0-1.04.2-1.43.59L10.3 9.45l-7.72 7.72c-.78.78-.78 2.05 0 2.83L4 21.41c.39.39.9.59 1.41.59.51 0 1.02-.2 1.41-.59l7.78-7.78 2.81-2.81c.8-.78.8-2.07 0-2.86zM5.41 20L4 18.59l7.72-7.72 1.47 1.35L5.41 20z\"/>\n",
              "  </svg>\n",
              "      </button>\n",
              "      \n",
              "  <style>\n",
              "    .colab-df-container {\n",
              "      display:flex;\n",
              "      flex-wrap:wrap;\n",
              "      gap: 12px;\n",
              "    }\n",
              "\n",
              "    .colab-df-convert {\n",
              "      background-color: #E8F0FE;\n",
              "      border: none;\n",
              "      border-radius: 50%;\n",
              "      cursor: pointer;\n",
              "      display: none;\n",
              "      fill: #1967D2;\n",
              "      height: 32px;\n",
              "      padding: 0 0 0 0;\n",
              "      width: 32px;\n",
              "    }\n",
              "\n",
              "    .colab-df-convert:hover {\n",
              "      background-color: #E2EBFA;\n",
              "      box-shadow: 0px 1px 2px rgba(60, 64, 67, 0.3), 0px 1px 3px 1px rgba(60, 64, 67, 0.15);\n",
              "      fill: #174EA6;\n",
              "    }\n",
              "\n",
              "    [theme=dark] .colab-df-convert {\n",
              "      background-color: #3B4455;\n",
              "      fill: #D2E3FC;\n",
              "    }\n",
              "\n",
              "    [theme=dark] .colab-df-convert:hover {\n",
              "      background-color: #434B5C;\n",
              "      box-shadow: 0px 1px 3px 1px rgba(0, 0, 0, 0.15);\n",
              "      filter: drop-shadow(0px 1px 2px rgba(0, 0, 0, 0.3));\n",
              "      fill: #FFFFFF;\n",
              "    }\n",
              "  </style>\n",
              "\n",
              "      <script>\n",
              "        const buttonEl =\n",
              "          document.querySelector('#df-3976467f-f827-4824-892d-0143ede9c022 button.colab-df-convert');\n",
              "        buttonEl.style.display =\n",
              "          google.colab.kernel.accessAllowed ? 'block' : 'none';\n",
              "\n",
              "        async function convertToInteractive(key) {\n",
              "          const element = document.querySelector('#df-3976467f-f827-4824-892d-0143ede9c022');\n",
              "          const dataTable =\n",
              "            await google.colab.kernel.invokeFunction('convertToInteractive',\n",
              "                                                     [key], {});\n",
              "          if (!dataTable) return;\n",
              "\n",
              "          const docLinkHtml = 'Like what you see? Visit the ' +\n",
              "            '<a target=\"_blank\" href=https://colab.research.google.com/notebooks/data_table.ipynb>data table notebook</a>'\n",
              "            + ' to learn more about interactive tables.';\n",
              "          element.innerHTML = '';\n",
              "          dataTable['output_type'] = 'display_data';\n",
              "          await google.colab.output.renderOutput(dataTable, element);\n",
              "          const docLink = document.createElement('div');\n",
              "          docLink.innerHTML = docLinkHtml;\n",
              "          element.appendChild(docLink);\n",
              "        }\n",
              "      </script>\n",
              "    </div>\n",
              "  </div>\n",
              "  "
            ]
          },
          "metadata": {},
          "execution_count": 34
        }
      ]
    },
    {
      "cell_type": "markdown",
      "source": [
        "## **Conclusion**\n",
        "\n",
        "Ridge gives the smallest Root-mean-square error however, the difference in scores and errors are not significant and almost identical. The best candidate based on Root-mean-square error and score results is Ridge Regression, therefore we recommend RidgeCV as a final model that best fits the data in terms of accuracy."
      ],
      "metadata": {
        "id": "1mqWukhyLC9e"
      }
    },
    {
      "cell_type": "markdown",
      "source": [
        "## **Next Steps**"
      ],
      "metadata": {
        "id": "s3kM8zRtLZSI"
      }
    },
    {
      "cell_type": "markdown",
      "source": [
        "We could further try optimize Ridge using GridSearchCV.\n",
        "\n",
        "To predict the effect on GDP for an individual country, we could one-hot encode the location or iso_code columns and use that for training our models. Perhaps collecting more frequent records on specific countries would help achieve more accurate results."
      ],
      "metadata": {
        "id": "GuSX-g-DLdLD"
      }
    },
    {
      "cell_type": "code",
      "source": [],
      "metadata": {
        "id": "XfahyDGFKRT6"
      },
      "execution_count": 34,
      "outputs": []
    }
  ]
}