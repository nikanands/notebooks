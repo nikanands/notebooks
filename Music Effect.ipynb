{
  "nbformat": 4,
  "nbformat_minor": 0,
  "metadata": {
    "colab": {
      "provenance": []
    },
    "kernelspec": {
      "name": "python3",
      "display_name": "Python 3"
    },
    "language_info": {
      "name": "python"
    }
  },
  "cells": [
    {
      "cell_type": "markdown",
      "source": [
        "## **Summary**"
      ],
      "metadata": {
        "id": "8_-V-e0oiQJc"
      }
    },
    {
      "cell_type": "markdown",
      "source": [
        "Music therapy, or MT, is the use of music to improve an individual's stress, mood, and overall mental health. MT is also recognized as an evidence-based practice, using music as a catalyst for \"happy\" hormones such as oxytocin.\n",
        "\n",
        "However, MT employs a wide range of different genres, varying from one organization to the next.\n",
        "\n",
        "The MxMH dataset aims to identify what, if any, correlations exist between an individual's music taste and their self-reported mental health. Ideally, these findings could contribute to a more informed application of MT or simply provide interesting sights about the mind."
      ],
      "metadata": {
        "id": "yTMwnENZiVMz"
      }
    },
    {
      "cell_type": "markdown",
      "source": [
        "### **Importing Libraries**"
      ],
      "metadata": {
        "id": "3eItpi0jia1F"
      }
    },
    {
      "cell_type": "code",
      "execution_count": 1,
      "metadata": {
        "id": "eKeNRsGVH8tQ"
      },
      "outputs": [],
      "source": [
        "import numpy as np\n",
        "import pandas as pd\n",
        "import matplotlib.pyplot as plt\n",
        "import seaborn as sns\n",
        "\n",
        "import warnings\n",
        "\n",
        "warnings.filterwarnings('ignore')\n",
        "sns.set(color_codes = True)   \n",
        "sns.set_palette(palette = 'magma', n_colors = 8)"
      ]
    },
    {
      "cell_type": "markdown",
      "source": [
        "### **Importing Dataset**"
      ],
      "metadata": {
        "id": "t8SsvBybifCz"
      }
    },
    {
      "cell_type": "code",
      "source": [
        "data = pd.read_csv('/content/music_mental_heatlth.csv')\n",
        "data.head()"
      ],
      "metadata": {
        "colab": {
          "base_uri": "https://localhost:8080/",
          "height": 456
        },
        "id": "cnwlc1-3JhZO",
        "outputId": "7b233ba0-a98d-4046-81ff-734f267aa7b7"
      },
      "execution_count": 2,
      "outputs": [
        {
          "output_type": "execute_result",
          "data": {
            "text/plain": [
              "            Timestamp   Age Primary streaming service  Hours per day  \\\n",
              "0  8/27/2022 19:29:02  18.0                   Spotify            3.0   \n",
              "1  8/27/2022 19:57:31  63.0                   Pandora            1.5   \n",
              "2  8/27/2022 21:28:18  18.0                   Spotify            4.0   \n",
              "3  8/27/2022 21:40:40  61.0             YouTube Music            2.5   \n",
              "4  8/27/2022 21:54:47  18.0                   Spotify            4.0   \n",
              "\n",
              "  While working Instrumentalist Composer         Fav genre Exploratory  \\\n",
              "0           Yes             Yes      Yes             Latin         Yes   \n",
              "1           Yes              No       No              Rock         Yes   \n",
              "2            No              No       No  Video game music          No   \n",
              "3           Yes              No      Yes              Jazz         Yes   \n",
              "4           Yes              No       No               R&B         Yes   \n",
              "\n",
              "  Foreign languages  ...  Frequency [R&B]  Frequency [Rap] Frequency [Rock]  \\\n",
              "0               Yes  ...        Sometimes  Very frequently            Never   \n",
              "1                No  ...        Sometimes           Rarely  Very frequently   \n",
              "2               Yes  ...            Never           Rarely           Rarely   \n",
              "3               Yes  ...        Sometimes            Never            Never   \n",
              "4                No  ...  Very frequently  Very frequently            Never   \n",
              "\n",
              "  Frequency [Video game music] Anxiety Depression Insomnia  OCD Music effects  \\\n",
              "0                    Sometimes     3.0        0.0      1.0  0.0           NaN   \n",
              "1                       Rarely     7.0        2.0      2.0  1.0           NaN   \n",
              "2              Very frequently     7.0        7.0     10.0  2.0     No effect   \n",
              "3                        Never     9.0        7.0      3.0  3.0       Improve   \n",
              "4                       Rarely     7.0        2.0      5.0  9.0       Improve   \n",
              "\n",
              "     Permissions  \n",
              "0  I understand.  \n",
              "1  I understand.  \n",
              "2  I understand.  \n",
              "3  I understand.  \n",
              "4  I understand.  \n",
              "\n",
              "[5 rows x 33 columns]"
            ],
            "text/html": [
              "\n",
              "  <div id=\"df-e2e5cb22-8faa-4da7-a958-69571039b6ca\">\n",
              "    <div class=\"colab-df-container\">\n",
              "      <div>\n",
              "<style scoped>\n",
              "    .dataframe tbody tr th:only-of-type {\n",
              "        vertical-align: middle;\n",
              "    }\n",
              "\n",
              "    .dataframe tbody tr th {\n",
              "        vertical-align: top;\n",
              "    }\n",
              "\n",
              "    .dataframe thead th {\n",
              "        text-align: right;\n",
              "    }\n",
              "</style>\n",
              "<table border=\"1\" class=\"dataframe\">\n",
              "  <thead>\n",
              "    <tr style=\"text-align: right;\">\n",
              "      <th></th>\n",
              "      <th>Timestamp</th>\n",
              "      <th>Age</th>\n",
              "      <th>Primary streaming service</th>\n",
              "      <th>Hours per day</th>\n",
              "      <th>While working</th>\n",
              "      <th>Instrumentalist</th>\n",
              "      <th>Composer</th>\n",
              "      <th>Fav genre</th>\n",
              "      <th>Exploratory</th>\n",
              "      <th>Foreign languages</th>\n",
              "      <th>...</th>\n",
              "      <th>Frequency [R&amp;B]</th>\n",
              "      <th>Frequency [Rap]</th>\n",
              "      <th>Frequency [Rock]</th>\n",
              "      <th>Frequency [Video game music]</th>\n",
              "      <th>Anxiety</th>\n",
              "      <th>Depression</th>\n",
              "      <th>Insomnia</th>\n",
              "      <th>OCD</th>\n",
              "      <th>Music effects</th>\n",
              "      <th>Permissions</th>\n",
              "    </tr>\n",
              "  </thead>\n",
              "  <tbody>\n",
              "    <tr>\n",
              "      <th>0</th>\n",
              "      <td>8/27/2022 19:29:02</td>\n",
              "      <td>18.0</td>\n",
              "      <td>Spotify</td>\n",
              "      <td>3.0</td>\n",
              "      <td>Yes</td>\n",
              "      <td>Yes</td>\n",
              "      <td>Yes</td>\n",
              "      <td>Latin</td>\n",
              "      <td>Yes</td>\n",
              "      <td>Yes</td>\n",
              "      <td>...</td>\n",
              "      <td>Sometimes</td>\n",
              "      <td>Very frequently</td>\n",
              "      <td>Never</td>\n",
              "      <td>Sometimes</td>\n",
              "      <td>3.0</td>\n",
              "      <td>0.0</td>\n",
              "      <td>1.0</td>\n",
              "      <td>0.0</td>\n",
              "      <td>NaN</td>\n",
              "      <td>I understand.</td>\n",
              "    </tr>\n",
              "    <tr>\n",
              "      <th>1</th>\n",
              "      <td>8/27/2022 19:57:31</td>\n",
              "      <td>63.0</td>\n",
              "      <td>Pandora</td>\n",
              "      <td>1.5</td>\n",
              "      <td>Yes</td>\n",
              "      <td>No</td>\n",
              "      <td>No</td>\n",
              "      <td>Rock</td>\n",
              "      <td>Yes</td>\n",
              "      <td>No</td>\n",
              "      <td>...</td>\n",
              "      <td>Sometimes</td>\n",
              "      <td>Rarely</td>\n",
              "      <td>Very frequently</td>\n",
              "      <td>Rarely</td>\n",
              "      <td>7.0</td>\n",
              "      <td>2.0</td>\n",
              "      <td>2.0</td>\n",
              "      <td>1.0</td>\n",
              "      <td>NaN</td>\n",
              "      <td>I understand.</td>\n",
              "    </tr>\n",
              "    <tr>\n",
              "      <th>2</th>\n",
              "      <td>8/27/2022 21:28:18</td>\n",
              "      <td>18.0</td>\n",
              "      <td>Spotify</td>\n",
              "      <td>4.0</td>\n",
              "      <td>No</td>\n",
              "      <td>No</td>\n",
              "      <td>No</td>\n",
              "      <td>Video game music</td>\n",
              "      <td>No</td>\n",
              "      <td>Yes</td>\n",
              "      <td>...</td>\n",
              "      <td>Never</td>\n",
              "      <td>Rarely</td>\n",
              "      <td>Rarely</td>\n",
              "      <td>Very frequently</td>\n",
              "      <td>7.0</td>\n",
              "      <td>7.0</td>\n",
              "      <td>10.0</td>\n",
              "      <td>2.0</td>\n",
              "      <td>No effect</td>\n",
              "      <td>I understand.</td>\n",
              "    </tr>\n",
              "    <tr>\n",
              "      <th>3</th>\n",
              "      <td>8/27/2022 21:40:40</td>\n",
              "      <td>61.0</td>\n",
              "      <td>YouTube Music</td>\n",
              "      <td>2.5</td>\n",
              "      <td>Yes</td>\n",
              "      <td>No</td>\n",
              "      <td>Yes</td>\n",
              "      <td>Jazz</td>\n",
              "      <td>Yes</td>\n",
              "      <td>Yes</td>\n",
              "      <td>...</td>\n",
              "      <td>Sometimes</td>\n",
              "      <td>Never</td>\n",
              "      <td>Never</td>\n",
              "      <td>Never</td>\n",
              "      <td>9.0</td>\n",
              "      <td>7.0</td>\n",
              "      <td>3.0</td>\n",
              "      <td>3.0</td>\n",
              "      <td>Improve</td>\n",
              "      <td>I understand.</td>\n",
              "    </tr>\n",
              "    <tr>\n",
              "      <th>4</th>\n",
              "      <td>8/27/2022 21:54:47</td>\n",
              "      <td>18.0</td>\n",
              "      <td>Spotify</td>\n",
              "      <td>4.0</td>\n",
              "      <td>Yes</td>\n",
              "      <td>No</td>\n",
              "      <td>No</td>\n",
              "      <td>R&amp;B</td>\n",
              "      <td>Yes</td>\n",
              "      <td>No</td>\n",
              "      <td>...</td>\n",
              "      <td>Very frequently</td>\n",
              "      <td>Very frequently</td>\n",
              "      <td>Never</td>\n",
              "      <td>Rarely</td>\n",
              "      <td>7.0</td>\n",
              "      <td>2.0</td>\n",
              "      <td>5.0</td>\n",
              "      <td>9.0</td>\n",
              "      <td>Improve</td>\n",
              "      <td>I understand.</td>\n",
              "    </tr>\n",
              "  </tbody>\n",
              "</table>\n",
              "<p>5 rows × 33 columns</p>\n",
              "</div>\n",
              "      <button class=\"colab-df-convert\" onclick=\"convertToInteractive('df-e2e5cb22-8faa-4da7-a958-69571039b6ca')\"\n",
              "              title=\"Convert this dataframe to an interactive table.\"\n",
              "              style=\"display:none;\">\n",
              "        \n",
              "  <svg xmlns=\"http://www.w3.org/2000/svg\" height=\"24px\"viewBox=\"0 0 24 24\"\n",
              "       width=\"24px\">\n",
              "    <path d=\"M0 0h24v24H0V0z\" fill=\"none\"/>\n",
              "    <path d=\"M18.56 5.44l.94 2.06.94-2.06 2.06-.94-2.06-.94-.94-2.06-.94 2.06-2.06.94zm-11 1L8.5 8.5l.94-2.06 2.06-.94-2.06-.94L8.5 2.5l-.94 2.06-2.06.94zm10 10l.94 2.06.94-2.06 2.06-.94-2.06-.94-.94-2.06-.94 2.06-2.06.94z\"/><path d=\"M17.41 7.96l-1.37-1.37c-.4-.4-.92-.59-1.43-.59-.52 0-1.04.2-1.43.59L10.3 9.45l-7.72 7.72c-.78.78-.78 2.05 0 2.83L4 21.41c.39.39.9.59 1.41.59.51 0 1.02-.2 1.41-.59l7.78-7.78 2.81-2.81c.8-.78.8-2.07 0-2.86zM5.41 20L4 18.59l7.72-7.72 1.47 1.35L5.41 20z\"/>\n",
              "  </svg>\n",
              "      </button>\n",
              "      \n",
              "  <style>\n",
              "    .colab-df-container {\n",
              "      display:flex;\n",
              "      flex-wrap:wrap;\n",
              "      gap: 12px;\n",
              "    }\n",
              "\n",
              "    .colab-df-convert {\n",
              "      background-color: #E8F0FE;\n",
              "      border: none;\n",
              "      border-radius: 50%;\n",
              "      cursor: pointer;\n",
              "      display: none;\n",
              "      fill: #1967D2;\n",
              "      height: 32px;\n",
              "      padding: 0 0 0 0;\n",
              "      width: 32px;\n",
              "    }\n",
              "\n",
              "    .colab-df-convert:hover {\n",
              "      background-color: #E2EBFA;\n",
              "      box-shadow: 0px 1px 2px rgba(60, 64, 67, 0.3), 0px 1px 3px 1px rgba(60, 64, 67, 0.15);\n",
              "      fill: #174EA6;\n",
              "    }\n",
              "\n",
              "    [theme=dark] .colab-df-convert {\n",
              "      background-color: #3B4455;\n",
              "      fill: #D2E3FC;\n",
              "    }\n",
              "\n",
              "    [theme=dark] .colab-df-convert:hover {\n",
              "      background-color: #434B5C;\n",
              "      box-shadow: 0px 1px 3px 1px rgba(0, 0, 0, 0.15);\n",
              "      filter: drop-shadow(0px 1px 2px rgba(0, 0, 0, 0.3));\n",
              "      fill: #FFFFFF;\n",
              "    }\n",
              "  </style>\n",
              "\n",
              "      <script>\n",
              "        const buttonEl =\n",
              "          document.querySelector('#df-e2e5cb22-8faa-4da7-a958-69571039b6ca button.colab-df-convert');\n",
              "        buttonEl.style.display =\n",
              "          google.colab.kernel.accessAllowed ? 'block' : 'none';\n",
              "\n",
              "        async function convertToInteractive(key) {\n",
              "          const element = document.querySelector('#df-e2e5cb22-8faa-4da7-a958-69571039b6ca');\n",
              "          const dataTable =\n",
              "            await google.colab.kernel.invokeFunction('convertToInteractive',\n",
              "                                                     [key], {});\n",
              "          if (!dataTable) return;\n",
              "\n",
              "          const docLinkHtml = 'Like what you see? Visit the ' +\n",
              "            '<a target=\"_blank\" href=https://colab.research.google.com/notebooks/data_table.ipynb>data table notebook</a>'\n",
              "            + ' to learn more about interactive tables.';\n",
              "          element.innerHTML = '';\n",
              "          dataTable['output_type'] = 'display_data';\n",
              "          await google.colab.output.renderOutput(dataTable, element);\n",
              "          const docLink = document.createElement('div');\n",
              "          docLink.innerHTML = docLinkHtml;\n",
              "          element.appendChild(docLink);\n",
              "        }\n",
              "      </script>\n",
              "    </div>\n",
              "  </div>\n",
              "  "
            ]
          },
          "metadata": {},
          "execution_count": 2
        }
      ]
    },
    {
      "cell_type": "markdown",
      "source": [
        "### **Checking Dataset**"
      ],
      "metadata": {
        "id": "hAvkox3IinmM"
      }
    },
    {
      "cell_type": "code",
      "source": [
        "data.shape"
      ],
      "metadata": {
        "colab": {
          "base_uri": "https://localhost:8080/"
        },
        "id": "qVERlm0tJmdK",
        "outputId": "3e42b20b-bd4b-4d83-8de3-e05008f9faed"
      },
      "execution_count": 3,
      "outputs": [
        {
          "output_type": "execute_result",
          "data": {
            "text/plain": [
              "(736, 33)"
            ]
          },
          "metadata": {},
          "execution_count": 3
        }
      ]
    },
    {
      "cell_type": "code",
      "source": [
        "data.dtypes"
      ],
      "metadata": {
        "colab": {
          "base_uri": "https://localhost:8080/"
        },
        "id": "OdmlfI90JpJz",
        "outputId": "c83cfe7a-f515-408b-989d-9b67a7923236"
      },
      "execution_count": 4,
      "outputs": [
        {
          "output_type": "execute_result",
          "data": {
            "text/plain": [
              "Timestamp                        object\n",
              "Age                             float64\n",
              "Primary streaming service        object\n",
              "Hours per day                   float64\n",
              "While working                    object\n",
              "Instrumentalist                  object\n",
              "Composer                         object\n",
              "Fav genre                        object\n",
              "Exploratory                      object\n",
              "Foreign languages                object\n",
              "BPM                             float64\n",
              "Frequency [Classical]            object\n",
              "Frequency [Country]              object\n",
              "Frequency [EDM]                  object\n",
              "Frequency [Folk]                 object\n",
              "Frequency [Gospel]               object\n",
              "Frequency [Hip hop]              object\n",
              "Frequency [Jazz]                 object\n",
              "Frequency [K pop]                object\n",
              "Frequency [Latin]                object\n",
              "Frequency [Lofi]                 object\n",
              "Frequency [Metal]                object\n",
              "Frequency [Pop]                  object\n",
              "Frequency [R&B]                  object\n",
              "Frequency [Rap]                  object\n",
              "Frequency [Rock]                 object\n",
              "Frequency [Video game music]     object\n",
              "Anxiety                         float64\n",
              "Depression                      float64\n",
              "Insomnia                        float64\n",
              "OCD                             float64\n",
              "Music effects                    object\n",
              "Permissions                      object\n",
              "dtype: object"
            ]
          },
          "metadata": {},
          "execution_count": 4
        }
      ]
    },
    {
      "cell_type": "code",
      "source": [
        "data.info()"
      ],
      "metadata": {
        "colab": {
          "base_uri": "https://localhost:8080/"
        },
        "id": "HlZ78SVSJtns",
        "outputId": "5f18c3d8-d7ce-431a-8361-27085d37588d"
      },
      "execution_count": 5,
      "outputs": [
        {
          "output_type": "stream",
          "name": "stdout",
          "text": [
            "<class 'pandas.core.frame.DataFrame'>\n",
            "RangeIndex: 736 entries, 0 to 735\n",
            "Data columns (total 33 columns):\n",
            " #   Column                        Non-Null Count  Dtype  \n",
            "---  ------                        --------------  -----  \n",
            " 0   Timestamp                     736 non-null    object \n",
            " 1   Age                           735 non-null    float64\n",
            " 2   Primary streaming service     735 non-null    object \n",
            " 3   Hours per day                 736 non-null    float64\n",
            " 4   While working                 733 non-null    object \n",
            " 5   Instrumentalist               732 non-null    object \n",
            " 6   Composer                      735 non-null    object \n",
            " 7   Fav genre                     736 non-null    object \n",
            " 8   Exploratory                   736 non-null    object \n",
            " 9   Foreign languages             732 non-null    object \n",
            " 10  BPM                           629 non-null    float64\n",
            " 11  Frequency [Classical]         736 non-null    object \n",
            " 12  Frequency [Country]           736 non-null    object \n",
            " 13  Frequency [EDM]               736 non-null    object \n",
            " 14  Frequency [Folk]              736 non-null    object \n",
            " 15  Frequency [Gospel]            736 non-null    object \n",
            " 16  Frequency [Hip hop]           736 non-null    object \n",
            " 17  Frequency [Jazz]              736 non-null    object \n",
            " 18  Frequency [K pop]             736 non-null    object \n",
            " 19  Frequency [Latin]             736 non-null    object \n",
            " 20  Frequency [Lofi]              736 non-null    object \n",
            " 21  Frequency [Metal]             736 non-null    object \n",
            " 22  Frequency [Pop]               736 non-null    object \n",
            " 23  Frequency [R&B]               736 non-null    object \n",
            " 24  Frequency [Rap]               736 non-null    object \n",
            " 25  Frequency [Rock]              736 non-null    object \n",
            " 26  Frequency [Video game music]  736 non-null    object \n",
            " 27  Anxiety                       736 non-null    float64\n",
            " 28  Depression                    736 non-null    float64\n",
            " 29  Insomnia                      736 non-null    float64\n",
            " 30  OCD                           736 non-null    float64\n",
            " 31  Music effects                 728 non-null    object \n",
            " 32  Permissions                   736 non-null    object \n",
            "dtypes: float64(7), object(26)\n",
            "memory usage: 189.9+ KB\n"
          ]
        }
      ]
    },
    {
      "cell_type": "markdown",
      "source": [
        "This dataset has 33 columns.\n",
        "\n",
        "Out of 33 columns 26 columns are *Object* type and rest are *Numeric* type."
      ],
      "metadata": {
        "id": "FtBbdF5PixZ2"
      }
    },
    {
      "cell_type": "code",
      "source": [
        "data.describe().T"
      ],
      "metadata": {
        "colab": {
          "base_uri": "https://localhost:8080/",
          "height": 269
        },
        "id": "xEKVz-8BJy9b",
        "outputId": "df07c0b6-223d-44d2-99d3-ac5576e57d4c"
      },
      "execution_count": 6,
      "outputs": [
        {
          "output_type": "execute_result",
          "data": {
            "text/plain": [
              "               count          mean           std   min    25%    50%    75%  \\\n",
              "Age            735.0  2.520680e+01  1.205497e+01  10.0   18.0   21.0   28.0   \n",
              "Hours per day  736.0  3.572758e+00  3.028199e+00   0.0    2.0    3.0    5.0   \n",
              "BPM            629.0  1.589948e+06  3.987261e+07   0.0  100.0  120.0  144.0   \n",
              "Anxiety        736.0  5.837636e+00  2.793054e+00   0.0    4.0    6.0    8.0   \n",
              "Depression     736.0  4.796196e+00  3.028870e+00   0.0    2.0    5.0    7.0   \n",
              "Insomnia       736.0  3.738451e+00  3.088689e+00   0.0    1.0    3.0    6.0   \n",
              "OCD            736.0  2.637228e+00  2.842017e+00   0.0    0.0    2.0    5.0   \n",
              "\n",
              "                       max  \n",
              "Age                   89.0  \n",
              "Hours per day         24.0  \n",
              "BPM            999999999.0  \n",
              "Anxiety               10.0  \n",
              "Depression            10.0  \n",
              "Insomnia              10.0  \n",
              "OCD                   10.0  "
            ],
            "text/html": [
              "\n",
              "  <div id=\"df-ab7edee6-2e73-480a-ac0e-383ea943d94f\">\n",
              "    <div class=\"colab-df-container\">\n",
              "      <div>\n",
              "<style scoped>\n",
              "    .dataframe tbody tr th:only-of-type {\n",
              "        vertical-align: middle;\n",
              "    }\n",
              "\n",
              "    .dataframe tbody tr th {\n",
              "        vertical-align: top;\n",
              "    }\n",
              "\n",
              "    .dataframe thead th {\n",
              "        text-align: right;\n",
              "    }\n",
              "</style>\n",
              "<table border=\"1\" class=\"dataframe\">\n",
              "  <thead>\n",
              "    <tr style=\"text-align: right;\">\n",
              "      <th></th>\n",
              "      <th>count</th>\n",
              "      <th>mean</th>\n",
              "      <th>std</th>\n",
              "      <th>min</th>\n",
              "      <th>25%</th>\n",
              "      <th>50%</th>\n",
              "      <th>75%</th>\n",
              "      <th>max</th>\n",
              "    </tr>\n",
              "  </thead>\n",
              "  <tbody>\n",
              "    <tr>\n",
              "      <th>Age</th>\n",
              "      <td>735.0</td>\n",
              "      <td>2.520680e+01</td>\n",
              "      <td>1.205497e+01</td>\n",
              "      <td>10.0</td>\n",
              "      <td>18.0</td>\n",
              "      <td>21.0</td>\n",
              "      <td>28.0</td>\n",
              "      <td>89.0</td>\n",
              "    </tr>\n",
              "    <tr>\n",
              "      <th>Hours per day</th>\n",
              "      <td>736.0</td>\n",
              "      <td>3.572758e+00</td>\n",
              "      <td>3.028199e+00</td>\n",
              "      <td>0.0</td>\n",
              "      <td>2.0</td>\n",
              "      <td>3.0</td>\n",
              "      <td>5.0</td>\n",
              "      <td>24.0</td>\n",
              "    </tr>\n",
              "    <tr>\n",
              "      <th>BPM</th>\n",
              "      <td>629.0</td>\n",
              "      <td>1.589948e+06</td>\n",
              "      <td>3.987261e+07</td>\n",
              "      <td>0.0</td>\n",
              "      <td>100.0</td>\n",
              "      <td>120.0</td>\n",
              "      <td>144.0</td>\n",
              "      <td>999999999.0</td>\n",
              "    </tr>\n",
              "    <tr>\n",
              "      <th>Anxiety</th>\n",
              "      <td>736.0</td>\n",
              "      <td>5.837636e+00</td>\n",
              "      <td>2.793054e+00</td>\n",
              "      <td>0.0</td>\n",
              "      <td>4.0</td>\n",
              "      <td>6.0</td>\n",
              "      <td>8.0</td>\n",
              "      <td>10.0</td>\n",
              "    </tr>\n",
              "    <tr>\n",
              "      <th>Depression</th>\n",
              "      <td>736.0</td>\n",
              "      <td>4.796196e+00</td>\n",
              "      <td>3.028870e+00</td>\n",
              "      <td>0.0</td>\n",
              "      <td>2.0</td>\n",
              "      <td>5.0</td>\n",
              "      <td>7.0</td>\n",
              "      <td>10.0</td>\n",
              "    </tr>\n",
              "    <tr>\n",
              "      <th>Insomnia</th>\n",
              "      <td>736.0</td>\n",
              "      <td>3.738451e+00</td>\n",
              "      <td>3.088689e+00</td>\n",
              "      <td>0.0</td>\n",
              "      <td>1.0</td>\n",
              "      <td>3.0</td>\n",
              "      <td>6.0</td>\n",
              "      <td>10.0</td>\n",
              "    </tr>\n",
              "    <tr>\n",
              "      <th>OCD</th>\n",
              "      <td>736.0</td>\n",
              "      <td>2.637228e+00</td>\n",
              "      <td>2.842017e+00</td>\n",
              "      <td>0.0</td>\n",
              "      <td>0.0</td>\n",
              "      <td>2.0</td>\n",
              "      <td>5.0</td>\n",
              "      <td>10.0</td>\n",
              "    </tr>\n",
              "  </tbody>\n",
              "</table>\n",
              "</div>\n",
              "      <button class=\"colab-df-convert\" onclick=\"convertToInteractive('df-ab7edee6-2e73-480a-ac0e-383ea943d94f')\"\n",
              "              title=\"Convert this dataframe to an interactive table.\"\n",
              "              style=\"display:none;\">\n",
              "        \n",
              "  <svg xmlns=\"http://www.w3.org/2000/svg\" height=\"24px\"viewBox=\"0 0 24 24\"\n",
              "       width=\"24px\">\n",
              "    <path d=\"M0 0h24v24H0V0z\" fill=\"none\"/>\n",
              "    <path d=\"M18.56 5.44l.94 2.06.94-2.06 2.06-.94-2.06-.94-.94-2.06-.94 2.06-2.06.94zm-11 1L8.5 8.5l.94-2.06 2.06-.94-2.06-.94L8.5 2.5l-.94 2.06-2.06.94zm10 10l.94 2.06.94-2.06 2.06-.94-2.06-.94-.94-2.06-.94 2.06-2.06.94z\"/><path d=\"M17.41 7.96l-1.37-1.37c-.4-.4-.92-.59-1.43-.59-.52 0-1.04.2-1.43.59L10.3 9.45l-7.72 7.72c-.78.78-.78 2.05 0 2.83L4 21.41c.39.39.9.59 1.41.59.51 0 1.02-.2 1.41-.59l7.78-7.78 2.81-2.81c.8-.78.8-2.07 0-2.86zM5.41 20L4 18.59l7.72-7.72 1.47 1.35L5.41 20z\"/>\n",
              "  </svg>\n",
              "      </button>\n",
              "      \n",
              "  <style>\n",
              "    .colab-df-container {\n",
              "      display:flex;\n",
              "      flex-wrap:wrap;\n",
              "      gap: 12px;\n",
              "    }\n",
              "\n",
              "    .colab-df-convert {\n",
              "      background-color: #E8F0FE;\n",
              "      border: none;\n",
              "      border-radius: 50%;\n",
              "      cursor: pointer;\n",
              "      display: none;\n",
              "      fill: #1967D2;\n",
              "      height: 32px;\n",
              "      padding: 0 0 0 0;\n",
              "      width: 32px;\n",
              "    }\n",
              "\n",
              "    .colab-df-convert:hover {\n",
              "      background-color: #E2EBFA;\n",
              "      box-shadow: 0px 1px 2px rgba(60, 64, 67, 0.3), 0px 1px 3px 1px rgba(60, 64, 67, 0.15);\n",
              "      fill: #174EA6;\n",
              "    }\n",
              "\n",
              "    [theme=dark] .colab-df-convert {\n",
              "      background-color: #3B4455;\n",
              "      fill: #D2E3FC;\n",
              "    }\n",
              "\n",
              "    [theme=dark] .colab-df-convert:hover {\n",
              "      background-color: #434B5C;\n",
              "      box-shadow: 0px 1px 3px 1px rgba(0, 0, 0, 0.15);\n",
              "      filter: drop-shadow(0px 1px 2px rgba(0, 0, 0, 0.3));\n",
              "      fill: #FFFFFF;\n",
              "    }\n",
              "  </style>\n",
              "\n",
              "      <script>\n",
              "        const buttonEl =\n",
              "          document.querySelector('#df-ab7edee6-2e73-480a-ac0e-383ea943d94f button.colab-df-convert');\n",
              "        buttonEl.style.display =\n",
              "          google.colab.kernel.accessAllowed ? 'block' : 'none';\n",
              "\n",
              "        async function convertToInteractive(key) {\n",
              "          const element = document.querySelector('#df-ab7edee6-2e73-480a-ac0e-383ea943d94f');\n",
              "          const dataTable =\n",
              "            await google.colab.kernel.invokeFunction('convertToInteractive',\n",
              "                                                     [key], {});\n",
              "          if (!dataTable) return;\n",
              "\n",
              "          const docLinkHtml = 'Like what you see? Visit the ' +\n",
              "            '<a target=\"_blank\" href=https://colab.research.google.com/notebooks/data_table.ipynb>data table notebook</a>'\n",
              "            + ' to learn more about interactive tables.';\n",
              "          element.innerHTML = '';\n",
              "          dataTable['output_type'] = 'display_data';\n",
              "          await google.colab.output.renderOutput(dataTable, element);\n",
              "          const docLink = document.createElement('div');\n",
              "          docLink.innerHTML = docLinkHtml;\n",
              "          element.appendChild(docLink);\n",
              "        }\n",
              "      </script>\n",
              "    </div>\n",
              "  </div>\n",
              "  "
            ]
          },
          "metadata": {},
          "execution_count": 6
        }
      ]
    },
    {
      "cell_type": "markdown",
      "source": [
        "The range of music listeners are from 10 to 89.\n",
        "\n",
        "The 3rd quartile and max of *Age*,  *Hours per day*, and *BPM* has a big difference. This shows it has outliers."
      ],
      "metadata": {
        "id": "r9-ZwJ5yjrwo"
      }
    },
    {
      "cell_type": "code",
      "source": [
        "data.describe(exclude='number').T"
      ],
      "metadata": {
        "colab": {
          "base_uri": "https://localhost:8080/",
          "height": 865
        },
        "id": "cy_Nrm6HJ6P6",
        "outputId": "e8b37216-59cb-4813-96fd-be1f8ec7d654"
      },
      "execution_count": 7,
      "outputs": [
        {
          "output_type": "execute_result",
          "data": {
            "text/plain": [
              "                             count unique                 top freq\n",
              "Timestamp                      736    735  8/28/2022 16:15:08    2\n",
              "Primary streaming service      735      6             Spotify  458\n",
              "While working                  733      2                 Yes  579\n",
              "Instrumentalist                732      2                  No  497\n",
              "Composer                       735      2                  No  609\n",
              "Fav genre                      736     16                Rock  188\n",
              "Exploratory                    736      2                 Yes  525\n",
              "Foreign languages              732      2                 Yes  404\n",
              "Frequency [Classical]          736      4              Rarely  259\n",
              "Frequency [Country]            736      4               Never  343\n",
              "Frequency [EDM]                736      4               Never  307\n",
              "Frequency [Folk]               736      4               Never  292\n",
              "Frequency [Gospel]             736      4               Never  535\n",
              "Frequency [Hip hop]            736      4           Sometimes  218\n",
              "Frequency [Jazz]               736      4               Never  261\n",
              "Frequency [K pop]              736      4               Never  416\n",
              "Frequency [Latin]              736      4               Never  443\n",
              "Frequency [Lofi]               736      4               Never  280\n",
              "Frequency [Metal]              736      4               Never  264\n",
              "Frequency [Pop]                736      4     Very frequently  277\n",
              "Frequency [R&B]                736      4               Never  225\n",
              "Frequency [Rap]                736      4              Rarely  215\n",
              "Frequency [Rock]               736      4     Very frequently  330\n",
              "Frequency [Video game music]   736      4               Never  236\n",
              "Music effects                  728      3             Improve  542\n",
              "Permissions                    736      1       I understand.  736"
            ],
            "text/html": [
              "\n",
              "  <div id=\"df-697f8224-853b-4710-9999-e027ccbbf754\">\n",
              "    <div class=\"colab-df-container\">\n",
              "      <div>\n",
              "<style scoped>\n",
              "    .dataframe tbody tr th:only-of-type {\n",
              "        vertical-align: middle;\n",
              "    }\n",
              "\n",
              "    .dataframe tbody tr th {\n",
              "        vertical-align: top;\n",
              "    }\n",
              "\n",
              "    .dataframe thead th {\n",
              "        text-align: right;\n",
              "    }\n",
              "</style>\n",
              "<table border=\"1\" class=\"dataframe\">\n",
              "  <thead>\n",
              "    <tr style=\"text-align: right;\">\n",
              "      <th></th>\n",
              "      <th>count</th>\n",
              "      <th>unique</th>\n",
              "      <th>top</th>\n",
              "      <th>freq</th>\n",
              "    </tr>\n",
              "  </thead>\n",
              "  <tbody>\n",
              "    <tr>\n",
              "      <th>Timestamp</th>\n",
              "      <td>736</td>\n",
              "      <td>735</td>\n",
              "      <td>8/28/2022 16:15:08</td>\n",
              "      <td>2</td>\n",
              "    </tr>\n",
              "    <tr>\n",
              "      <th>Primary streaming service</th>\n",
              "      <td>735</td>\n",
              "      <td>6</td>\n",
              "      <td>Spotify</td>\n",
              "      <td>458</td>\n",
              "    </tr>\n",
              "    <tr>\n",
              "      <th>While working</th>\n",
              "      <td>733</td>\n",
              "      <td>2</td>\n",
              "      <td>Yes</td>\n",
              "      <td>579</td>\n",
              "    </tr>\n",
              "    <tr>\n",
              "      <th>Instrumentalist</th>\n",
              "      <td>732</td>\n",
              "      <td>2</td>\n",
              "      <td>No</td>\n",
              "      <td>497</td>\n",
              "    </tr>\n",
              "    <tr>\n",
              "      <th>Composer</th>\n",
              "      <td>735</td>\n",
              "      <td>2</td>\n",
              "      <td>No</td>\n",
              "      <td>609</td>\n",
              "    </tr>\n",
              "    <tr>\n",
              "      <th>Fav genre</th>\n",
              "      <td>736</td>\n",
              "      <td>16</td>\n",
              "      <td>Rock</td>\n",
              "      <td>188</td>\n",
              "    </tr>\n",
              "    <tr>\n",
              "      <th>Exploratory</th>\n",
              "      <td>736</td>\n",
              "      <td>2</td>\n",
              "      <td>Yes</td>\n",
              "      <td>525</td>\n",
              "    </tr>\n",
              "    <tr>\n",
              "      <th>Foreign languages</th>\n",
              "      <td>732</td>\n",
              "      <td>2</td>\n",
              "      <td>Yes</td>\n",
              "      <td>404</td>\n",
              "    </tr>\n",
              "    <tr>\n",
              "      <th>Frequency [Classical]</th>\n",
              "      <td>736</td>\n",
              "      <td>4</td>\n",
              "      <td>Rarely</td>\n",
              "      <td>259</td>\n",
              "    </tr>\n",
              "    <tr>\n",
              "      <th>Frequency [Country]</th>\n",
              "      <td>736</td>\n",
              "      <td>4</td>\n",
              "      <td>Never</td>\n",
              "      <td>343</td>\n",
              "    </tr>\n",
              "    <tr>\n",
              "      <th>Frequency [EDM]</th>\n",
              "      <td>736</td>\n",
              "      <td>4</td>\n",
              "      <td>Never</td>\n",
              "      <td>307</td>\n",
              "    </tr>\n",
              "    <tr>\n",
              "      <th>Frequency [Folk]</th>\n",
              "      <td>736</td>\n",
              "      <td>4</td>\n",
              "      <td>Never</td>\n",
              "      <td>292</td>\n",
              "    </tr>\n",
              "    <tr>\n",
              "      <th>Frequency [Gospel]</th>\n",
              "      <td>736</td>\n",
              "      <td>4</td>\n",
              "      <td>Never</td>\n",
              "      <td>535</td>\n",
              "    </tr>\n",
              "    <tr>\n",
              "      <th>Frequency [Hip hop]</th>\n",
              "      <td>736</td>\n",
              "      <td>4</td>\n",
              "      <td>Sometimes</td>\n",
              "      <td>218</td>\n",
              "    </tr>\n",
              "    <tr>\n",
              "      <th>Frequency [Jazz]</th>\n",
              "      <td>736</td>\n",
              "      <td>4</td>\n",
              "      <td>Never</td>\n",
              "      <td>261</td>\n",
              "    </tr>\n",
              "    <tr>\n",
              "      <th>Frequency [K pop]</th>\n",
              "      <td>736</td>\n",
              "      <td>4</td>\n",
              "      <td>Never</td>\n",
              "      <td>416</td>\n",
              "    </tr>\n",
              "    <tr>\n",
              "      <th>Frequency [Latin]</th>\n",
              "      <td>736</td>\n",
              "      <td>4</td>\n",
              "      <td>Never</td>\n",
              "      <td>443</td>\n",
              "    </tr>\n",
              "    <tr>\n",
              "      <th>Frequency [Lofi]</th>\n",
              "      <td>736</td>\n",
              "      <td>4</td>\n",
              "      <td>Never</td>\n",
              "      <td>280</td>\n",
              "    </tr>\n",
              "    <tr>\n",
              "      <th>Frequency [Metal]</th>\n",
              "      <td>736</td>\n",
              "      <td>4</td>\n",
              "      <td>Never</td>\n",
              "      <td>264</td>\n",
              "    </tr>\n",
              "    <tr>\n",
              "      <th>Frequency [Pop]</th>\n",
              "      <td>736</td>\n",
              "      <td>4</td>\n",
              "      <td>Very frequently</td>\n",
              "      <td>277</td>\n",
              "    </tr>\n",
              "    <tr>\n",
              "      <th>Frequency [R&amp;B]</th>\n",
              "      <td>736</td>\n",
              "      <td>4</td>\n",
              "      <td>Never</td>\n",
              "      <td>225</td>\n",
              "    </tr>\n",
              "    <tr>\n",
              "      <th>Frequency [Rap]</th>\n",
              "      <td>736</td>\n",
              "      <td>4</td>\n",
              "      <td>Rarely</td>\n",
              "      <td>215</td>\n",
              "    </tr>\n",
              "    <tr>\n",
              "      <th>Frequency [Rock]</th>\n",
              "      <td>736</td>\n",
              "      <td>4</td>\n",
              "      <td>Very frequently</td>\n",
              "      <td>330</td>\n",
              "    </tr>\n",
              "    <tr>\n",
              "      <th>Frequency [Video game music]</th>\n",
              "      <td>736</td>\n",
              "      <td>4</td>\n",
              "      <td>Never</td>\n",
              "      <td>236</td>\n",
              "    </tr>\n",
              "    <tr>\n",
              "      <th>Music effects</th>\n",
              "      <td>728</td>\n",
              "      <td>3</td>\n",
              "      <td>Improve</td>\n",
              "      <td>542</td>\n",
              "    </tr>\n",
              "    <tr>\n",
              "      <th>Permissions</th>\n",
              "      <td>736</td>\n",
              "      <td>1</td>\n",
              "      <td>I understand.</td>\n",
              "      <td>736</td>\n",
              "    </tr>\n",
              "  </tbody>\n",
              "</table>\n",
              "</div>\n",
              "      <button class=\"colab-df-convert\" onclick=\"convertToInteractive('df-697f8224-853b-4710-9999-e027ccbbf754')\"\n",
              "              title=\"Convert this dataframe to an interactive table.\"\n",
              "              style=\"display:none;\">\n",
              "        \n",
              "  <svg xmlns=\"http://www.w3.org/2000/svg\" height=\"24px\"viewBox=\"0 0 24 24\"\n",
              "       width=\"24px\">\n",
              "    <path d=\"M0 0h24v24H0V0z\" fill=\"none\"/>\n",
              "    <path d=\"M18.56 5.44l.94 2.06.94-2.06 2.06-.94-2.06-.94-.94-2.06-.94 2.06-2.06.94zm-11 1L8.5 8.5l.94-2.06 2.06-.94-2.06-.94L8.5 2.5l-.94 2.06-2.06.94zm10 10l.94 2.06.94-2.06 2.06-.94-2.06-.94-.94-2.06-.94 2.06-2.06.94z\"/><path d=\"M17.41 7.96l-1.37-1.37c-.4-.4-.92-.59-1.43-.59-.52 0-1.04.2-1.43.59L10.3 9.45l-7.72 7.72c-.78.78-.78 2.05 0 2.83L4 21.41c.39.39.9.59 1.41.59.51 0 1.02-.2 1.41-.59l7.78-7.78 2.81-2.81c.8-.78.8-2.07 0-2.86zM5.41 20L4 18.59l7.72-7.72 1.47 1.35L5.41 20z\"/>\n",
              "  </svg>\n",
              "      </button>\n",
              "      \n",
              "  <style>\n",
              "    .colab-df-container {\n",
              "      display:flex;\n",
              "      flex-wrap:wrap;\n",
              "      gap: 12px;\n",
              "    }\n",
              "\n",
              "    .colab-df-convert {\n",
              "      background-color: #E8F0FE;\n",
              "      border: none;\n",
              "      border-radius: 50%;\n",
              "      cursor: pointer;\n",
              "      display: none;\n",
              "      fill: #1967D2;\n",
              "      height: 32px;\n",
              "      padding: 0 0 0 0;\n",
              "      width: 32px;\n",
              "    }\n",
              "\n",
              "    .colab-df-convert:hover {\n",
              "      background-color: #E2EBFA;\n",
              "      box-shadow: 0px 1px 2px rgba(60, 64, 67, 0.3), 0px 1px 3px 1px rgba(60, 64, 67, 0.15);\n",
              "      fill: #174EA6;\n",
              "    }\n",
              "\n",
              "    [theme=dark] .colab-df-convert {\n",
              "      background-color: #3B4455;\n",
              "      fill: #D2E3FC;\n",
              "    }\n",
              "\n",
              "    [theme=dark] .colab-df-convert:hover {\n",
              "      background-color: #434B5C;\n",
              "      box-shadow: 0px 1px 3px 1px rgba(0, 0, 0, 0.15);\n",
              "      filter: drop-shadow(0px 1px 2px rgba(0, 0, 0, 0.3));\n",
              "      fill: #FFFFFF;\n",
              "    }\n",
              "  </style>\n",
              "\n",
              "      <script>\n",
              "        const buttonEl =\n",
              "          document.querySelector('#df-697f8224-853b-4710-9999-e027ccbbf754 button.colab-df-convert');\n",
              "        buttonEl.style.display =\n",
              "          google.colab.kernel.accessAllowed ? 'block' : 'none';\n",
              "\n",
              "        async function convertToInteractive(key) {\n",
              "          const element = document.querySelector('#df-697f8224-853b-4710-9999-e027ccbbf754');\n",
              "          const dataTable =\n",
              "            await google.colab.kernel.invokeFunction('convertToInteractive',\n",
              "                                                     [key], {});\n",
              "          if (!dataTable) return;\n",
              "\n",
              "          const docLinkHtml = 'Like what you see? Visit the ' +\n",
              "            '<a target=\"_blank\" href=https://colab.research.google.com/notebooks/data_table.ipynb>data table notebook</a>'\n",
              "            + ' to learn more about interactive tables.';\n",
              "          element.innerHTML = '';\n",
              "          dataTable['output_type'] = 'display_data';\n",
              "          await google.colab.output.renderOutput(dataTable, element);\n",
              "          const docLink = document.createElement('div');\n",
              "          docLink.innerHTML = docLinkHtml;\n",
              "          element.appendChild(docLink);\n",
              "        }\n",
              "      </script>\n",
              "    </div>\n",
              "  </div>\n",
              "  "
            ]
          },
          "metadata": {},
          "execution_count": 7
        }
      ]
    },
    {
      "cell_type": "markdown",
      "source": [
        "The *Timestamp* column has a lot of unique value whereas *Permission* column has only one unique value."
      ],
      "metadata": {
        "id": "w1Nb_KcgkZEt"
      }
    },
    {
      "cell_type": "markdown",
      "source": [
        "### **Removing Outliers**"
      ],
      "metadata": {
        "id": "2DEEiG6eksOj"
      }
    },
    {
      "cell_type": "code",
      "source": [
        "age_index = data[(data['Age'] > 70)].index\n",
        "data = data.drop(age_index, axis=0)"
      ],
      "metadata": {
        "id": "hwOBa-SAThS7"
      },
      "execution_count": 8,
      "outputs": []
    },
    {
      "cell_type": "code",
      "source": [
        "hpd_index = data[data['Hours per day'] >= 15].index\n",
        "data = data.drop(hpd_index, axis=0)"
      ],
      "metadata": {
        "id": "4Gt1AW8ETvmm"
      },
      "execution_count": 9,
      "outputs": []
    },
    {
      "cell_type": "code",
      "source": [
        "data_index = data[data['BPM'] > 200].index\n",
        "data = data.drop(data_index, axis=0)"
      ],
      "metadata": {
        "id": "c5o5Zs7qwly4"
      },
      "execution_count": 10,
      "outputs": []
    },
    {
      "cell_type": "markdown",
      "source": [
        "### **Removing Not Needed Columns**"
      ],
      "metadata": {
        "id": "jPUui_iTlGm9"
      }
    },
    {
      "cell_type": "code",
      "source": [
        "data.drop(['Timestamp', 'Permissions'], axis=1, inplace=True)"
      ],
      "metadata": {
        "id": "g3MkCJSDY15D"
      },
      "execution_count": 11,
      "outputs": []
    },
    {
      "cell_type": "markdown",
      "source": [
        "### **Checking the Correlation**"
      ],
      "metadata": {
        "id": "nTRCJm2ulRFU"
      }
    },
    {
      "cell_type": "code",
      "source": [
        "corr_data = data.corr()['Age']\n",
        "corr_data.sort_values()"
      ],
      "metadata": {
        "colab": {
          "base_uri": "https://localhost:8080/"
        },
        "id": "9qNfK2jmM56n",
        "outputId": "3b9ebd82-a21d-436e-9387-508f28a2c201"
      },
      "execution_count": 12,
      "outputs": [
        {
          "output_type": "execute_result",
          "data": {
            "text/plain": [
              "Anxiety         -0.147222\n",
              "OCD             -0.123097\n",
              "Hours per day   -0.098354\n",
              "Depression      -0.087602\n",
              "BPM             -0.019868\n",
              "Insomnia         0.039365\n",
              "Age              1.000000\n",
              "Name: Age, dtype: float64"
            ]
          },
          "metadata": {},
          "execution_count": 12
        }
      ]
    },
    {
      "cell_type": "code",
      "source": [
        "sns.heatmap(data.corr())"
      ],
      "metadata": {
        "colab": {
          "base_uri": "https://localhost:8080/",
          "height": 357
        },
        "id": "dl-bMlE6OhFZ",
        "outputId": "4e6f41d7-3ee0-4c6a-cf4b-140932b2d6a7"
      },
      "execution_count": 13,
      "outputs": [
        {
          "output_type": "execute_result",
          "data": {
            "text/plain": [
              "<matplotlib.axes._subplots.AxesSubplot at 0x7fa29704d650>"
            ]
          },
          "metadata": {},
          "execution_count": 13
        },
        {
          "output_type": "display_data",
          "data": {
            "text/plain": [
              "<Figure size 432x288 with 2 Axes>"
            ],
            "image/png": "[encoded data removed]"
          },
          "metadata": {}
        }
      ]
    },
    {
      "cell_type": "markdown",
      "source": [
        "### **Removing Missing Values**"
      ],
      "metadata": {
        "id": "TWB2wi52lYgq"
      }
    },
    {
      "cell_type": "code",
      "source": [
        "data.isnull().sum()"
      ],
      "metadata": {
        "colab": {
          "base_uri": "https://localhost:8080/"
        },
        "id": "dc6im4FvZd7e",
        "outputId": "9f4e0801-b3d1-4091-f015-368c39e7c529"
      },
      "execution_count": 14,
      "outputs": [
        {
          "output_type": "execute_result",
          "data": {
            "text/plain": [
              "Age                               1\n",
              "Primary streaming service         1\n",
              "Hours per day                     0\n",
              "While working                     3\n",
              "Instrumentalist                   4\n",
              "Composer                          1\n",
              "Fav genre                         0\n",
              "Exploratory                       0\n",
              "Foreign languages                 4\n",
              "BPM                             105\n",
              "Frequency [Classical]             0\n",
              "Frequency [Country]               0\n",
              "Frequency [EDM]                   0\n",
              "Frequency [Folk]                  0\n",
              "Frequency [Gospel]                0\n",
              "Frequency [Hip hop]               0\n",
              "Frequency [Jazz]                  0\n",
              "Frequency [K pop]                 0\n",
              "Frequency [Latin]                 0\n",
              "Frequency [Lofi]                  0\n",
              "Frequency [Metal]                 0\n",
              "Frequency [Pop]                   0\n",
              "Frequency [R&B]                   0\n",
              "Frequency [Rap]                   0\n",
              "Frequency [Rock]                  0\n",
              "Frequency [Video game music]      0\n",
              "Anxiety                           0\n",
              "Depression                        0\n",
              "Insomnia                          0\n",
              "OCD                               0\n",
              "Music effects                     8\n",
              "dtype: int64"
            ]
          },
          "metadata": {},
          "execution_count": 14
        }
      ]
    },
    {
      "cell_type": "code",
      "source": [
        "data['Age'] = data['Age'].fillna(round(data['Age'].mean(), 0))\n",
        "data['Primary streaming service'] = data['Primary streaming service'].fillna(data['Primary streaming service'].mode()[0])\n",
        "data['While working'] = data['While working'].fillna(data['While working'].mode()[0])\n",
        "data['Instrumentalist'] = data['Instrumentalist'].fillna(data['Instrumentalist'].mode()[0])\n",
        "data['Composer'] = data['Composer'].fillna(data['Composer'].mode()[0])\n",
        "data['Foreign languages'] = data['Foreign languages'].fillna(data['Foreign languages'].mode()[0])\n",
        "data['Music effects'] = data['Music effects'].fillna(data['Music effects'].mode()[0])"
      ],
      "metadata": {
        "id": "fZjknOCIeE3J"
      },
      "execution_count": 15,
      "outputs": []
    },
    {
      "cell_type": "code",
      "source": [
        "miss_bpm = data[data['BPM'].isnull() == True]\n",
        "miss_bpm"
      ],
      "metadata": {
        "colab": {
          "base_uri": "https://localhost:8080/",
          "height": 679
        },
        "id": "5o4fYS7-aHKT",
        "outputId": "fb4de8ef-a85f-4d65-b724-b493e103d4a3"
      },
      "execution_count": 16,
      "outputs": [
        {
          "output_type": "execute_result",
          "data": {
            "text/plain": [
              "      Age          Primary streaming service  Hours per day While working  \\\n",
              "10   18.0                            Spotify            3.0           Yes   \n",
              "12   25.0                            Spotify            3.0           Yes   \n",
              "15   17.0                            Spotify            2.0            No   \n",
              "30   20.0                        Apple Music            5.0           Yes   \n",
              "32   19.0                            Spotify            6.0           Yes   \n",
              "..    ...                                ...            ...           ...   \n",
              "688  18.0                            Spotify            4.0           Yes   \n",
              "700  20.0                      YouTube Music            1.0           Yes   \n",
              "706  23.0                            Spotify            1.0           Yes   \n",
              "712  23.0  I do not use a streaming service.            3.0           Yes   \n",
              "717  23.0                            Spotify            2.0            No   \n",
              "\n",
              "    Instrumentalist Composer Fav genre Exploratory Foreign languages  BPM  \\\n",
              "10              Yes       No   Country         Yes                No  NaN   \n",
              "12               No       No   Hip hop         Yes               Yes  NaN   \n",
              "15               No       No       Pop         Yes               Yes  NaN   \n",
              "30              Yes       No      Rock         Yes               Yes  NaN   \n",
              "32              Yes       No     Metal         Yes               Yes  NaN   \n",
              "..              ...      ...       ...         ...               ...  ...   \n",
              "688              No       No       R&B          No                No  NaN   \n",
              "700              No       No       Pop          No               Yes  NaN   \n",
              "706             Yes       No      Rock         Yes               Yes  NaN   \n",
              "712              No       No      Rock          No                No  NaN   \n",
              "717              No       No      Rock         Yes               Yes  NaN   \n",
              "\n",
              "     ...  Frequency [Pop]  Frequency [R&B] Frequency [Rap] Frequency [Rock]  \\\n",
              "10   ...           Rarely           Rarely           Never           Rarely   \n",
              "12   ...        Sometimes        Sometimes          Rarely           Rarely   \n",
              "15   ...  Very frequently           Rarely       Sometimes        Sometimes   \n",
              "30   ...        Sometimes        Sometimes       Sometimes  Very frequently   \n",
              "32   ...        Sometimes            Never           Never        Sometimes   \n",
              "..   ...              ...              ...             ...              ...   \n",
              "688  ...        Sometimes  Very frequently       Sometimes            Never   \n",
              "700  ...  Very frequently           Rarely       Sometimes           Rarely   \n",
              "706  ...  Very frequently        Sometimes       Sometimes  Very frequently   \n",
              "712  ...        Sometimes           Rarely           Never  Very frequently   \n",
              "717  ...        Sometimes        Sometimes       Sometimes  Very frequently   \n",
              "\n",
              "    Frequency [Video game music] Anxiety Depression Insomnia  OCD  \\\n",
              "10                         Never     7.0        7.0      4.0  7.0   \n",
              "12                         Never     9.0        3.0      2.0  7.0   \n",
              "15                        Rarely     7.0        5.0      4.0  1.0   \n",
              "30                        Rarely     7.0        7.0      2.0  0.0   \n",
              "32                     Sometimes     9.0        8.0      2.0  3.0   \n",
              "..                           ...     ...        ...      ...  ...   \n",
              "688                        Never     8.0        0.0      0.0  2.0   \n",
              "700              Very frequently     8.0        9.0      6.0  5.0   \n",
              "706              Very frequently     8.0        6.0      1.0  4.0   \n",
              "712                        Never    10.0        5.0      2.0  0.0   \n",
              "717                        Never     5.0        7.0     10.0  2.0   \n",
              "\n",
              "    Music effects  \n",
              "10      No effect  \n",
              "12        Improve  \n",
              "15         Worsen  \n",
              "30        Improve  \n",
              "32        Improve  \n",
              "..            ...  \n",
              "688     No effect  \n",
              "700        Worsen  \n",
              "706       Improve  \n",
              "712       Improve  \n",
              "717     No effect  \n",
              "\n",
              "[105 rows x 31 columns]"
            ],
            "text/html": [
              "\n",
              "  <div id=\"df-9808a79e-1db5-4a2a-b5a9-5937e6fb0872\">\n",
              "    <div class=\"colab-df-container\">\n",
              "      <div>\n",
              "<style scoped>\n",
              "    .dataframe tbody tr th:only-of-type {\n",
              "        vertical-align: middle;\n",
              "    }\n",
              "\n",
              "    .dataframe tbody tr th {\n",
              "        vertical-align: top;\n",
              "    }\n",
              "\n",
              "    .dataframe thead th {\n",
              "        text-align: right;\n",
              "    }\n",
              "</style>\n",
              "<table border=\"1\" class=\"dataframe\">\n",
              "  <thead>\n",
              "    <tr style=\"text-align: right;\">\n",
              "      <th></th>\n",
              "      <th>Age</th>\n",
              "      <th>Primary streaming service</th>\n",
              "      <th>Hours per day</th>\n",
              "      <th>While working</th>\n",
              "      <th>Instrumentalist</th>\n",
              "      <th>Composer</th>\n",
              "      <th>Fav genre</th>\n",
              "      <th>Exploratory</th>\n",
              "      <th>Foreign languages</th>\n",
              "      <th>BPM</th>\n",
              "      <th>...</th>\n",
              "      <th>Frequency [Pop]</th>\n",
              "      <th>Frequency [R&amp;B]</th>\n",
              "      <th>Frequency [Rap]</th>\n",
              "      <th>Frequency [Rock]</th>\n",
              "      <th>Frequency [Video game music]</th>\n",
              "      <th>Anxiety</th>\n",
              "      <th>Depression</th>\n",
              "      <th>Insomnia</th>\n",
              "      <th>OCD</th>\n",
              "      <th>Music effects</th>\n",
              "    </tr>\n",
              "  </thead>\n",
              "  <tbody>\n",
              "    <tr>\n",
              "      <th>10</th>\n",
              "      <td>18.0</td>\n",
              "      <td>Spotify</td>\n",
              "      <td>3.0</td>\n",
              "      <td>Yes</td>\n",
              "      <td>Yes</td>\n",
              "      <td>No</td>\n",
              "      <td>Country</td>\n",
              "      <td>Yes</td>\n",
              "      <td>No</td>\n",
              "      <td>NaN</td>\n",
              "      <td>...</td>\n",
              "      <td>Rarely</td>\n",
              "      <td>Rarely</td>\n",
              "      <td>Never</td>\n",
              "      <td>Rarely</td>\n",
              "      <td>Never</td>\n",
              "      <td>7.0</td>\n",
              "      <td>7.0</td>\n",
              "      <td>4.0</td>\n",
              "      <td>7.0</td>\n",
              "      <td>No effect</td>\n",
              "    </tr>\n",
              "    <tr>\n",
              "      <th>12</th>\n",
              "      <td>25.0</td>\n",
              "      <td>Spotify</td>\n",
              "      <td>3.0</td>\n",
              "      <td>Yes</td>\n",
              "      <td>No</td>\n",
              "      <td>No</td>\n",
              "      <td>Hip hop</td>\n",
              "      <td>Yes</td>\n",
              "      <td>Yes</td>\n",
              "      <td>NaN</td>\n",
              "      <td>...</td>\n",
              "      <td>Sometimes</td>\n",
              "      <td>Sometimes</td>\n",
              "      <td>Rarely</td>\n",
              "      <td>Rarely</td>\n",
              "      <td>Never</td>\n",
              "      <td>9.0</td>\n",
              "      <td>3.0</td>\n",
              "      <td>2.0</td>\n",
              "      <td>7.0</td>\n",
              "      <td>Improve</td>\n",
              "    </tr>\n",
              "    <tr>\n",
              "      <th>15</th>\n",
              "      <td>17.0</td>\n",
              "      <td>Spotify</td>\n",
              "      <td>2.0</td>\n",
              "      <td>No</td>\n",
              "      <td>No</td>\n",
              "      <td>No</td>\n",
              "      <td>Pop</td>\n",
              "      <td>Yes</td>\n",
              "      <td>Yes</td>\n",
              "      <td>NaN</td>\n",
              "      <td>...</td>\n",
              "      <td>Very frequently</td>\n",
              "      <td>Rarely</td>\n",
              "      <td>Sometimes</td>\n",
              "      <td>Sometimes</td>\n",
              "      <td>Rarely</td>\n",
              "      <td>7.0</td>\n",
              "      <td>5.0</td>\n",
              "      <td>4.0</td>\n",
              "      <td>1.0</td>\n",
              "      <td>Worsen</td>\n",
              "    </tr>\n",
              "    <tr>\n",
              "      <th>30</th>\n",
              "      <td>20.0</td>\n",
              "      <td>Apple Music</td>\n",
              "      <td>5.0</td>\n",
              "      <td>Yes</td>\n",
              "      <td>Yes</td>\n",
              "      <td>No</td>\n",
              "      <td>Rock</td>\n",
              "      <td>Yes</td>\n",
              "      <td>Yes</td>\n",
              "      <td>NaN</td>\n",
              "      <td>...</td>\n",
              "      <td>Sometimes</td>\n",
              "      <td>Sometimes</td>\n",
              "      <td>Sometimes</td>\n",
              "      <td>Very frequently</td>\n",
              "      <td>Rarely</td>\n",
              "      <td>7.0</td>\n",
              "      <td>7.0</td>\n",
              "      <td>2.0</td>\n",
              "      <td>0.0</td>\n",
              "      <td>Improve</td>\n",
              "    </tr>\n",
              "    <tr>\n",
              "      <th>32</th>\n",
              "      <td>19.0</td>\n",
              "      <td>Spotify</td>\n",
              "      <td>6.0</td>\n",
              "      <td>Yes</td>\n",
              "      <td>Yes</td>\n",
              "      <td>No</td>\n",
              "      <td>Metal</td>\n",
              "      <td>Yes</td>\n",
              "      <td>Yes</td>\n",
              "      <td>NaN</td>\n",
              "      <td>...</td>\n",
              "      <td>Sometimes</td>\n",
              "      <td>Never</td>\n",
              "      <td>Never</td>\n",
              "      <td>Sometimes</td>\n",
              "      <td>Sometimes</td>\n",
              "      <td>9.0</td>\n",
              "      <td>8.0</td>\n",
              "      <td>2.0</td>\n",
              "      <td>3.0</td>\n",
              "      <td>Improve</td>\n",
              "    </tr>\n",
              "    <tr>\n",
              "      <th>...</th>\n",
              "      <td>...</td>\n",
              "      <td>...</td>\n",
              "      <td>...</td>\n",
              "      <td>...</td>\n",
              "      <td>...</td>\n",
              "      <td>...</td>\n",
              "      <td>...</td>\n",
              "      <td>...</td>\n",
              "      <td>...</td>\n",
              "      <td>...</td>\n",
              "      <td>...</td>\n",
              "      <td>...</td>\n",
              "      <td>...</td>\n",
              "      <td>...</td>\n",
              "      <td>...</td>\n",
              "      <td>...</td>\n",
              "      <td>...</td>\n",
              "      <td>...</td>\n",
              "      <td>...</td>\n",
              "      <td>...</td>\n",
              "      <td>...</td>\n",
              "    </tr>\n",
              "    <tr>\n",
              "      <th>688</th>\n",
              "      <td>18.0</td>\n",
              "      <td>Spotify</td>\n",
              "      <td>4.0</td>\n",
              "      <td>Yes</td>\n",
              "      <td>No</td>\n",
              "      <td>No</td>\n",
              "      <td>R&amp;B</td>\n",
              "      <td>No</td>\n",
              "      <td>No</td>\n",
              "      <td>NaN</td>\n",
              "      <td>...</td>\n",
              "      <td>Sometimes</td>\n",
              "      <td>Very frequently</td>\n",
              "      <td>Sometimes</td>\n",
              "      <td>Never</td>\n",
              "      <td>Never</td>\n",
              "      <td>8.0</td>\n",
              "      <td>0.0</td>\n",
              "      <td>0.0</td>\n",
              "      <td>2.0</td>\n",
              "      <td>No effect</td>\n",
              "    </tr>\n",
              "    <tr>\n",
              "      <th>700</th>\n",
              "      <td>20.0</td>\n",
              "      <td>YouTube Music</td>\n",
              "      <td>1.0</td>\n",
              "      <td>Yes</td>\n",
              "      <td>No</td>\n",
              "      <td>No</td>\n",
              "      <td>Pop</td>\n",
              "      <td>No</td>\n",
              "      <td>Yes</td>\n",
              "      <td>NaN</td>\n",
              "      <td>...</td>\n",
              "      <td>Very frequently</td>\n",
              "      <td>Rarely</td>\n",
              "      <td>Sometimes</td>\n",
              "      <td>Rarely</td>\n",
              "      <td>Very frequently</td>\n",
              "      <td>8.0</td>\n",
              "      <td>9.0</td>\n",
              "      <td>6.0</td>\n",
              "      <td>5.0</td>\n",
              "      <td>Worsen</td>\n",
              "    </tr>\n",
              "    <tr>\n",
              "      <th>706</th>\n",
              "      <td>23.0</td>\n",
              "      <td>Spotify</td>\n",
              "      <td>1.0</td>\n",
              "      <td>Yes</td>\n",
              "      <td>Yes</td>\n",
              "      <td>No</td>\n",
              "      <td>Rock</td>\n",
              "      <td>Yes</td>\n",
              "      <td>Yes</td>\n",
              "      <td>NaN</td>\n",
              "      <td>...</td>\n",
              "      <td>Very frequently</td>\n",
              "      <td>Sometimes</td>\n",
              "      <td>Sometimes</td>\n",
              "      <td>Very frequently</td>\n",
              "      <td>Very frequently</td>\n",
              "      <td>8.0</td>\n",
              "      <td>6.0</td>\n",
              "      <td>1.0</td>\n",
              "      <td>4.0</td>\n",
              "      <td>Improve</td>\n",
              "    </tr>\n",
              "    <tr>\n",
              "      <th>712</th>\n",
              "      <td>23.0</td>\n",
              "      <td>I do not use a streaming service.</td>\n",
              "      <td>3.0</td>\n",
              "      <td>Yes</td>\n",
              "      <td>No</td>\n",
              "      <td>No</td>\n",
              "      <td>Rock</td>\n",
              "      <td>No</td>\n",
              "      <td>No</td>\n",
              "      <td>NaN</td>\n",
              "      <td>...</td>\n",
              "      <td>Sometimes</td>\n",
              "      <td>Rarely</td>\n",
              "      <td>Never</td>\n",
              "      <td>Very frequently</td>\n",
              "      <td>Never</td>\n",
              "      <td>10.0</td>\n",
              "      <td>5.0</td>\n",
              "      <td>2.0</td>\n",
              "      <td>0.0</td>\n",
              "      <td>Improve</td>\n",
              "    </tr>\n",
              "    <tr>\n",
              "      <th>717</th>\n",
              "      <td>23.0</td>\n",
              "      <td>Spotify</td>\n",
              "      <td>2.0</td>\n",
              "      <td>No</td>\n",
              "      <td>No</td>\n",
              "      <td>No</td>\n",
              "      <td>Rock</td>\n",
              "      <td>Yes</td>\n",
              "      <td>Yes</td>\n",
              "      <td>NaN</td>\n",
              "      <td>...</td>\n",
              "      <td>Sometimes</td>\n",
              "      <td>Sometimes</td>\n",
              "      <td>Sometimes</td>\n",
              "      <td>Very frequently</td>\n",
              "      <td>Never</td>\n",
              "      <td>5.0</td>\n",
              "      <td>7.0</td>\n",
              "      <td>10.0</td>\n",
              "      <td>2.0</td>\n",
              "      <td>No effect</td>\n",
              "    </tr>\n",
              "  </tbody>\n",
              "</table>\n",
              "<p>105 rows × 31 columns</p>\n",
              "</div>\n",
              "      <button class=\"colab-df-convert\" onclick=\"convertToInteractive('df-9808a79e-1db5-4a2a-b5a9-5937e6fb0872')\"\n",
              "              title=\"Convert this dataframe to an interactive table.\"\n",
              "              style=\"display:none;\">\n",
              "        \n",
              "  <svg xmlns=\"http://www.w3.org/2000/svg\" height=\"24px\"viewBox=\"0 0 24 24\"\n",
              "       width=\"24px\">\n",
              "    <path d=\"M0 0h24v24H0V0z\" fill=\"none\"/>\n",
              "    <path d=\"M18.56 5.44l.94 2.06.94-2.06 2.06-.94-2.06-.94-.94-2.06-.94 2.06-2.06.94zm-11 1L8.5 8.5l.94-2.06 2.06-.94-2.06-.94L8.5 2.5l-.94 2.06-2.06.94zm10 10l.94 2.06.94-2.06 2.06-.94-2.06-.94-.94-2.06-.94 2.06-2.06.94z\"/><path d=\"M17.41 7.96l-1.37-1.37c-.4-.4-.92-.59-1.43-.59-.52 0-1.04.2-1.43.59L10.3 9.45l-7.72 7.72c-.78.78-.78 2.05 0 2.83L4 21.41c.39.39.9.59 1.41.59.51 0 1.02-.2 1.41-.59l7.78-7.78 2.81-2.81c.8-.78.8-2.07 0-2.86zM5.41 20L4 18.59l7.72-7.72 1.47 1.35L5.41 20z\"/>\n",
              "  </svg>\n",
              "      </button>\n",
              "      \n",
              "  <style>\n",
              "    .colab-df-container {\n",
              "      display:flex;\n",
              "      flex-wrap:wrap;\n",
              "      gap: 12px;\n",
              "    }\n",
              "\n",
              "    .colab-df-convert {\n",
              "      background-color: #E8F0FE;\n",
              "      border: none;\n",
              "      border-radius: 50%;\n",
              "      cursor: pointer;\n",
              "      display: none;\n",
              "      fill: #1967D2;\n",
              "      height: 32px;\n",
              "      padding: 0 0 0 0;\n",
              "      width: 32px;\n",
              "    }\n",
              "\n",
              "    .colab-df-convert:hover {\n",
              "      background-color: #E2EBFA;\n",
              "      box-shadow: 0px 1px 2px rgba(60, 64, 67, 0.3), 0px 1px 3px 1px rgba(60, 64, 67, 0.15);\n",
              "      fill: #174EA6;\n",
              "    }\n",
              "\n",
              "    [theme=dark] .colab-df-convert {\n",
              "      background-color: #3B4455;\n",
              "      fill: #D2E3FC;\n",
              "    }\n",
              "\n",
              "    [theme=dark] .colab-df-convert:hover {\n",
              "      background-color: #434B5C;\n",
              "      box-shadow: 0px 1px 3px 1px rgba(0, 0, 0, 0.15);\n",
              "      filter: drop-shadow(0px 1px 2px rgba(0, 0, 0, 0.3));\n",
              "      fill: #FFFFFF;\n",
              "    }\n",
              "  </style>\n",
              "\n",
              "      <script>\n",
              "        const buttonEl =\n",
              "          document.querySelector('#df-9808a79e-1db5-4a2a-b5a9-5937e6fb0872 button.colab-df-convert');\n",
              "        buttonEl.style.display =\n",
              "          google.colab.kernel.accessAllowed ? 'block' : 'none';\n",
              "\n",
              "        async function convertToInteractive(key) {\n",
              "          const element = document.querySelector('#df-9808a79e-1db5-4a2a-b5a9-5937e6fb0872');\n",
              "          const dataTable =\n",
              "            await google.colab.kernel.invokeFunction('convertToInteractive',\n",
              "                                                     [key], {});\n",
              "          if (!dataTable) return;\n",
              "\n",
              "          const docLinkHtml = 'Like what you see? Visit the ' +\n",
              "            '<a target=\"_blank\" href=https://colab.research.google.com/notebooks/data_table.ipynb>data table notebook</a>'\n",
              "            + ' to learn more about interactive tables.';\n",
              "          element.innerHTML = '';\n",
              "          dataTable['output_type'] = 'display_data';\n",
              "          await google.colab.output.renderOutput(dataTable, element);\n",
              "          const docLink = document.createElement('div');\n",
              "          docLink.innerHTML = docLinkHtml;\n",
              "          element.appendChild(docLink);\n",
              "        }\n",
              "      </script>\n",
              "    </div>\n",
              "  </div>\n",
              "  "
            ]
          },
          "metadata": {},
          "execution_count": 16
        }
      ]
    },
    {
      "cell_type": "code",
      "source": [
        "miss_bpm['Fav genre'].unique()"
      ],
      "metadata": {
        "colab": {
          "base_uri": "https://localhost:8080/"
        },
        "id": "tWavjJ4bcPwg",
        "outputId": "6f535118-ace4-4ae0-d0cb-3e43fcc2ad87"
      },
      "execution_count": 17,
      "outputs": [
        {
          "output_type": "execute_result",
          "data": {
            "text/plain": [
              "array(['Country', 'Hip hop', 'Pop', 'Rock', 'Metal', 'Classical',\n",
              "       'Video game music', 'R&B', 'Folk', 'Jazz', 'EDM', 'Gospel',\n",
              "       'K pop', 'Rap'], dtype=object)"
            ]
          },
          "metadata": {},
          "execution_count": 17
        }
      ]
    },
    {
      "cell_type": "code",
      "source": [
        "miss_bpm_genre = ['Country', 'Hip hop', 'Pop', 'Rock', 'Metal', 'Classical',\n",
        "       'Video game music', 'R&B', 'Folk', 'Jazz', 'EDM', 'Gospel',\n",
        "       'K pop', 'Rap']"
      ],
      "metadata": {
        "id": "MigF08b5cfAI"
      },
      "execution_count": 18,
      "outputs": []
    },
    {
      "cell_type": "code",
      "source": [
        "for i in miss_bpm_genre:\n",
        "  data['BPM'] = data['BPM'].fillna(round(data[data['Fav genre']== i ]['BPM'].mean(), 0))"
      ],
      "metadata": {
        "id": "DcPjIQEzclw0"
      },
      "execution_count": 19,
      "outputs": []
    },
    {
      "cell_type": "markdown",
      "source": [
        "### **Checking Dataset and Creating Copy**"
      ],
      "metadata": {
        "id": "x4CGbEq-lf2v"
      }
    },
    {
      "cell_type": "code",
      "source": [
        "data.shape"
      ],
      "metadata": {
        "colab": {
          "base_uri": "https://localhost:8080/"
        },
        "id": "uUKIkmVOa9rF",
        "outputId": "54798b46-fdc1-48f3-af3e-8a1114582373"
      },
      "execution_count": 20,
      "outputs": [
        {
          "output_type": "execute_result",
          "data": {
            "text/plain": [
              "(714, 31)"
            ]
          },
          "metadata": {},
          "execution_count": 20
        }
      ]
    },
    {
      "cell_type": "code",
      "source": [
        "df = data.copy()"
      ],
      "metadata": {
        "id": "K06lncZ4b37a"
      },
      "execution_count": 21,
      "outputs": []
    },
    {
      "cell_type": "markdown",
      "source": [
        "### **Data Visualization**"
      ],
      "metadata": {
        "id": "sPa2yPgeln7L"
      }
    },
    {
      "cell_type": "code",
      "source": [],
      "metadata": {
        "id": "dCxlcEiWvecL"
      },
      "execution_count": 21,
      "outputs": []
    },
    {
      "cell_type": "code",
      "source": [
        "plt.figure(figsize=(8,6))\n",
        "sns.histplot(data['Age'])"
      ],
      "metadata": {
        "colab": {
          "base_uri": "https://localhost:8080/",
          "height": 411
        },
        "id": "ddTuGqGSQ5JQ",
        "outputId": "142f26c3-8337-44ac-e6cd-9ebc54fe74dd"
      },
      "execution_count": 22,
      "outputs": [
        {
          "output_type": "execute_result",
          "data": {
            "text/plain": [
              "<matplotlib.axes._subplots.AxesSubplot at 0x7fa2970b34d0>"
            ]
          },
          "metadata": {},
          "execution_count": 22
        },
        {
          "output_type": "display_data",
          "data": {
            "text/plain": [
              "<Figure size 576x432 with 1 Axes>"
            ],
            "image/png": "[encoded data removed]"
          },
          "metadata": {}
        }
      ]
    },
    {
      "cell_type": "markdown",
      "source": [
        "People of age 16 - 24 are more frequently listening music."
      ],
      "metadata": {
        "id": "x7dXa1vkmdLa"
      }
    },
    {
      "cell_type": "code",
      "source": [
        "plt.figure(figsize=(8,6))\n",
        "sns.histplot(data['Hours per day'])"
      ],
      "metadata": {
        "colab": {
          "base_uri": "https://localhost:8080/",
          "height": 411
        },
        "id": "--IBLuOTPIM_",
        "outputId": "a075d5ae-a846-45fd-9115-af9353c22322"
      },
      "execution_count": 23,
      "outputs": [
        {
          "output_type": "execute_result",
          "data": {
            "text/plain": [
              "<matplotlib.axes._subplots.AxesSubplot at 0x7fa2941c8110>"
            ]
          },
          "metadata": {},
          "execution_count": 23
        },
        {
          "output_type": "display_data",
          "data": {
            "text/plain": [
              "<Figure size 576x432 with 1 Axes>"
            ],
            "image/png": "[encoded data removed]"
          },
          "metadata": {}
        }
      ]
    },
    {
      "cell_type": "markdown",
      "source": [
        "People working for 1-3 hours tend to hear music more than working more hours."
      ],
      "metadata": {
        "id": "qeF1WF3-mwKw"
      }
    },
    {
      "cell_type": "code",
      "source": [
        "plt.figure(figsize=(8,6))\n",
        "sns.histplot(data['BPM'])"
      ],
      "metadata": {
        "colab": {
          "base_uri": "https://localhost:8080/",
          "height": 411
        },
        "id": "RgWxoC84wzXj",
        "outputId": "eae86e21-1c4d-4c2f-c435-d415398fc45e"
      },
      "execution_count": 24,
      "outputs": [
        {
          "output_type": "execute_result",
          "data": {
            "text/plain": [
              "<matplotlib.axes._subplots.AxesSubplot at 0x7fa294759a10>"
            ]
          },
          "metadata": {},
          "execution_count": 24
        },
        {
          "output_type": "display_data",
          "data": {
            "text/plain": [
              "<Figure size 576x432 with 1 Axes>"
            ],
            "image/png": "[encoded data removed]"
          },
          "metadata": {}
        }
      ]
    },
    {
      "cell_type": "markdown",
      "source": [
        "Most songs heard between the range of 100-125 BPM."
      ],
      "metadata": {
        "id": "9guGmmtNtb6b"
      }
    },
    {
      "cell_type": "code",
      "source": [
        "plt.figure(figsize=(8,6))\n",
        "sns.countplot(x=data['Primary streaming service'])\n",
        "plt.xticks(rotation=75)"
      ],
      "metadata": {
        "colab": {
          "base_uri": "https://localhost:8080/",
          "height": 579
        },
        "id": "JWV3nw65Wuxw",
        "outputId": "69c48ee7-bab7-4383-b136-9e82bce696ad"
      },
      "execution_count": 25,
      "outputs": [
        {
          "output_type": "execute_result",
          "data": {
            "text/plain": [
              "(array([0, 1, 2, 3, 4, 5]), <a list of 6 Text major ticklabel objects>)"
            ]
          },
          "metadata": {},
          "execution_count": 25
        },
        {
          "output_type": "display_data",
          "data": {
            "text/plain": [
              "<Figure size 576x432 with 1 Axes>"
            ],
            "image/png": "[encoded data removed]"
          },
          "metadata": {}
        }
      ]
    },
    {
      "cell_type": "markdown",
      "source": [
        "This clearly shows *Spotify* is the most used streaming service."
      ],
      "metadata": {
        "id": "e0hLpWx9XJPi"
      }
    },
    {
      "cell_type": "code",
      "source": [
        "plt.figure(figsize=(8,6))\n",
        "sns.countplot(x=data['While working'])"
      ],
      "metadata": {
        "colab": {
          "base_uri": "https://localhost:8080/",
          "height": 411
        },
        "id": "7Z_xESpCXR7Z",
        "outputId": "c4f86800-cbb5-4749-a45f-cce59d3eb037"
      },
      "execution_count": 26,
      "outputs": [
        {
          "output_type": "execute_result",
          "data": {
            "text/plain": [
              "<matplotlib.axes._subplots.AxesSubplot at 0x7fa2941240d0>"
            ]
          },
          "metadata": {},
          "execution_count": 26
        },
        {
          "output_type": "display_data",
          "data": {
            "text/plain": [
              "<Figure size 576x432 with 1 Axes>"
            ],
            "image/png": "[encoded data removed]"
          },
          "metadata": {}
        }
      ]
    },
    {
      "cell_type": "markdown",
      "source": [
        "Around 80% people like to hear music while working."
      ],
      "metadata": {
        "id": "D8SVlxtMXZ2D"
      }
    },
    {
      "cell_type": "code",
      "source": [
        "plt.figure(figsize=(8,6))\n",
        "sns.countplot(x=data['Frequency [Classical]'])\n",
        "plt.xlabel('Classical Music')"
      ],
      "metadata": {
        "colab": {
          "base_uri": "https://localhost:8080/",
          "height": 411
        },
        "id": "pWTsytRsZK9v",
        "outputId": "278845e7-5204-4615-f590-3c0906552e50"
      },
      "execution_count": 27,
      "outputs": [
        {
          "output_type": "execute_result",
          "data": {
            "text/plain": [
              "Text(0.5, 0, 'Classical Music')"
            ]
          },
          "metadata": {},
          "execution_count": 27
        },
        {
          "output_type": "display_data",
          "data": {
            "text/plain": [
              "<Figure size 576x432 with 1 Axes>"
            ],
            "image/png": "[encoded data removed]"
          },
          "metadata": {}
        }
      ]
    },
    {
      "cell_type": "markdown",
      "source": [
        "35% people very rarely listen Classical music.\n",
        "\n",
        "22% people never listen classical music whereas 15% listen very frequently."
      ],
      "metadata": {
        "id": "6IaRTN5fZ3eo"
      }
    },
    {
      "cell_type": "code",
      "source": [
        "plt.figure(figsize=(8,6))\n",
        "sns.countplot(x=data['Frequency [Country]'])\n",
        "plt.xlabel('Country Music')"
      ],
      "metadata": {
        "colab": {
          "base_uri": "https://localhost:8080/",
          "height": 411
        },
        "id": "26GqpgRqakfz",
        "outputId": "f30a6385-1e50-49f9-ceae-729685855f1d"
      },
      "execution_count": 28,
      "outputs": [
        {
          "output_type": "execute_result",
          "data": {
            "text/plain": [
              "Text(0.5, 0, 'Country Music')"
            ]
          },
          "metadata": {},
          "execution_count": 28
        },
        {
          "output_type": "display_data",
          "data": {
            "text/plain": [
              "<Figure size 576x432 with 1 Axes>"
            ],
            "image/png": "[encoded data removed]"
          },
          "metadata": {}
        }
      ]
    },
    {
      "cell_type": "markdown",
      "source": [
        "50% people nevel listen country music.\n",
        "\n",
        "7% people listen is very frequently and 36% listen rarely."
      ],
      "metadata": {
        "id": "e-m_1w3Ha12T"
      }
    },
    {
      "cell_type": "code",
      "source": [
        "plt.figure(figsize=(8,6))\n",
        "sns.countplot(x=data['Frequency [EDM]'])\n",
        "plt.xlabel('EDM Music')"
      ],
      "metadata": {
        "colab": {
          "base_uri": "https://localhost:8080/",
          "height": 411
        },
        "id": "ilHjQQk7bHx1",
        "outputId": "5959459c-32f2-4d75-a485-94fa419499b7"
      },
      "execution_count": 29,
      "outputs": [
        {
          "output_type": "execute_result",
          "data": {
            "text/plain": [
              "Text(0.5, 0, 'EDM Music')"
            ]
          },
          "metadata": {},
          "execution_count": 29
        },
        {
          "output_type": "display_data",
          "data": {
            "text/plain": [
              "<Figure size 576x432 with 1 Axes>"
            ],
            "image/png": "[encoded data removed]"
          },
          "metadata": {}
        }
      ]
    },
    {
      "cell_type": "markdown",
      "source": [
        "42% people never listen EDM music and 11% are very frequent with this music."
      ],
      "metadata": {
        "id": "Lrg6oBibbRvH"
      }
    },
    {
      "cell_type": "code",
      "source": [
        "plt.figure(figsize=(8,6))\n",
        "sns.countplot(x=data['Frequency [Folk]'])\n",
        "plt.xlabel('Folk Music')"
      ],
      "metadata": {
        "colab": {
          "base_uri": "https://localhost:8080/",
          "height": 411
        },
        "id": "22C4WSEVbb1P",
        "outputId": "9cccc03c-06c4-4d12-b960-c447adda99ff"
      },
      "execution_count": 30,
      "outputs": [
        {
          "output_type": "execute_result",
          "data": {
            "text/plain": [
              "Text(0.5, 0, 'Folk Music')"
            ]
          },
          "metadata": {},
          "execution_count": 30
        },
        {
          "output_type": "display_data",
          "data": {
            "text/plain": [
              "<Figure size 576x432 with 1 Axes>"
            ],
            "image/png": "[encoded data removed]"
          },
          "metadata": {}
        }
      ]
    },
    {
      "cell_type": "markdown",
      "source": [
        "39% people never listen folk music and 10% are very frequently hear this music."
      ],
      "metadata": {
        "id": "xnJmsbnRb4sB"
      }
    },
    {
      "cell_type": "code",
      "source": [
        "plt.figure(figsize=(8,6))\n",
        "sns.countplot(x=data['Frequency [Gospel]'])\n",
        "plt.xlabel('Gospel Music')"
      ],
      "metadata": {
        "colab": {
          "base_uri": "https://localhost:8080/",
          "height": 411
        },
        "id": "aYx1Lr0sbbKo",
        "outputId": "3316c3a5-6ebe-4cd7-e215-4f15f81031f3"
      },
      "execution_count": 31,
      "outputs": [
        {
          "output_type": "execute_result",
          "data": {
            "text/plain": [
              "Text(0.5, 0, 'Gospel Music')"
            ]
          },
          "metadata": {},
          "execution_count": 31
        },
        {
          "output_type": "display_data",
          "data": {
            "text/plain": [
              "<Figure size 576x432 with 1 Axes>"
            ],
            "image/png": "[encoded data removed]"
          },
          "metadata": {}
        }
      ]
    },
    {
      "cell_type": "markdown",
      "source": [
        "Gospel music is very unpopular between listeners almost 75% people not hear it."
      ],
      "metadata": {
        "id": "Fd44SFlMeMea"
      }
    },
    {
      "cell_type": "code",
      "source": [
        "plt.figure(figsize=(8,6))\n",
        "sns.countplot(x=data['Frequency [Hip hop]'])\n",
        "plt.xlabel('Hip Hop Music')"
      ],
      "metadata": {
        "colab": {
          "base_uri": "https://localhost:8080/",
          "height": 411
        },
        "id": "8qvs3TqnfRvj",
        "outputId": "e92b0275-703e-4ed6-e52e-34b8c45f712f"
      },
      "execution_count": 32,
      "outputs": [
        {
          "output_type": "execute_result",
          "data": {
            "text/plain": [
              "Text(0.5, 0, 'Hip Hop Music')"
            ]
          },
          "metadata": {},
          "execution_count": 32
        },
        {
          "output_type": "display_data",
          "data": {
            "text/plain": [
              "<Figure size 576x432 with 1 Axes>"
            ],
            "image/png": "[encoded data removed]"
          },
          "metadata": {}
        }
      ]
    },
    {
      "cell_type": "markdown",
      "source": [
        "Hip hop is quite heared music type. Although 23% people don't listen this but other than that eveyone hear it."
      ],
      "metadata": {
        "id": "aRkZPLmafhMy"
      }
    },
    {
      "cell_type": "code",
      "source": [
        "plt.figure(figsize=(8,6))\n",
        "sns.countplot(x=data['Frequency [Jazz]'])\n",
        "plt.xlabel('Jazz Music')"
      ],
      "metadata": {
        "colab": {
          "base_uri": "https://localhost:8080/",
          "height": 411
        },
        "id": "UQ5H-DarfvkY",
        "outputId": "d40e48dd-c967-4c9a-ab7b-523314554222"
      },
      "execution_count": 33,
      "outputs": [
        {
          "output_type": "execute_result",
          "data": {
            "text/plain": [
              "Text(0.5, 0, 'Jazz Music')"
            ]
          },
          "metadata": {},
          "execution_count": 33
        },
        {
          "output_type": "display_data",
          "data": {
            "text/plain": [
              "<Figure size 576x432 with 1 Axes>"
            ],
            "image/png": "[encoded data removed]"
          },
          "metadata": {}
        }
      ]
    },
    {
      "cell_type": "markdown",
      "source": [
        "Jazz music is also very unheard music genres nowadays. Because 35% never hear this and 33% hear it rarely."
      ],
      "metadata": {
        "id": "c2QIu3-pgDNB"
      }
    },
    {
      "cell_type": "code",
      "source": [
        "plt.figure(figsize=(8,6))\n",
        "sns.countplot(x=data['Frequency [K pop]'])\n",
        "plt.xlabel('K Pop Music')"
      ],
      "metadata": {
        "colab": {
          "base_uri": "https://localhost:8080/",
          "height": 411
        },
        "id": "u9944wXnmGq0",
        "outputId": "5a1fa95d-695a-45f8-cf25-22cd23d58718"
      },
      "execution_count": 34,
      "outputs": [
        {
          "output_type": "execute_result",
          "data": {
            "text/plain": [
              "Text(0.5, 0, 'K Pop Music')"
            ]
          },
          "metadata": {},
          "execution_count": 34
        },
        {
          "output_type": "display_data",
          "data": {
            "text/plain": [
              "<Figure size 576x432 with 1 Axes>"
            ],
            "image/png": "[encoded data removed]"
          },
          "metadata": {}
        }
      ]
    },
    {
      "cell_type": "markdown",
      "source": [
        "This is also one of less heard music. 56% never hear this music."
      ],
      "metadata": {
        "id": "O1iY-wSGmZTJ"
      }
    },
    {
      "cell_type": "code",
      "source": [
        "plt.figure(figsize=(8,6))\n",
        "sns.countplot(x=data['Frequency [Latin]'])\n",
        "plt.xlabel('Latin Music')"
      ],
      "metadata": {
        "colab": {
          "base_uri": "https://localhost:8080/",
          "height": 411
        },
        "id": "iswQyeX3m6Rv",
        "outputId": "b6711fa8-fe00-4adb-ecd8-810e35a12495"
      },
      "execution_count": 35,
      "outputs": [
        {
          "output_type": "execute_result",
          "data": {
            "text/plain": [
              "Text(0.5, 0, 'Latin Music')"
            ]
          },
          "metadata": {},
          "execution_count": 35
        },
        {
          "output_type": "display_data",
          "data": {
            "text/plain": [
              "<Figure size 576x432 with 1 Axes>"
            ],
            "image/png": "[encoded data removed]"
          },
          "metadata": {}
        }
      ]
    },
    {
      "cell_type": "markdown",
      "source": [
        "60% people never hear this music also."
      ],
      "metadata": {
        "id": "O-mQbBzKnYMm"
      }
    },
    {
      "cell_type": "code",
      "source": [
        "plt.figure(figsize=(8,6))\n",
        "sns.countplot(x=data['Frequency [Lofi]'])\n",
        "plt.xlabel('Lofi Music')"
      ],
      "metadata": {
        "colab": {
          "base_uri": "https://localhost:8080/",
          "height": 411
        },
        "id": "LRKzNw34oVoN",
        "outputId": "62e7ecb3-b8a7-4961-e031-fab8d9b6dff7"
      },
      "execution_count": 36,
      "outputs": [
        {
          "output_type": "execute_result",
          "data": {
            "text/plain": [
              "Text(0.5, 0, 'Lofi Music')"
            ]
          },
          "metadata": {},
          "execution_count": 36
        },
        {
          "output_type": "display_data",
          "data": {
            "text/plain": [
              "<Figure size 576x432 with 1 Axes>"
            ],
            "image/png": "[encoded data removed]"
          },
          "metadata": {}
        }
      ]
    },
    {
      "cell_type": "markdown",
      "source": [
        "Never heard by 36% and 32% hear it more than rarely."
      ],
      "metadata": {
        "id": "hhqqmXhKr2I-"
      }
    },
    {
      "cell_type": "code",
      "source": [
        "plt.figure(figsize=(8,6))\n",
        "sns.countplot(x=data['Frequency [Metal]'])\n",
        "plt.xlabel('Metal Music')"
      ],
      "metadata": {
        "colab": {
          "base_uri": "https://localhost:8080/",
          "height": 411
        },
        "id": "zJmtTcxNFIrW",
        "outputId": "0db9beb7-9582-4b5e-9bf0-664872fa060b"
      },
      "execution_count": 37,
      "outputs": [
        {
          "output_type": "execute_result",
          "data": {
            "text/plain": [
              "Text(0.5, 0, 'Metal Music')"
            ]
          },
          "metadata": {},
          "execution_count": 37
        },
        {
          "output_type": "display_data",
          "data": {
            "text/plain": [
              "<Figure size 576x432 with 1 Axes>"
            ],
            "image/png": "[encoded data removed]"
          },
          "metadata": {}
        }
      ]
    },
    {
      "cell_type": "markdown",
      "source": [
        "70% people hear this type of music whether it being heard sometimes or very frequently."
      ],
      "metadata": {
        "id": "Sob3JH0chgL4"
      }
    },
    {
      "cell_type": "code",
      "source": [
        "plt.figure(figsize=(8,6))\n",
        "sns.countplot(x=data['Frequency [Pop]'])\n",
        "plt.xlabel('Pop Music')"
      ],
      "metadata": {
        "colab": {
          "base_uri": "https://localhost:8080/",
          "height": 411
        },
        "id": "Dqy7H0brFLun",
        "outputId": "e01d06a3-6f61-4265-8bd5-df721af293db"
      },
      "execution_count": 38,
      "outputs": [
        {
          "output_type": "execute_result",
          "data": {
            "text/plain": [
              "Text(0.5, 0, 'Pop Music')"
            ]
          },
          "metadata": {},
          "execution_count": 38
        },
        {
          "output_type": "display_data",
          "data": {
            "text/plain": [
              "<Figure size 576x432 with 1 Axes>"
            ],
            "image/png": "[encoded data removed]"
          },
          "metadata": {}
        }
      ]
    },
    {
      "cell_type": "markdown",
      "source": [
        "Pop music is very famous between listeners. Almost 93% hear it. Among these 36% hear it very frequently."
      ],
      "metadata": {
        "id": "3IUnTo75h88U"
      }
    },
    {
      "cell_type": "code",
      "source": [
        "plt.figure(figsize=(8,6))\n",
        "sns.countplot(x=data['Frequency [R&B]'])\n",
        "plt.xlabel('R&B Music')"
      ],
      "metadata": {
        "colab": {
          "base_uri": "https://localhost:8080/",
          "height": 411
        },
        "id": "6YT1INbOFN_v",
        "outputId": "590fd445-7f36-4b3f-88ee-fc8f3f55f644"
      },
      "execution_count": 39,
      "outputs": [
        {
          "output_type": "execute_result",
          "data": {
            "text/plain": [
              "Text(0.5, 0, 'R&B Music')"
            ]
          },
          "metadata": {},
          "execution_count": 39
        },
        {
          "output_type": "display_data",
          "data": {
            "text/plain": [
              "<Figure size 576x432 with 1 Axes>"
            ],
            "image/png": "[encoded data removed]"
          },
          "metadata": {}
        }
      ]
    },
    {
      "cell_type": "markdown",
      "source": [
        "R&B is also somewhat very unpopular music genre. 30% people don't listen this. Among the other 70%, 28% people hear it rarely with 24% people who hear it sometimes."
      ],
      "metadata": {
        "id": "r4CwQ3GLiNhd"
      }
    },
    {
      "cell_type": "code",
      "source": [
        "plt.figure(figsize=(8,6))\n",
        "sns.countplot(x=data['Frequency [Rap]'])\n",
        "plt.xlabel('Rap Music')"
      ],
      "metadata": {
        "colab": {
          "base_uri": "https://localhost:8080/",
          "height": 411
        },
        "id": "QLLO8mIPFR63",
        "outputId": "fe7fb7c0-b9db-42f9-af99-6869f27e0dc8"
      },
      "execution_count": 40,
      "outputs": [
        {
          "output_type": "execute_result",
          "data": {
            "text/plain": [
              "Text(0.5, 0, 'Rap Music')"
            ]
          },
          "metadata": {},
          "execution_count": 40
        },
        {
          "output_type": "display_data",
          "data": {
            "text/plain": [
              "<Figure size 576x432 with 1 Axes>"
            ],
            "image/png": "[encoded data removed]"
          },
          "metadata": {}
        }
      ]
    },
    {
      "cell_type": "markdown",
      "source": [
        "26% people never hear it while 30% hear it rarely."
      ],
      "metadata": {
        "id": "C1-xxU1oiydG"
      }
    },
    {
      "cell_type": "code",
      "source": [
        "plt.figure(figsize=(8,6))\n",
        "sns.countplot(x=data['Frequency [Rock]'])\n",
        "plt.xlabel('Rock Music')"
      ],
      "metadata": {
        "colab": {
          "base_uri": "https://localhost:8080/",
          "height": 411
        },
        "id": "2cm3ALUGFTxO",
        "outputId": "c9649c9b-8b2a-46b8-d6ac-1785da77513f"
      },
      "execution_count": 41,
      "outputs": [
        {
          "output_type": "execute_result",
          "data": {
            "text/plain": [
              "Text(0.5, 0, 'Rock Music')"
            ]
          },
          "metadata": {},
          "execution_count": 41
        },
        {
          "output_type": "display_data",
          "data": {
            "text/plain": [
              "<Figure size 576x432 with 1 Axes>"
            ],
            "image/png": "[encoded data removed]"
          },
          "metadata": {}
        }
      ]
    },
    {
      "cell_type": "markdown",
      "source": [
        "44% hear Rap music very frequently and 28% hear it sometimes which makes it very popular music genre."
      ],
      "metadata": {
        "id": "x2rvvrg2jFyp"
      }
    },
    {
      "cell_type": "code",
      "source": [
        "plt.figure(figsize=(8,6))\n",
        "sns.countplot(x=data['Frequency [Video game music]'])\n",
        "plt.xlabel('Video Game Music')"
      ],
      "metadata": {
        "colab": {
          "base_uri": "https://localhost:8080/",
          "height": 411
        },
        "id": "hd1N_D9jFXG2",
        "outputId": "62a29603-3651-4484-c10c-f84ca51df0d3"
      },
      "execution_count": 42,
      "outputs": [
        {
          "output_type": "execute_result",
          "data": {
            "text/plain": [
              "Text(0.5, 0, 'Video Game Music')"
            ]
          },
          "metadata": {},
          "execution_count": 42
        },
        {
          "output_type": "display_data",
          "data": {
            "text/plain": [
              "<Figure size 576x432 with 1 Axes>"
            ],
            "image/png": "[encoded data removed]"
          },
          "metadata": {}
        }
      ]
    },
    {
      "cell_type": "markdown",
      "source": [
        "32% people never listen this music."
      ],
      "metadata": {
        "id": "oE2_PSUljXuc"
      }
    },
    {
      "cell_type": "markdown",
      "source": [
        "### **Bivariate Analysis**"
      ],
      "metadata": {
        "id": "GuldKpKMYOYh"
      }
    },
    {
      "cell_type": "code",
      "source": [
        "plt.figure(figsize=(8,6))\n",
        "sns.lineplot(x=data['Fav genre'], y=data['Age'], ci=None)\n",
        "plt.xticks(rotation=90)"
      ],
      "metadata": {
        "colab": {
          "base_uri": "https://localhost:8080/",
          "height": 521
        },
        "id": "2-DjUK7zuPG2",
        "outputId": "83335235-a6f7-4089-d697-72400eb8ce60"
      },
      "execution_count": 43,
      "outputs": [
        {
          "output_type": "execute_result",
          "data": {
            "text/plain": [
              "([0, 1, 2, 3, 4, 5, 6, 7, 8, 9, 10, 11, 12, 13, 14, 15],\n",
              " <a list of 16 Text major ticklabel objects>)"
            ]
          },
          "metadata": {},
          "execution_count": 43
        },
        {
          "output_type": "display_data",
          "data": {
            "text/plain": [
              "<Figure size 576x432 with 1 Axes>"
            ],
            "image/png": "[encoded data removed]"
          },
          "metadata": {}
        }
      ]
    },
    {
      "cell_type": "markdown",
      "source": [
        "People around age of 20 are interested in *Latin*, *K pop* and *Rap* songs whereas *Gospel* is more famous in people around age of 50 and above.\n",
        "\n",
        "Besides these above mentioned genre are heard by people from age of 20 to 30."
      ],
      "metadata": {
        "id": "0Tr2AyuGvex3"
      }
    },
    {
      "cell_type": "code",
      "source": [
        "plt.figure(figsize=(8,6))\n",
        "sns.boxplot(x=data['Fav genre'], y=data['Hours per day'])\n",
        "plt.xticks(rotation=90)"
      ],
      "metadata": {
        "colab": {
          "base_uri": "https://localhost:8080/",
          "height": 521
        },
        "id": "M-H4142guiKl",
        "outputId": "b393514b-6ba6-4435-f4cd-a261b8d03cd3"
      },
      "execution_count": 44,
      "outputs": [
        {
          "output_type": "execute_result",
          "data": {
            "text/plain": [
              "(array([ 0,  1,  2,  3,  4,  5,  6,  7,  8,  9, 10, 11, 12, 13, 14, 15]),\n",
              " <a list of 16 Text major ticklabel objects>)"
            ]
          },
          "metadata": {},
          "execution_count": 44
        },
        {
          "output_type": "display_data",
          "data": {
            "text/plain": [
              "<Figure size 576x432 with 1 Axes>"
            ],
            "image/png": "[encoded data removed]"
          },
          "metadata": {}
        }
      ]
    },
    {
      "cell_type": "markdown",
      "source": [
        "People work 12 hours a day use to listen *Latin* and *Jazz* genre music more.\n",
        "\n",
        "People listening music of *Gospel* genre work less than others."
      ],
      "metadata": {
        "id": "LSwEoMPGyeM2"
      }
    },
    {
      "cell_type": "code",
      "source": [
        "plt.figure(figsize=(8,6))\n",
        "sns.barplot(x=data['Fav genre'], y=data['Anxiety'], errwidth=0)\n",
        "plt.xticks(rotation=90)"
      ],
      "metadata": {
        "colab": {
          "base_uri": "https://localhost:8080/",
          "height": 521
        },
        "id": "LgJ3EAVEy-7o",
        "outputId": "c8b3e674-79c3-4f38-9881-278027198cae"
      },
      "execution_count": 45,
      "outputs": [
        {
          "output_type": "execute_result",
          "data": {
            "text/plain": [
              "(array([ 0,  1,  2,  3,  4,  5,  6,  7,  8,  9, 10, 11, 12, 13, 14, 15]),\n",
              " <a list of 16 Text major ticklabel objects>)"
            ]
          },
          "metadata": {},
          "execution_count": 45
        },
        {
          "output_type": "display_data",
          "data": {
            "text/plain": [
              "<Figure size 576x432 with 1 Axes>"
            ],
            "image/png": "[encoded data removed]"
          },
          "metadata": {}
        }
      ]
    },
    {
      "cell_type": "markdown",
      "source": [
        "Every listener has Anxiety level above 4 but *Rock*, *Jazz*, *K pop*, *Hip hop*, *Pop*, and *Folk* music listeners have anxiety levey above 6."
      ],
      "metadata": {
        "id": "Vu5zSdkt_8Wk"
      }
    },
    {
      "cell_type": "code",
      "source": [
        "plt.figure(figsize=(8,6))\n",
        "sns.barplot(x=data['Fav genre'], y=data['Insomnia'], errwidth=0)\n",
        "plt.xticks(rotation=90)"
      ],
      "metadata": {
        "colab": {
          "base_uri": "https://localhost:8080/",
          "height": 522
        },
        "id": "5B603iMvzhz9",
        "outputId": "994551f3-b61e-4e6f-eb43-bf9ab822713c"
      },
      "execution_count": 46,
      "outputs": [
        {
          "output_type": "execute_result",
          "data": {
            "text/plain": [
              "(array([ 0,  1,  2,  3,  4,  5,  6,  7,  8,  9, 10, 11, 12, 13, 14, 15]),\n",
              " <a list of 16 Text major ticklabel objects>)"
            ]
          },
          "metadata": {},
          "execution_count": 46
        },
        {
          "output_type": "display_data",
          "data": {
            "text/plain": [
              "<Figure size 576x432 with 1 Axes>"
            ],
            "image/png": "[encoded data removed]"
          },
          "metadata": {}
        }
      ]
    },
    {
      "cell_type": "markdown",
      "source": [
        "Every listener have insomnia level below 4 besides *Metal*, *Lofi*, and *Gospel*."
      ],
      "metadata": {
        "id": "SQ57_IUtAjPn"
      }
    },
    {
      "cell_type": "code",
      "source": [
        "plt.figure(figsize=(8,6))\n",
        "sns.barplot(x=data['Fav genre'], y=data['OCD'], errwidth=0)\n",
        "plt.xticks(rotation=90)"
      ],
      "metadata": {
        "colab": {
          "base_uri": "https://localhost:8080/",
          "height": 521
        },
        "id": "Mpf92TW8zv2H",
        "outputId": "f99c6057-1d0d-469b-b214-473ac3719e5a"
      },
      "execution_count": 47,
      "outputs": [
        {
          "output_type": "execute_result",
          "data": {
            "text/plain": [
              "(array([ 0,  1,  2,  3,  4,  5,  6,  7,  8,  9, 10, 11, 12, 13, 14, 15]),\n",
              " <a list of 16 Text major ticklabel objects>)"
            ]
          },
          "metadata": {},
          "execution_count": 47
        },
        {
          "output_type": "display_data",
          "data": {
            "text/plain": [
              "<Figure size 576x432 with 1 Axes>"
            ],
            "image/png": "[encoded data removed]"
          },
          "metadata": {}
        }
      ]
    },
    {
      "cell_type": "markdown",
      "source": [
        "The maximum OCD leve is above 3 in *Rap* and *Lofi* listeners."
      ],
      "metadata": {
        "id": "nJSw4zLxA6R_"
      }
    },
    {
      "cell_type": "code",
      "source": [
        "plt.figure(figsize=(8,6))\n",
        "sns.barplot(x=data['Fav genre'], y=data['Depression'], errwidth=0)\n",
        "plt.xticks(rotation=90)"
      ],
      "metadata": {
        "colab": {
          "base_uri": "https://localhost:8080/",
          "height": 521
        },
        "id": "sDQImecz_qrw",
        "outputId": "f81f65f2-daab-4f6c-89b4-37ff4e18d1b2"
      },
      "execution_count": 48,
      "outputs": [
        {
          "output_type": "execute_result",
          "data": {
            "text/plain": [
              "(array([ 0,  1,  2,  3,  4,  5,  6,  7,  8,  9, 10, 11, 12, 13, 14, 15]),\n",
              " <a list of 16 Text major ticklabel objects>)"
            ]
          },
          "metadata": {},
          "execution_count": 48
        },
        {
          "output_type": "display_data",
          "data": {
            "text/plain": [
              "<Figure size 576x432 with 1 Axes>"
            ],
            "image/png": "[encoded data removed]"
          },
          "metadata": {}
        }
      ]
    },
    {
      "cell_type": "markdown",
      "source": [
        "Evey listener have Depression level above 3.\n",
        "\n",
        "Lofi, Hip hop, and Rock listeners have Depression level above 5."
      ],
      "metadata": {
        "id": "DzZcFJQFBmnR"
      }
    },
    {
      "cell_type": "code",
      "source": [
        "plt.figure(figsize=(8,6))\n",
        "sns.barplot(x=data['Fav genre'], y=data['Age'], hue=data['Music effects'], errwidth=0, palette='coolwarm')\n",
        "plt.xticks(rotation=90)"
      ],
      "metadata": {
        "colab": {
          "base_uri": "https://localhost:8080/",
          "height": 521
        },
        "id": "L-on7fU79f3W",
        "outputId": "3120f94a-cd6a-46f9-b588-3c66afc74716"
      },
      "execution_count": 49,
      "outputs": [
        {
          "output_type": "execute_result",
          "data": {
            "text/plain": [
              "(array([ 0,  1,  2,  3,  4,  5,  6,  7,  8,  9, 10, 11, 12, 13, 14, 15]),\n",
              " <a list of 16 Text major ticklabel objects>)"
            ]
          },
          "metadata": {},
          "execution_count": 49
        },
        {
          "output_type": "display_data",
          "data": {
            "text/plain": [
              "<Figure size 576x432 with 1 Axes>"
            ],
            "image/png": "[encoded data removed]"
          },
          "metadata": {}
        }
      ]
    },
    {
      "cell_type": "markdown",
      "source": [
        "Every Music listeners of every age showing some kind of improvement but *Rock*, *Video Game Music*, *Pop*, *Rap*, and *Classical* have worsen condition."
      ],
      "metadata": {
        "id": "kgkvnYVATngI"
      }
    },
    {
      "cell_type": "code",
      "source": [
        "plt.figure(figsize=(8,6))\n",
        "sns.barplot(x=data['Fav genre'], y=data['OCD'], hue=data['Music effects'], errwidth=0, palette='coolwarm')\n",
        "plt.xticks(rotation=90)"
      ],
      "metadata": {
        "colab": {
          "base_uri": "https://localhost:8080/",
          "height": 521
        },
        "id": "9GekCqgx-wMR",
        "outputId": "5ced1d7f-f4a6-4a3a-84c5-d63b293e943d"
      },
      "execution_count": 50,
      "outputs": [
        {
          "output_type": "execute_result",
          "data": {
            "text/plain": [
              "(array([ 0,  1,  2,  3,  4,  5,  6,  7,  8,  9, 10, 11, 12, 13, 14, 15]),\n",
              " <a list of 16 Text major ticklabel objects>)"
            ]
          },
          "metadata": {},
          "execution_count": 50
        },
        {
          "output_type": "display_data",
          "data": {
            "text/plain": [
              "<Figure size 576x432 with 1 Axes>"
            ],
            "image/png": "[encoded data removed]"
          },
          "metadata": {}
        }
      ]
    },
    {
      "cell_type": "markdown",
      "source": [
        "*Rock*, *Video Game Music*, *Pop*, *Rap*, and *Classical* listeners have some level of OCD but Classical listeners have highest OCD."
      ],
      "metadata": {
        "id": "VUmWid-qUeKD"
      }
    },
    {
      "cell_type": "code",
      "source": [
        "plt.figure(figsize=(8,6))\n",
        "sns.barplot(x=data['Fav genre'], y=data['Anxiety'], hue=data['Music effects'], errwidth=0, palette='coolwarm')\n",
        "plt.xticks(rotation=90)"
      ],
      "metadata": {
        "colab": {
          "base_uri": "https://localhost:8080/",
          "height": 521
        },
        "id": "hF9ffWcuU-wZ",
        "outputId": "cfac9f39-bae1-4f23-f28f-f6882d68a736"
      },
      "execution_count": 51,
      "outputs": [
        {
          "output_type": "execute_result",
          "data": {
            "text/plain": [
              "(array([ 0,  1,  2,  3,  4,  5,  6,  7,  8,  9, 10, 11, 12, 13, 14, 15]),\n",
              " <a list of 16 Text major ticklabel objects>)"
            ]
          },
          "metadata": {},
          "execution_count": 51
        },
        {
          "output_type": "display_data",
          "data": {
            "text/plain": [
              "<Figure size 576x432 with 1 Axes>"
            ],
            "image/png": "[encoded data removed]"
          },
          "metadata": {}
        }
      ]
    },
    {
      "cell_type": "markdown",
      "source": [
        "*Rock*, *Video Game Music*, *Pop*, *Rap*, and *Classical* listeners have some level of Anxiety but Video Game Music listeners have highest Anxiety."
      ],
      "metadata": {
        "id": "uiRLffHKVO9E"
      }
    },
    {
      "cell_type": "code",
      "source": [
        "plt.figure(figsize=(8,6))\n",
        "sns.barplot(x=data['Fav genre'], y=data['Insomnia'], hue=data['Music effects'], errwidth=0, palette='coolwarm')\n",
        "plt.xticks(rotation=90)"
      ],
      "metadata": {
        "colab": {
          "base_uri": "https://localhost:8080/",
          "height": 522
        },
        "id": "Zo-eL_P2VjoK",
        "outputId": "eb93d8bf-6f5e-478c-8e00-57b49c3d858b"
      },
      "execution_count": 52,
      "outputs": [
        {
          "output_type": "execute_result",
          "data": {
            "text/plain": [
              "(array([ 0,  1,  2,  3,  4,  5,  6,  7,  8,  9, 10, 11, 12, 13, 14, 15]),\n",
              " <a list of 16 Text major ticklabel objects>)"
            ]
          },
          "metadata": {},
          "execution_count": 52
        },
        {
          "output_type": "display_data",
          "data": {
            "text/plain": [
              "<Figure size 576x432 with 1 Axes>"
            ],
            "image/png": "[encoded data removed]"
          },
          "metadata": {}
        }
      ]
    },
    {
      "cell_type": "markdown",
      "source": [
        "*Rock*, *Video Game Music*, *Pop*, and *Classical* listeners have some level of Insomnia but Video Game Music listeners have highest Anxiety."
      ],
      "metadata": {
        "id": "E-dKypWWVr-i"
      }
    },
    {
      "cell_type": "code",
      "source": [
        "plt.figure(figsize=(8,6))\n",
        "sns.barplot(x=data['Fav genre'], y=data['Depression'], hue=data['Music effects'], errwidth=0, palette='coolwarm')\n",
        "plt.xticks(rotation=90)"
      ],
      "metadata": {
        "colab": {
          "base_uri": "https://localhost:8080/",
          "height": 521
        },
        "id": "MEH70nn5V6wx",
        "outputId": "d745d1be-991a-44a2-9895-12aa84cc2381"
      },
      "execution_count": 53,
      "outputs": [
        {
          "output_type": "execute_result",
          "data": {
            "text/plain": [
              "(array([ 0,  1,  2,  3,  4,  5,  6,  7,  8,  9, 10, 11, 12, 13, 14, 15]),\n",
              " <a list of 16 Text major ticklabel objects>)"
            ]
          },
          "metadata": {},
          "execution_count": 53
        },
        {
          "output_type": "display_data",
          "data": {
            "text/plain": [
              "<Figure size 576x432 with 1 Axes>"
            ],
            "image/png": "[encoded data removed]"
          },
          "metadata": {}
        }
      ]
    },
    {
      "cell_type": "markdown",
      "source": [
        "*Rock*, *Video Game Music*, *Pop*, and *Classical* listeners have high  level of Depression."
      ],
      "metadata": {
        "id": "EIV67mlVWDbP"
      }
    }
  ]
}